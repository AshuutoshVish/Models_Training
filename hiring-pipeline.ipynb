{
 "cells": [
  {
   "cell_type": "code",
   "execution_count": 1,
   "id": "49138a6b",
   "metadata": {
    "_cell_guid": "b1076dfc-b9ad-4769-8c92-a6c4dae69d19",
    "_uuid": "8f2839f25d086af736a60e9eeb907d3b93b6e0e5",
    "execution": {
     "iopub.execute_input": "2025-03-27T13:48:48.722238Z",
     "iopub.status.busy": "2025-03-27T13:48:48.721863Z",
     "iopub.status.idle": "2025-03-27T13:48:49.837759Z",
     "shell.execute_reply": "2025-03-27T13:48:49.836017Z"
    },
    "papermill": {
     "duration": 1.122231,
     "end_time": "2025-03-27T13:48:49.839977",
     "exception": false,
     "start_time": "2025-03-27T13:48:48.717746",
     "status": "completed"
    },
    "tags": []
   },
   "outputs": [
    {
     "name": "stdout",
     "output_type": "stream",
     "text": [
      "/kaggle/input/original-hiring-dataset/Hiring_dataset.csv\n"
     ]
    }
   ],
   "source": [
    "# This Python 3 environment comes with many helpful analytics libraries installed\n",
    "# It is defined by the kaggle/python Docker image: https://github.com/kaggle/docker-python\n",
    "# For example, here's several helpful packages to load\n",
    "\n",
    "import numpy as np # linear algebra\n",
    "import pandas as pd # data processing, CSV file I/O (e.g. pd.read_csv)\n",
    "\n",
    "# Input data files are available in the read-only \"../input/\" directory\n",
    "# For example, running this (by clicking run or pressing Shift+Enter) will list all files under the input directory\n",
    "\n",
    "import os\n",
    "for dirname, _, filenames in os.walk('/kaggle/input'):\n",
    "    for filename in filenames:\n",
    "        print(os.path.join(dirname, filename))\n",
    "\n",
    "# You can write up to 20GB to the current directory (/kaggle/working/) that gets preserved as output when you create a version using \"Save & Run All\" \n",
    "# You can also write temporary files to /kaggle/temp/, but they won't be saved outside of the current session"
   ]
  },
  {
   "cell_type": "code",
   "execution_count": 2,
   "id": "7f34e09b",
   "metadata": {
    "execution": {
     "iopub.execute_input": "2025-03-27T13:48:49.850190Z",
     "iopub.status.busy": "2025-03-27T13:48:49.849640Z",
     "iopub.status.idle": "2025-03-27T13:48:56.128022Z",
     "shell.execute_reply": "2025-03-27T13:48:56.126729Z"
    },
    "papermill": {
     "duration": 6.285468,
     "end_time": "2025-03-27T13:48:56.130268",
     "exception": false,
     "start_time": "2025-03-27T13:48:49.844800",
     "status": "completed"
    },
    "tags": []
   },
   "outputs": [],
   "source": [
    "#  Import Libraries\n",
    "import pandas as pd\n",
    "import numpy as np\n",
    "from sklearn.preprocessing import StandardScaler, OneHotEncoder\n",
    "from sklearn.model_selection import train_test_split\n",
    "import torch\n",
    "import torch.nn as nn\n",
    "import torch.optim as optim\n",
    "import torch.nn.functional as F\n",
    "from sklearn.metrics.pairwise import cosine_similarity"
   ]
  },
  {
   "cell_type": "code",
   "execution_count": 3,
   "id": "744e51ea",
   "metadata": {
    "execution": {
     "iopub.execute_input": "2025-03-27T13:48:56.136975Z",
     "iopub.status.busy": "2025-03-27T13:48:56.136406Z",
     "iopub.status.idle": "2025-03-27T13:48:56.178086Z",
     "shell.execute_reply": "2025-03-27T13:48:56.176676Z"
    },
    "papermill": {
     "duration": 0.047259,
     "end_time": "2025-03-27T13:48:56.180361",
     "exception": false,
     "start_time": "2025-03-27T13:48:56.133102",
     "status": "completed"
    },
    "tags": []
   },
   "outputs": [],
   "source": [
    "\n",
    "#  Load Dataset\n",
    "file_path = '/kaggle/input/original-hiring-dataset/Hiring_dataset.csv'\n",
    "df = pd.read_csv(file_path)\n",
    "\n",
    "#  Preprocessing\n",
    "X = df.drop(['HiringDecision'], axis=1)\n",
    "y = df['HiringDecision']"
   ]
  },
  {
   "cell_type": "code",
   "execution_count": 4,
   "id": "804e1270",
   "metadata": {
    "execution": {
     "iopub.execute_input": "2025-03-27T13:48:56.188110Z",
     "iopub.status.busy": "2025-03-27T13:48:56.187707Z",
     "iopub.status.idle": "2025-03-27T13:49:03.765142Z",
     "shell.execute_reply": "2025-03-27T13:49:03.763798Z"
    },
    "papermill": {
     "duration": 7.583197,
     "end_time": "2025-03-27T13:49:03.767144",
     "exception": false,
     "start_time": "2025-03-27T13:48:56.183947",
     "status": "completed"
    },
    "tags": []
   },
   "outputs": [
    {
     "name": "stdout",
     "output_type": "stream",
     "text": [
      "Epoch [10/50], Loss: -0.0652\n",
      "Epoch [20/50], Loss: -0.0343\n",
      "Epoch [30/50], Loss: 0.0393\n",
      "Epoch [40/50], Loss: -0.0363\n",
      "Epoch [50/50], Loss: 0.1091\n",
      "\n",
      " Embeddings Generated Successfully!\n",
      "Train Embeddings Shape: (1200, 64)\n",
      "Test Embeddings Shape: (300, 64)\n",
      "\\ Top Recommended Candidates:\n",
      "   Candidate_Index  Similarity_Score\n",
      "0               54          0.968436\n",
      "1               91          0.947615\n",
      "2               48          0.942561\n",
      "3              138          0.936387\n",
      "4                0          0.934026\n"
     ]
    }
   ],
   "source": [
    "\n",
    "\n",
    "#  Identify Numerical & Categorical Features\n",
    "numerical_features = X.select_dtypes(include=['int64', 'float64']).columns.tolist()\n",
    "categorical_features = X.select_dtypes(include=['object']).columns.tolist()\n",
    "\n",
    "#  Scale Numerical Features\n",
    "scaler = StandardScaler()\n",
    "X_numerical = scaler.fit_transform(X[numerical_features])\n",
    "\n",
    "#  Encode Categorical Features\n",
    "encoder = OneHotEncoder()\n",
    "X_categorical = encoder.fit_transform(X[categorical_features]).toarray()\n",
    "\n",
    "#  Combine Preprocessed Features\n",
    "X_preprocessed = np.hstack((X_numerical, X_categorical))\n",
    "\n",
    "#  Split Data\n",
    "X_train, X_test = train_test_split(X_preprocessed, test_size=0.2, random_state=42)\n",
    "\n",
    "# Convert to PyTorch tensors\n",
    "X_train_tensor = torch.tensor(X_train, dtype=torch.float32)\n",
    "X_test_tensor = torch.tensor(X_test, dtype=torch.float32)\n",
    "\n",
    "#  Deep Learning Model (Autoencoder-like)\n",
    "class ContentBasedRecommender(nn.Module):\n",
    "    def __init__(self, input_dim, embedding_dim=64):\n",
    "        super(ContentBasedRecommender, self).__init__()\n",
    "        self.fc1 = nn.Linear(input_dim, 128)\n",
    "        self.fc2 = nn.Linear(128, 64)\n",
    "        self.fc3 = nn.Linear(64, embedding_dim)\n",
    "        \n",
    "    def forward(self, x):\n",
    "        x = torch.relu(self.fc1(x))\n",
    "        x = torch.relu(self.fc2(x))\n",
    "        x = self.fc3(x)\n",
    "        return x\n",
    "\n",
    "#  Initialize Model\n",
    "input_dim = X_train_tensor.shape[1]\n",
    "embedding_dim = 64\n",
    "\n",
    "model = ContentBasedRecommender(input_dim, embedding_dim)\n",
    "optimizer = optim.Adam(model.parameters(), lr=0.001)\n",
    "criterion = nn.MSELoss()\n",
    "\n",
    "#  Contrastive Loss Function (Fixed)\n",
    "def contrastive_loss(embeddings):\n",
    "    \"\"\"\n",
    "    Contrastive loss using cosine similarity in the embedding space.\n",
    "    \"\"\"\n",
    "    batch_size = embeddings.shape[0]\n",
    "\n",
    "    # Randomly select positive and negative samples\n",
    "    idx = torch.randperm(batch_size)\n",
    "\n",
    "    positive = embeddings\n",
    "    negative = embeddings[idx]\n",
    "\n",
    "    #  Cosine similarities\n",
    "    sim_pos = F.cosine_similarity(positive, positive)  # Similarities with itself (should be 1)\n",
    "    sim_neg = F.cosine_similarity(positive, negative)  # Similarities with random negatives\n",
    "\n",
    "    #  Contrastive loss calculation\n",
    "    loss = torch.mean(1 - sim_pos + sim_neg)\n",
    "    return loss\n",
    "\n",
    "# Training Loop\n",
    "epochs = 50\n",
    "batch_size = 64\n",
    "\n",
    "for epoch in range(epochs):\n",
    "    model.train()\n",
    "\n",
    "    for i in range(0, len(X_train_tensor), batch_size):\n",
    "        batch = X_train_tensor[i:i + batch_size]\n",
    "\n",
    "        optimizer.zero_grad()\n",
    "\n",
    "        # Forward pass\n",
    "        embeddings = model(batch)\n",
    "\n",
    "        # Contrastive loss (fixed)\n",
    "        loss = contrastive_loss(embeddings)\n",
    "\n",
    "        #  Backward pass\n",
    "        loss.backward()\n",
    "        optimizer.step()\n",
    "\n",
    "    if (epoch + 1) % 10 == 0:\n",
    "        print(f'Epoch [{epoch+1}/{epochs}], Loss: {loss.item():.4f}')\n",
    "\n",
    "# Get Embeddings\n",
    "model.eval()\n",
    "train_embeddings = model(X_train_tensor).detach().numpy()\n",
    "test_embeddings = model(X_test_tensor).detach().numpy()\n",
    "\n",
    "print(\"\\n Embeddings Generated Successfully!\")\n",
    "print(\"Train Embeddings Shape:\", train_embeddings.shape)\n",
    "print(\"Test Embeddings Shape:\", test_embeddings.shape)\n",
    "\n",
    "#  Recommendation System\n",
    "def recommend_candidates(target_profile, top_n=5):\n",
    "    \"\"\"\n",
    "    Recommend top-N candidates based on similarity to the target profile.\n",
    "    \"\"\"\n",
    "    #  Preprocess Target Profile\n",
    "    target_numerical = scaler.transform(target_profile[numerical_features])\n",
    "    target_categorical = encoder.transform(target_profile[categorical_features]).toarray()\n",
    "    target_preprocessed = np.hstack((target_numerical, target_categorical))\n",
    "    \n",
    "    # Convert to PyTorch tensor\n",
    "    target_tensor = torch.tensor(target_preprocessed, dtype=torch.float32)\n",
    "\n",
    "    # Generate target embedding\n",
    "    with torch.no_grad():\n",
    "        target_embedding = model(target_tensor).detach().numpy()\n",
    "\n",
    "    # Calculate cosine similarities\n",
    "    similarities = cosine_similarity(target_embedding, test_embeddings)[0]\n",
    "\n",
    "    # Rank candidates by similarity\n",
    "    ranked_indices = np.argsort(similarities)[::-1]\n",
    "    top_candidates = ranked_indices[:top_n]\n",
    "\n",
    "    #  Prepare Recommendation DataFrame\n",
    "    recommendations = pd.DataFrame({\n",
    "        'Candidate_Index': top_candidates,\n",
    "        'Similarity_Score': similarities[top_candidates]\n",
    "    })\n",
    "    \n",
    "    return recommendations\n",
    "\n",
    "#  Sample Target Profile\n",
    "sample_target = pd.DataFrame({\n",
    "    'Age': [35],\n",
    "    'Gender': ['Male'],\n",
    "    'EducationLevel': [\"Master's\"],\n",
    "    'ExperienceYears': [8],\n",
    "    'PreviousCompanies': [3],\n",
    "    'DistanceFromCompany': [20],\n",
    "    'InterviewScore': [75],\n",
    "    'SkillScore': [80],\n",
    "    'PersonalityScore': [85],\n",
    "    'RecruitmentStrategy': ['Aggressive']\n",
    "})\n",
    "\n",
    "# Recommend Candidates\n",
    "recommendations = recommend_candidates(sample_target, top_n=5)\n",
    "print(\"\\ Top Recommended Candidates:\")\n",
    "print(recommendations)\n"
   ]
  },
  {
   "cell_type": "code",
   "execution_count": 5,
   "id": "5194dfec",
   "metadata": {
    "execution": {
     "iopub.execute_input": "2025-03-27T13:49:03.774709Z",
     "iopub.status.busy": "2025-03-27T13:49:03.774063Z",
     "iopub.status.idle": "2025-03-27T13:49:03.791450Z",
     "shell.execute_reply": "2025-03-27T13:49:03.790251Z"
    },
    "papermill": {
     "duration": 0.02331,
     "end_time": "2025-03-27T13:49:03.793656",
     "exception": false,
     "start_time": "2025-03-27T13:49:03.770346",
     "status": "completed"
    },
    "tags": []
   },
   "outputs": [
    {
     "data": {
      "text/html": [
       "<div>\n",
       "<style scoped>\n",
       "    .dataframe tbody tr th:only-of-type {\n",
       "        vertical-align: middle;\n",
       "    }\n",
       "\n",
       "    .dataframe tbody tr th {\n",
       "        vertical-align: top;\n",
       "    }\n",
       "\n",
       "    .dataframe thead th {\n",
       "        text-align: right;\n",
       "    }\n",
       "</style>\n",
       "<table border=\"1\" class=\"dataframe\">\n",
       "  <thead>\n",
       "    <tr style=\"text-align: right;\">\n",
       "      <th></th>\n",
       "      <th>Candidate_Index</th>\n",
       "      <th>Similarity_Score</th>\n",
       "    </tr>\n",
       "  </thead>\n",
       "  <tbody>\n",
       "    <tr>\n",
       "      <th>0</th>\n",
       "      <td>54</td>\n",
       "      <td>0.968436</td>\n",
       "    </tr>\n",
       "    <tr>\n",
       "      <th>1</th>\n",
       "      <td>91</td>\n",
       "      <td>0.947615</td>\n",
       "    </tr>\n",
       "    <tr>\n",
       "      <th>2</th>\n",
       "      <td>48</td>\n",
       "      <td>0.942561</td>\n",
       "    </tr>\n",
       "    <tr>\n",
       "      <th>3</th>\n",
       "      <td>138</td>\n",
       "      <td>0.936387</td>\n",
       "    </tr>\n",
       "    <tr>\n",
       "      <th>4</th>\n",
       "      <td>0</td>\n",
       "      <td>0.934026</td>\n",
       "    </tr>\n",
       "  </tbody>\n",
       "</table>\n",
       "</div>"
      ],
      "text/plain": [
       "   Candidate_Index  Similarity_Score\n",
       "0               54          0.968436\n",
       "1               91          0.947615\n",
       "2               48          0.942561\n",
       "3              138          0.936387\n",
       "4                0          0.934026"
      ]
     },
     "execution_count": 5,
     "metadata": {},
     "output_type": "execute_result"
    }
   ],
   "source": [
    "recommendations"
   ]
  }
 ],
 "metadata": {
  "kaggle": {
   "accelerator": "none",
   "dataSources": [
    {
     "datasetId": 6979021,
     "sourceId": 11181138,
     "sourceType": "datasetVersion"
    }
   ],
   "dockerImageVersionId": 30918,
   "isGpuEnabled": false,
   "isInternetEnabled": true,
   "language": "python",
   "sourceType": "notebook"
  },
  "kernelspec": {
   "display_name": "Python 3",
   "language": "python",
   "name": "python3"
  },
  "language_info": {
   "codemirror_mode": {
    "name": "ipython",
    "version": 3
   },
   "file_extension": ".py",
   "mimetype": "text/x-python",
   "name": "python",
   "nbconvert_exporter": "python",
   "pygments_lexer": "ipython3",
   "version": "3.10.12"
  },
  "papermill": {
   "default_parameters": {},
   "duration": 20.621549,
   "end_time": "2025-03-27T13:49:06.404042",
   "environment_variables": {},
   "exception": null,
   "input_path": "__notebook__.ipynb",
   "output_path": "__notebook__.ipynb",
   "parameters": {},
   "start_time": "2025-03-27T13:48:45.782493",
   "version": "2.6.0"
  }
 },
 "nbformat": 4,
 "nbformat_minor": 5
}
