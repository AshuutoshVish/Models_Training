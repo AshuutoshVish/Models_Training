{
 "cells": [
  {
   "cell_type": "code",
   "execution_count": 1,
   "id": "8cc39780",
   "metadata": {
    "execution": {
     "iopub.execute_input": "2025-03-26T06:36:20.492392Z",
     "iopub.status.busy": "2025-03-26T06:36:20.492093Z",
     "iopub.status.idle": "2025-03-26T06:36:31.588448Z",
     "shell.execute_reply": "2025-03-26T06:36:31.587490Z"
    },
    "papermill": {
     "duration": 11.105165,
     "end_time": "2025-03-26T06:36:31.590175",
     "exception": false,
     "start_time": "2025-03-26T06:36:20.485010",
     "status": "completed"
    },
    "tags": []
   },
   "outputs": [],
   "source": [
    "import time\n",
    "import torch\n",
    "import numpy as np\n",
    "import pandas as pd\n",
    "import torch.nn as nn\n",
    "from sklearn.model_selection import train_test_split\n",
    "from sklearn.compose import ColumnTransformer\n",
    "from sklearn.preprocessing import LabelEncoder, OrdinalEncoder, OneHotEncoder, StandardScaler, FunctionTransformer\n",
    "from sklearn.pipeline import Pipeline\n",
    "from sklearn import set_config\n",
    "\n",
    "from torchmetrics import Accuracy\n",
    "from torch.utils.data import Dataset, DataLoader\n",
    "from sklearn.metrics import accuracy_score, precision_score, recall_score, f1_score, roc_auc_score"
   ]
  },
  {
   "cell_type": "code",
   "execution_count": 2,
   "id": "d9969f0c",
   "metadata": {
    "execution": {
     "iopub.execute_input": "2025-03-26T06:36:31.602103Z",
     "iopub.status.busy": "2025-03-26T06:36:31.601671Z",
     "iopub.status.idle": "2025-03-26T06:36:31.747259Z",
     "shell.execute_reply": "2025-03-26T06:36:31.746562Z"
    },
    "papermill": {
     "duration": 0.152747,
     "end_time": "2025-03-26T06:36:31.748649",
     "exception": false,
     "start_time": "2025-03-26T06:36:31.595902",
     "status": "completed"
    },
    "tags": []
   },
   "outputs": [],
   "source": [
    "df=pd.read_csv('/kaggle/input/byjus-data-clean/Byjus.csv')"
   ]
  },
  {
   "cell_type": "code",
   "execution_count": 3,
   "id": "c05bd450",
   "metadata": {
    "execution": {
     "iopub.execute_input": "2025-03-26T06:36:31.760066Z",
     "iopub.status.busy": "2025-03-26T06:36:31.759822Z",
     "iopub.status.idle": "2025-03-26T06:36:31.764510Z",
     "shell.execute_reply": "2025-03-26T06:36:31.763818Z"
    },
    "papermill": {
     "duration": 0.011721,
     "end_time": "2025-03-26T06:36:31.765768",
     "exception": false,
     "start_time": "2025-03-26T06:36:31.754047",
     "status": "completed"
    },
    "tags": []
   },
   "outputs": [
    {
     "data": {
      "text/plain": [
       "(18510, 30)"
      ]
     },
     "execution_count": 3,
     "metadata": {},
     "output_type": "execute_result"
    }
   ],
   "source": [
    "df.shape"
   ]
  },
  {
   "cell_type": "code",
   "execution_count": 4,
   "id": "e8dbcd40",
   "metadata": {
    "execution": {
     "iopub.execute_input": "2025-03-26T06:36:31.776956Z",
     "iopub.status.busy": "2025-03-26T06:36:31.776732Z",
     "iopub.status.idle": "2025-03-26T06:36:31.780708Z",
     "shell.execute_reply": "2025-03-26T06:36:31.780082Z"
    },
    "papermill": {
     "duration": 0.010834,
     "end_time": "2025-03-26T06:36:31.781849",
     "exception": false,
     "start_time": "2025-03-26T06:36:31.771015",
     "status": "completed"
    },
    "tags": []
   },
   "outputs": [],
   "source": [
    "def convert_age(X):\n",
    "    X = X.copy()\n",
    "    X['age'] = pd.to_numeric(X['age'].astype(str).str.replace('+', '', regex=False), errors='coerce')\n",
    "    X['age'] = pd.cut(X['age'], \n",
    "                      bins=[18, 22, 25, 28, 32, 35, float('inf')],\n",
    "                      labels=['18-22', '23-25', '26-28', '29-32', '33-35', '35+'], \n",
    "                      right=True)\n",
    "    return X"
   ]
  },
  {
   "cell_type": "code",
   "execution_count": 5,
   "id": "2e04906d",
   "metadata": {
    "execution": {
     "iopub.execute_input": "2025-03-26T06:36:31.792796Z",
     "iopub.status.busy": "2025-03-26T06:36:31.792568Z",
     "iopub.status.idle": "2025-03-26T06:36:31.798254Z",
     "shell.execute_reply": "2025-03-26T06:36:31.797661Z"
    },
    "papermill": {
     "duration": 0.012421,
     "end_time": "2025-03-26T06:36:31.799410",
     "exception": false,
     "start_time": "2025-03-26T06:36:31.786989",
     "status": "completed"
    },
    "tags": []
   },
   "outputs": [],
   "source": [
    "# Education mapping\n",
    "education_mapping = {'engineering & technology': ['b.e / b-tech', 'bca/mca','m.e / m-tech', 'b.voc in networking and mobile applications', \n",
    "                                                  'b.arch', 'b.eng', 'b-tech', 'cse', 'bsc bedd - computer science', 'bachelors in engineering',\n",
    "                                                  'food technology', 'biotechnology', 'masters in data science','mtech', 'btech', 'mca'],\n",
    "                     \n",
    "                     'bsc/msc': ['bsc', 'bsc or msc', 'bachelors in philosophy'],\n",
    "                     'commerce & business': ['mba', 'b.com (bachelor of commerce)', 'b.com', 'b.comm', 'bba', 'bbm', 'bms', 'bachelor of business economics',\n",
    "                                             'bcom computers','bms marketing', 'pgdm banking','bcom', 'bba or bbm', 'master in management'],\n",
    "                     \n",
    "                     'arts & humanities': ['ba', 'ba/ma', 'ma', 'bachelor mass communication', 'bachelors in design', 'bachelor of social work', 'bachelor in eco'],\n",
    "                     'healthcare & medicine': ['b.pharma', 'med', 'bpharma', 'bds', 'b.physiotherapist', 'mbbs', 'pharma d', 'b -pharm', 'bachelor in medical lab', 'bachelor in dental'],\n",
    "                     'social sciences': ['masters in social work', 'msw', 'masters in clinical psychology', 'masters in social science', 'masters in sociology'],\n",
    "                     'diplomas & certifications': ['pgdm', 'pgdca', 'diploma', 'post graduation diploma', 'pgdf'],\n",
    "                     'phd & doctorate': ['phd', 'doctorate',  'm.phil  2020'],\n",
    "                     'vocational/technical': ['b.voc', 'vocational', 'bachelor of vocational','b voc - banking & finance'],\n",
    "                     'hospitality & tourism': ['hotel management', 'masters in hospitality', 'tourism']}\n",
    "\n",
    "def edu_function(degree):\n",
    "    degree = str(degree).lower()\n",
    "    for category, keywords in education_mapping.items():\n",
    "        for keyword in keywords:\n",
    "            if keyword.lower() in degree:\n",
    "                return category\n",
    "    return 'Other'\n",
    "\n",
    "def categorize_degree(X):\n",
    "    X = X.copy()\n",
    "    X['Education'] = X['Education'].str.lower().fillna('Other')\n",
    "    X['Education'] = X['Education'].apply(edu_function)\n",
    "    return X"
   ]
  },
  {
   "cell_type": "code",
   "execution_count": 6,
   "id": "cd5dd580",
   "metadata": {
    "execution": {
     "iopub.execute_input": "2025-03-26T06:36:31.810310Z",
     "iopub.status.busy": "2025-03-26T06:36:31.810105Z",
     "iopub.status.idle": "2025-03-26T06:36:31.858401Z",
     "shell.execute_reply": "2025-03-26T06:36:31.857367Z"
    },
    "papermill": {
     "duration": 0.05538,
     "end_time": "2025-03-26T06:36:31.859959",
     "exception": false,
     "start_time": "2025-03-26T06:36:31.804579",
     "status": "completed"
    },
    "tags": []
   },
   "outputs": [
    {
     "name": "stdout",
     "output_type": "stream",
     "text": [
      "gender----2\n",
      "marital_status----3\n",
      "interview_mode----2\n",
      "mother_tongue_influence_in_english----2\n",
      "Anyone_spoken_before_applying----2\n",
      "candidate_status----4\n",
      "last_fixed_ctc_(lakhs)----8\n",
      "currently_employed----2\n",
      "experience_in_months----8\n",
      "what_was_the_type_of_role?----3\n",
      "how_many_slides_candidate_have_submitted_in_ppt?----8\n",
      "role_acceptance----3\n",
      "interview_verdict----5\n",
      "candidate_is_willing_to_relocate----4\n",
      "confidence_based_on_introduction_(english)----3\n",
      "confidence_based_on_the_topic_given__----3\n",
      "confidence_based_on_the_ppt_question----3\n",
      "confidence_based_on_the_sales_scenario----3\n",
      "structured_thinking_(in_regional_only)----3\n",
      "structured_thinking_based_on_the_ppt_question----3\n",
      "structured_thinking(_call_pitch)----3\n",
      "regional_fluency_based_on_the_topic_given__----4\n",
      "regional_fluency_based_on_the_ppt_question----4\n",
      "regional_fluency_based_on_the__sales_scenario----4\n",
      "confidence_score----9\n",
      "structured_thinking_score----7\n",
      "regional_fluency_score----10\n"
     ]
    }
   ],
   "source": [
    "for col in df.columns:\n",
    "    if df[col].nunique()>10:\n",
    "        continue\n",
    "    print(f\"{col}----{df[col].nunique()}\")"
   ]
  },
  {
   "cell_type": "code",
   "execution_count": 7,
   "id": "3409dec3",
   "metadata": {
    "execution": {
     "iopub.execute_input": "2025-03-26T06:36:31.871680Z",
     "iopub.status.busy": "2025-03-26T06:36:31.871404Z",
     "iopub.status.idle": "2025-03-26T06:36:31.875441Z",
     "shell.execute_reply": "2025-03-26T06:36:31.874825Z"
    },
    "papermill": {
     "duration": 0.010889,
     "end_time": "2025-03-26T06:36:31.876519",
     "exception": false,
     "start_time": "2025-03-26T06:36:31.865630",
     "status": "completed"
    },
    "tags": []
   },
   "outputs": [],
   "source": [
    "def label_encoder(X):\n",
    "    X = X.copy()\n",
    "    label_encoders = {}\n",
    "    categorical_cols = ['gender',\n",
    "                        'marital_status',\n",
    "                        'interview_mode', \n",
    "                        'mother_tongue_influence_in_english',\n",
    "                        'Anyone_spoken_before_applying', \n",
    "                        'currently_employed',\n",
    "                        'candidate_status']\n",
    "\n",
    "    for col in categorical_cols:\n",
    "        X[col] = X[col].fillna('Unknown')\n",
    "        le = LabelEncoder()\n",
    "        X[col] = le.fit_transform(X[col])\n",
    "        label_encoders[col] = le\n",
    "    return X"
   ]
  },
  {
   "cell_type": "code",
   "execution_count": 8,
   "id": "1250b1e4",
   "metadata": {
    "execution": {
     "iopub.execute_input": "2025-03-26T06:36:31.887716Z",
     "iopub.status.busy": "2025-03-26T06:36:31.887460Z",
     "iopub.status.idle": "2025-03-26T06:36:31.894353Z",
     "shell.execute_reply": "2025-03-26T06:36:31.893753Z"
    },
    "papermill": {
     "duration": 0.013656,
     "end_time": "2025-03-26T06:36:31.895473",
     "exception": false,
     "start_time": "2025-03-26T06:36:31.881817",
     "status": "completed"
    },
    "tags": []
   },
   "outputs": [],
   "source": [
    "df['interview_verdict'] = df['interview_verdict'].replace({'Premium Select': 'Select', 'Borderline Select': 'Select', 'Borderline Reject': 'Reject'})"
   ]
  },
  {
   "cell_type": "code",
   "execution_count": 9,
   "id": "22717a9a",
   "metadata": {
    "execution": {
     "iopub.execute_input": "2025-03-26T06:36:31.907020Z",
     "iopub.status.busy": "2025-03-26T06:36:31.906768Z",
     "iopub.status.idle": "2025-03-26T06:36:31.913892Z",
     "shell.execute_reply": "2025-03-26T06:36:31.913096Z"
    },
    "papermill": {
     "duration": 0.014203,
     "end_time": "2025-03-26T06:36:31.915154",
     "exception": false,
     "start_time": "2025-03-26T06:36:31.900951",
     "status": "completed"
    },
    "tags": []
   },
   "outputs": [],
   "source": [
    "# Label encode the target\n",
    "le_verdict = LabelEncoder()\n",
    "df['interview_verdict'] = le_verdict.fit_transform(df['interview_verdict'])\n"
   ]
  },
  {
   "cell_type": "code",
   "execution_count": 10,
   "id": "0d2621c6",
   "metadata": {
    "execution": {
     "iopub.execute_input": "2025-03-26T06:36:31.926572Z",
     "iopub.status.busy": "2025-03-26T06:36:31.926313Z",
     "iopub.status.idle": "2025-03-26T06:36:31.931417Z",
     "shell.execute_reply": "2025-03-26T06:36:31.930601Z"
    },
    "papermill": {
     "duration": 0.012136,
     "end_time": "2025-03-26T06:36:31.932583",
     "exception": false,
     "start_time": "2025-03-26T06:36:31.920447",
     "status": "completed"
    },
    "tags": []
   },
   "outputs": [],
   "source": [
    "numerical_cols = ['confidence_based_on_introduction_(english)',\n",
    "                  'confidence_based_on_the_topic_given__',\n",
    "                  'confidence_based_on_the_ppt_question',\n",
    "                  'confidence_based_on_the_sales_scenario',\n",
    "                  'structured_thinking_(in_regional_only)',\n",
    "                  'structured_thinking_based_on_the_ppt_question',\n",
    "                  'structured_thinking(_call_pitch)',\n",
    "                  'regional_fluency_based_on_the_topic_given__',\n",
    "                  'regional_fluency_based_on_the_ppt_question',\n",
    "                  'regional_fluency_based_on_the__sales_scenario',\n",
    "                  'confidence_score',\n",
    "                  'structured_thinking_score',\n",
    "                  'regional_fluency_score',\n",
    "                  'total_score'\n",
    "                 ]\n",
    "\n",
    "categorical_cols = ['Education',\n",
    "                    'gender',\n",
    "                    'marital_status',\n",
    "                    'interview_mode',\n",
    "                    'mother_tongue_influence_in_english',\n",
    "                    'Anyone_spoken_before_applying',\n",
    "                    'currently_employed',\n",
    "                    'candidate_status', \n",
    "                    'candidate_is_willing_to_relocate',\n",
    "                    'last_fixed_ctc_(lakhs)', \n",
    "                    'experience_in_months',\n",
    "                    'what_was_the_type_of_role?',\n",
    "                    'how_many_slides_candidate_have_submitted_in_ppt?', \n",
    "                    'role_acceptance', \n",
    "                    'age']\n",
    "\n",
    "preprocessing_pipeline = Pipeline([('convert_age', FunctionTransformer(convert_age, validate=False)),\n",
    "                                   ('categorize_education', FunctionTransformer(categorize_degree, validate=False)),\n",
    "                                   ('label_encoder', FunctionTransformer(label_encoder, validate=False)),\n",
    "                                   ('encode_scale', ColumnTransformer(transformers=[\n",
    "                                       ('onehot', OneHotEncoder(sparse_output=False, drop='first'), categorical_cols),        #  One-hot encode categorical features\n",
    "                                       ('scaler', StandardScaler(), numerical_cols)                                           #  StandardScaler for all numerical columns\n",
    "                                   ], remainder='passthrough'))\n",
    "                                  ])"
   ]
  },
  {
   "cell_type": "code",
   "execution_count": 11,
   "id": "92c3f832",
   "metadata": {
    "execution": {
     "iopub.execute_input": "2025-03-26T06:36:31.943754Z",
     "iopub.status.busy": "2025-03-26T06:36:31.943504Z",
     "iopub.status.idle": "2025-03-26T06:36:31.973182Z",
     "shell.execute_reply": "2025-03-26T06:36:31.972361Z"
    },
    "papermill": {
     "duration": 0.036573,
     "end_time": "2025-03-26T06:36:31.974438",
     "exception": false,
     "start_time": "2025-03-26T06:36:31.937865",
     "status": "completed"
    },
    "tags": []
   },
   "outputs": [
    {
     "data": {
      "text/html": [
       "<style>#sk-container-id-1 {color: black;background-color: white;}#sk-container-id-1 pre{padding: 0;}#sk-container-id-1 div.sk-toggleable {background-color: white;}#sk-container-id-1 label.sk-toggleable__label {cursor: pointer;display: block;width: 100%;margin-bottom: 0;padding: 0.3em;box-sizing: border-box;text-align: center;}#sk-container-id-1 label.sk-toggleable__label-arrow:before {content: \"▸\";float: left;margin-right: 0.25em;color: #696969;}#sk-container-id-1 label.sk-toggleable__label-arrow:hover:before {color: black;}#sk-container-id-1 div.sk-estimator:hover label.sk-toggleable__label-arrow:before {color: black;}#sk-container-id-1 div.sk-toggleable__content {max-height: 0;max-width: 0;overflow: hidden;text-align: left;background-color: #f0f8ff;}#sk-container-id-1 div.sk-toggleable__content pre {margin: 0.2em;color: black;border-radius: 0.25em;background-color: #f0f8ff;}#sk-container-id-1 input.sk-toggleable__control:checked~div.sk-toggleable__content {max-height: 200px;max-width: 100%;overflow: auto;}#sk-container-id-1 input.sk-toggleable__control:checked~label.sk-toggleable__label-arrow:before {content: \"▾\";}#sk-container-id-1 div.sk-estimator input.sk-toggleable__control:checked~label.sk-toggleable__label {background-color: #d4ebff;}#sk-container-id-1 div.sk-label input.sk-toggleable__control:checked~label.sk-toggleable__label {background-color: #d4ebff;}#sk-container-id-1 input.sk-hidden--visually {border: 0;clip: rect(1px 1px 1px 1px);clip: rect(1px, 1px, 1px, 1px);height: 1px;margin: -1px;overflow: hidden;padding: 0;position: absolute;width: 1px;}#sk-container-id-1 div.sk-estimator {font-family: monospace;background-color: #f0f8ff;border: 1px dotted black;border-radius: 0.25em;box-sizing: border-box;margin-bottom: 0.5em;}#sk-container-id-1 div.sk-estimator:hover {background-color: #d4ebff;}#sk-container-id-1 div.sk-parallel-item::after {content: \"\";width: 100%;border-bottom: 1px solid gray;flex-grow: 1;}#sk-container-id-1 div.sk-label:hover label.sk-toggleable__label {background-color: #d4ebff;}#sk-container-id-1 div.sk-serial::before {content: \"\";position: absolute;border-left: 1px solid gray;box-sizing: border-box;top: 0;bottom: 0;left: 50%;z-index: 0;}#sk-container-id-1 div.sk-serial {display: flex;flex-direction: column;align-items: center;background-color: white;padding-right: 0.2em;padding-left: 0.2em;position: relative;}#sk-container-id-1 div.sk-item {position: relative;z-index: 1;}#sk-container-id-1 div.sk-parallel {display: flex;align-items: stretch;justify-content: center;background-color: white;position: relative;}#sk-container-id-1 div.sk-item::before, #sk-container-id-1 div.sk-parallel-item::before {content: \"\";position: absolute;border-left: 1px solid gray;box-sizing: border-box;top: 0;bottom: 0;left: 50%;z-index: -1;}#sk-container-id-1 div.sk-parallel-item {display: flex;flex-direction: column;z-index: 1;position: relative;background-color: white;}#sk-container-id-1 div.sk-parallel-item:first-child::after {align-self: flex-end;width: 50%;}#sk-container-id-1 div.sk-parallel-item:last-child::after {align-self: flex-start;width: 50%;}#sk-container-id-1 div.sk-parallel-item:only-child::after {width: 0;}#sk-container-id-1 div.sk-dashed-wrapped {border: 1px dashed gray;margin: 0 0.4em 0.5em 0.4em;box-sizing: border-box;padding-bottom: 0.4em;background-color: white;}#sk-container-id-1 div.sk-label label {font-family: monospace;font-weight: bold;display: inline-block;line-height: 1.2em;}#sk-container-id-1 div.sk-label-container {text-align: center;}#sk-container-id-1 div.sk-container {/* jupyter's `normalize.less` sets `[hidden] { display: none; }` but bootstrap.min.css set `[hidden] { display: none !important; }` so we also need the `!important` here to be able to override the default hidden behavior on the sphinx rendered scikit-learn.org. See: https://github.com/scikit-learn/scikit-learn/issues/21755 */display: inline-block !important;position: relative;}#sk-container-id-1 div.sk-text-repr-fallback {display: none;}</style><div id=\"sk-container-id-1\" class=\"sk-top-container\"><div class=\"sk-text-repr-fallback\"><pre>Pipeline(steps=[(&#x27;convert_age&#x27;,\n",
       "                 FunctionTransformer(func=&lt;function convert_age at 0x7b6bb5dca560&gt;)),\n",
       "                (&#x27;categorize_education&#x27;,\n",
       "                 FunctionTransformer(func=&lt;function categorize_degree at 0x7b6bb5dcb130&gt;)),\n",
       "                (&#x27;label_encoder&#x27;,\n",
       "                 FunctionTransformer(func=&lt;function label_encoder at 0x7b6bb5dcb1c0&gt;)),\n",
       "                (&#x27;encode_scale&#x27;,\n",
       "                 ColumnTransformer(remainder=&#x27;passthrough&#x27;,\n",
       "                                   transformers=[(&#x27;o...\n",
       "                                                   &#x27;structured_thinking_(in_regional_only)&#x27;,\n",
       "                                                   &#x27;structured_thinking_based_on_the_ppt_question&#x27;,\n",
       "                                                   &#x27;structured_thinking(_call_pitch)&#x27;,\n",
       "                                                   &#x27;regional_fluency_based_on_the_topic_given__&#x27;,\n",
       "                                                   &#x27;regional_fluency_based_on_the_ppt_question&#x27;,\n",
       "                                                   &#x27;regional_fluency_based_on_the__sales_scenario&#x27;,\n",
       "                                                   &#x27;confidence_score&#x27;,\n",
       "                                                   &#x27;structured_thinking_score&#x27;,\n",
       "                                                   &#x27;regional_fluency_score&#x27;,\n",
       "                                                   &#x27;total_score&#x27;])]))])</pre><b>In a Jupyter environment, please rerun this cell to show the HTML representation or trust the notebook. <br />On GitHub, the HTML representation is unable to render, please try loading this page with nbviewer.org.</b></div><div class=\"sk-container\" hidden><div class=\"sk-item sk-dashed-wrapped\"><div class=\"sk-label-container\"><div class=\"sk-label sk-toggleable\"><input class=\"sk-toggleable__control sk-hidden--visually\" id=\"sk-estimator-id-1\" type=\"checkbox\" ><label for=\"sk-estimator-id-1\" class=\"sk-toggleable__label sk-toggleable__label-arrow\">Pipeline</label><div class=\"sk-toggleable__content\"><pre>Pipeline(steps=[(&#x27;convert_age&#x27;,\n",
       "                 FunctionTransformer(func=&lt;function convert_age at 0x7b6bb5dca560&gt;)),\n",
       "                (&#x27;categorize_education&#x27;,\n",
       "                 FunctionTransformer(func=&lt;function categorize_degree at 0x7b6bb5dcb130&gt;)),\n",
       "                (&#x27;label_encoder&#x27;,\n",
       "                 FunctionTransformer(func=&lt;function label_encoder at 0x7b6bb5dcb1c0&gt;)),\n",
       "                (&#x27;encode_scale&#x27;,\n",
       "                 ColumnTransformer(remainder=&#x27;passthrough&#x27;,\n",
       "                                   transformers=[(&#x27;o...\n",
       "                                                   &#x27;structured_thinking_(in_regional_only)&#x27;,\n",
       "                                                   &#x27;structured_thinking_based_on_the_ppt_question&#x27;,\n",
       "                                                   &#x27;structured_thinking(_call_pitch)&#x27;,\n",
       "                                                   &#x27;regional_fluency_based_on_the_topic_given__&#x27;,\n",
       "                                                   &#x27;regional_fluency_based_on_the_ppt_question&#x27;,\n",
       "                                                   &#x27;regional_fluency_based_on_the__sales_scenario&#x27;,\n",
       "                                                   &#x27;confidence_score&#x27;,\n",
       "                                                   &#x27;structured_thinking_score&#x27;,\n",
       "                                                   &#x27;regional_fluency_score&#x27;,\n",
       "                                                   &#x27;total_score&#x27;])]))])</pre></div></div></div><div class=\"sk-serial\"><div class=\"sk-item\"><div class=\"sk-estimator sk-toggleable\"><input class=\"sk-toggleable__control sk-hidden--visually\" id=\"sk-estimator-id-2\" type=\"checkbox\" ><label for=\"sk-estimator-id-2\" class=\"sk-toggleable__label sk-toggleable__label-arrow\">FunctionTransformer</label><div class=\"sk-toggleable__content\"><pre>FunctionTransformer(func=&lt;function convert_age at 0x7b6bb5dca560&gt;)</pre></div></div></div><div class=\"sk-item\"><div class=\"sk-estimator sk-toggleable\"><input class=\"sk-toggleable__control sk-hidden--visually\" id=\"sk-estimator-id-3\" type=\"checkbox\" ><label for=\"sk-estimator-id-3\" class=\"sk-toggleable__label sk-toggleable__label-arrow\">FunctionTransformer</label><div class=\"sk-toggleable__content\"><pre>FunctionTransformer(func=&lt;function categorize_degree at 0x7b6bb5dcb130&gt;)</pre></div></div></div><div class=\"sk-item\"><div class=\"sk-estimator sk-toggleable\"><input class=\"sk-toggleable__control sk-hidden--visually\" id=\"sk-estimator-id-4\" type=\"checkbox\" ><label for=\"sk-estimator-id-4\" class=\"sk-toggleable__label sk-toggleable__label-arrow\">FunctionTransformer</label><div class=\"sk-toggleable__content\"><pre>FunctionTransformer(func=&lt;function label_encoder at 0x7b6bb5dcb1c0&gt;)</pre></div></div></div><div class=\"sk-item sk-dashed-wrapped\"><div class=\"sk-label-container\"><div class=\"sk-label sk-toggleable\"><input class=\"sk-toggleable__control sk-hidden--visually\" id=\"sk-estimator-id-5\" type=\"checkbox\" ><label for=\"sk-estimator-id-5\" class=\"sk-toggleable__label sk-toggleable__label-arrow\">encode_scale: ColumnTransformer</label><div class=\"sk-toggleable__content\"><pre>ColumnTransformer(remainder=&#x27;passthrough&#x27;,\n",
       "                  transformers=[(&#x27;onehot&#x27;,\n",
       "                                 OneHotEncoder(drop=&#x27;first&#x27;,\n",
       "                                               sparse_output=False),\n",
       "                                 [&#x27;Education&#x27;, &#x27;gender&#x27;, &#x27;marital_status&#x27;,\n",
       "                                  &#x27;interview_mode&#x27;,\n",
       "                                  &#x27;mother_tongue_influence_in_english&#x27;,\n",
       "                                  &#x27;Anyone_spoken_before_applying&#x27;,\n",
       "                                  &#x27;currently_employed&#x27;, &#x27;candidate_status&#x27;,\n",
       "                                  &#x27;candidate_is_willing_to_relocate&#x27;,\n",
       "                                  &#x27;last_fixed_ctc_(lakhs)&#x27;,\n",
       "                                  &#x27;experience...\n",
       "                                  &#x27;structured_thinking_(in_regional_only)&#x27;,\n",
       "                                  &#x27;structured_thinking_based_on_the_ppt_question&#x27;,\n",
       "                                  &#x27;structured_thinking(_call_pitch)&#x27;,\n",
       "                                  &#x27;regional_fluency_based_on_the_topic_given__&#x27;,\n",
       "                                  &#x27;regional_fluency_based_on_the_ppt_question&#x27;,\n",
       "                                  &#x27;regional_fluency_based_on_the__sales_scenario&#x27;,\n",
       "                                  &#x27;confidence_score&#x27;,\n",
       "                                  &#x27;structured_thinking_score&#x27;,\n",
       "                                  &#x27;regional_fluency_score&#x27;, &#x27;total_score&#x27;])])</pre></div></div></div><div class=\"sk-parallel\"><div class=\"sk-parallel-item\"><div class=\"sk-item\"><div class=\"sk-label-container\"><div class=\"sk-label sk-toggleable\"><input class=\"sk-toggleable__control sk-hidden--visually\" id=\"sk-estimator-id-6\" type=\"checkbox\" ><label for=\"sk-estimator-id-6\" class=\"sk-toggleable__label sk-toggleable__label-arrow\">onehot</label><div class=\"sk-toggleable__content\"><pre>[&#x27;Education&#x27;, &#x27;gender&#x27;, &#x27;marital_status&#x27;, &#x27;interview_mode&#x27;, &#x27;mother_tongue_influence_in_english&#x27;, &#x27;Anyone_spoken_before_applying&#x27;, &#x27;currently_employed&#x27;, &#x27;candidate_status&#x27;, &#x27;candidate_is_willing_to_relocate&#x27;, &#x27;last_fixed_ctc_(lakhs)&#x27;, &#x27;experience_in_months&#x27;, &#x27;what_was_the_type_of_role?&#x27;, &#x27;how_many_slides_candidate_have_submitted_in_ppt?&#x27;, &#x27;role_acceptance&#x27;, &#x27;age&#x27;]</pre></div></div></div><div class=\"sk-serial\"><div class=\"sk-item\"><div class=\"sk-estimator sk-toggleable\"><input class=\"sk-toggleable__control sk-hidden--visually\" id=\"sk-estimator-id-7\" type=\"checkbox\" ><label for=\"sk-estimator-id-7\" class=\"sk-toggleable__label sk-toggleable__label-arrow\">OneHotEncoder</label><div class=\"sk-toggleable__content\"><pre>OneHotEncoder(drop=&#x27;first&#x27;, sparse_output=False)</pre></div></div></div></div></div></div><div class=\"sk-parallel-item\"><div class=\"sk-item\"><div class=\"sk-label-container\"><div class=\"sk-label sk-toggleable\"><input class=\"sk-toggleable__control sk-hidden--visually\" id=\"sk-estimator-id-8\" type=\"checkbox\" ><label for=\"sk-estimator-id-8\" class=\"sk-toggleable__label sk-toggleable__label-arrow\">scaler</label><div class=\"sk-toggleable__content\"><pre>[&#x27;confidence_based_on_introduction_(english)&#x27;, &#x27;confidence_based_on_the_topic_given__&#x27;, &#x27;confidence_based_on_the_ppt_question&#x27;, &#x27;confidence_based_on_the_sales_scenario&#x27;, &#x27;structured_thinking_(in_regional_only)&#x27;, &#x27;structured_thinking_based_on_the_ppt_question&#x27;, &#x27;structured_thinking(_call_pitch)&#x27;, &#x27;regional_fluency_based_on_the_topic_given__&#x27;, &#x27;regional_fluency_based_on_the_ppt_question&#x27;, &#x27;regional_fluency_based_on_the__sales_scenario&#x27;, &#x27;confidence_score&#x27;, &#x27;structured_thinking_score&#x27;, &#x27;regional_fluency_score&#x27;, &#x27;total_score&#x27;]</pre></div></div></div><div class=\"sk-serial\"><div class=\"sk-item\"><div class=\"sk-estimator sk-toggleable\"><input class=\"sk-toggleable__control sk-hidden--visually\" id=\"sk-estimator-id-9\" type=\"checkbox\" ><label for=\"sk-estimator-id-9\" class=\"sk-toggleable__label sk-toggleable__label-arrow\">StandardScaler</label><div class=\"sk-toggleable__content\"><pre>StandardScaler()</pre></div></div></div></div></div></div><div class=\"sk-parallel-item\"><div class=\"sk-item\"><div class=\"sk-label-container\"><div class=\"sk-label sk-toggleable\"><input class=\"sk-toggleable__control sk-hidden--visually\" id=\"sk-estimator-id-10\" type=\"checkbox\" ><label for=\"sk-estimator-id-10\" class=\"sk-toggleable__label sk-toggleable__label-arrow\">remainder</label><div class=\"sk-toggleable__content\"><pre></pre></div></div></div><div class=\"sk-serial\"><div class=\"sk-item\"><div class=\"sk-estimator sk-toggleable\"><input class=\"sk-toggleable__control sk-hidden--visually\" id=\"sk-estimator-id-11\" type=\"checkbox\" ><label for=\"sk-estimator-id-11\" class=\"sk-toggleable__label sk-toggleable__label-arrow\">passthrough</label><div class=\"sk-toggleable__content\"><pre>passthrough</pre></div></div></div></div></div></div></div></div></div></div></div></div>"
      ],
      "text/plain": [
       "Pipeline(steps=[('convert_age',\n",
       "                 FunctionTransformer(func=<function convert_age at 0x7b6bb5dca560>)),\n",
       "                ('categorize_education',\n",
       "                 FunctionTransformer(func=<function categorize_degree at 0x7b6bb5dcb130>)),\n",
       "                ('label_encoder',\n",
       "                 FunctionTransformer(func=<function label_encoder at 0x7b6bb5dcb1c0>)),\n",
       "                ('encode_scale',\n",
       "                 ColumnTransformer(remainder='passthrough',\n",
       "                                   transformers=[('o...\n",
       "                                                   'structured_thinking_(in_regional_only)',\n",
       "                                                   'structured_thinking_based_on_the_ppt_question',\n",
       "                                                   'structured_thinking(_call_pitch)',\n",
       "                                                   'regional_fluency_based_on_the_topic_given__',\n",
       "                                                   'regional_fluency_based_on_the_ppt_question',\n",
       "                                                   'regional_fluency_based_on_the__sales_scenario',\n",
       "                                                   'confidence_score',\n",
       "                                                   'structured_thinking_score',\n",
       "                                                   'regional_fluency_score',\n",
       "                                                   'total_score'])]))])"
      ]
     },
     "execution_count": 11,
     "metadata": {},
     "output_type": "execute_result"
    }
   ],
   "source": [
    "# Display the pipeline diagram\n",
    "set_config(display='diagram')\n",
    "preprocessing_pipeline"
   ]
  },
  {
   "cell_type": "code",
   "execution_count": 12,
   "id": "f1c27a0b",
   "metadata": {
    "execution": {
     "iopub.execute_input": "2025-03-26T06:36:31.986953Z",
     "iopub.status.busy": "2025-03-26T06:36:31.986718Z",
     "iopub.status.idle": "2025-03-26T06:36:32.007914Z",
     "shell.execute_reply": "2025-03-26T06:36:32.007243Z"
    },
    "papermill": {
     "duration": 0.028862,
     "end_time": "2025-03-26T06:36:32.009301",
     "exception": false,
     "start_time": "2025-03-26T06:36:31.980439",
     "status": "completed"
    },
    "tags": []
   },
   "outputs": [],
   "source": [
    "# Splitting the data\n",
    "X = df.drop(columns=['interview_verdict']).copy()\n",
    "y = df['interview_verdict']"
   ]
  },
  {
   "cell_type": "code",
   "execution_count": 13,
   "id": "86b693ef",
   "metadata": {
    "execution": {
     "iopub.execute_input": "2025-03-26T06:36:32.021813Z",
     "iopub.status.busy": "2025-03-26T06:36:32.021558Z",
     "iopub.status.idle": "2025-03-26T06:36:32.031181Z",
     "shell.execute_reply": "2025-03-26T06:36:32.030567Z"
    },
    "papermill": {
     "duration": 0.017018,
     "end_time": "2025-03-26T06:36:32.032310",
     "exception": false,
     "start_time": "2025-03-26T06:36:32.015292",
     "status": "completed"
    },
    "tags": []
   },
   "outputs": [],
   "source": [
    "X_train, X_test, y_train, y_test = train_test_split(X, y, test_size=0.2, random_state=42)"
   ]
  },
  {
   "cell_type": "code",
   "execution_count": 14,
   "id": "031b6e82",
   "metadata": {
    "execution": {
     "iopub.execute_input": "2025-03-26T06:36:32.044418Z",
     "iopub.status.busy": "2025-03-26T06:36:32.044179Z",
     "iopub.status.idle": "2025-03-26T06:36:32.242235Z",
     "shell.execute_reply": "2025-03-26T06:36:32.241395Z"
    },
    "papermill": {
     "duration": 0.205628,
     "end_time": "2025-03-26T06:36:32.243691",
     "exception": false,
     "start_time": "2025-03-26T06:36:32.038063",
     "status": "completed"
    },
    "tags": []
   },
   "outputs": [
    {
     "data": {
      "text/html": [
       "<style>#sk-container-id-2 {color: black;background-color: white;}#sk-container-id-2 pre{padding: 0;}#sk-container-id-2 div.sk-toggleable {background-color: white;}#sk-container-id-2 label.sk-toggleable__label {cursor: pointer;display: block;width: 100%;margin-bottom: 0;padding: 0.3em;box-sizing: border-box;text-align: center;}#sk-container-id-2 label.sk-toggleable__label-arrow:before {content: \"▸\";float: left;margin-right: 0.25em;color: #696969;}#sk-container-id-2 label.sk-toggleable__label-arrow:hover:before {color: black;}#sk-container-id-2 div.sk-estimator:hover label.sk-toggleable__label-arrow:before {color: black;}#sk-container-id-2 div.sk-toggleable__content {max-height: 0;max-width: 0;overflow: hidden;text-align: left;background-color: #f0f8ff;}#sk-container-id-2 div.sk-toggleable__content pre {margin: 0.2em;color: black;border-radius: 0.25em;background-color: #f0f8ff;}#sk-container-id-2 input.sk-toggleable__control:checked~div.sk-toggleable__content {max-height: 200px;max-width: 100%;overflow: auto;}#sk-container-id-2 input.sk-toggleable__control:checked~label.sk-toggleable__label-arrow:before {content: \"▾\";}#sk-container-id-2 div.sk-estimator input.sk-toggleable__control:checked~label.sk-toggleable__label {background-color: #d4ebff;}#sk-container-id-2 div.sk-label input.sk-toggleable__control:checked~label.sk-toggleable__label {background-color: #d4ebff;}#sk-container-id-2 input.sk-hidden--visually {border: 0;clip: rect(1px 1px 1px 1px);clip: rect(1px, 1px, 1px, 1px);height: 1px;margin: -1px;overflow: hidden;padding: 0;position: absolute;width: 1px;}#sk-container-id-2 div.sk-estimator {font-family: monospace;background-color: #f0f8ff;border: 1px dotted black;border-radius: 0.25em;box-sizing: border-box;margin-bottom: 0.5em;}#sk-container-id-2 div.sk-estimator:hover {background-color: #d4ebff;}#sk-container-id-2 div.sk-parallel-item::after {content: \"\";width: 100%;border-bottom: 1px solid gray;flex-grow: 1;}#sk-container-id-2 div.sk-label:hover label.sk-toggleable__label {background-color: #d4ebff;}#sk-container-id-2 div.sk-serial::before {content: \"\";position: absolute;border-left: 1px solid gray;box-sizing: border-box;top: 0;bottom: 0;left: 50%;z-index: 0;}#sk-container-id-2 div.sk-serial {display: flex;flex-direction: column;align-items: center;background-color: white;padding-right: 0.2em;padding-left: 0.2em;position: relative;}#sk-container-id-2 div.sk-item {position: relative;z-index: 1;}#sk-container-id-2 div.sk-parallel {display: flex;align-items: stretch;justify-content: center;background-color: white;position: relative;}#sk-container-id-2 div.sk-item::before, #sk-container-id-2 div.sk-parallel-item::before {content: \"\";position: absolute;border-left: 1px solid gray;box-sizing: border-box;top: 0;bottom: 0;left: 50%;z-index: -1;}#sk-container-id-2 div.sk-parallel-item {display: flex;flex-direction: column;z-index: 1;position: relative;background-color: white;}#sk-container-id-2 div.sk-parallel-item:first-child::after {align-self: flex-end;width: 50%;}#sk-container-id-2 div.sk-parallel-item:last-child::after {align-self: flex-start;width: 50%;}#sk-container-id-2 div.sk-parallel-item:only-child::after {width: 0;}#sk-container-id-2 div.sk-dashed-wrapped {border: 1px dashed gray;margin: 0 0.4em 0.5em 0.4em;box-sizing: border-box;padding-bottom: 0.4em;background-color: white;}#sk-container-id-2 div.sk-label label {font-family: monospace;font-weight: bold;display: inline-block;line-height: 1.2em;}#sk-container-id-2 div.sk-label-container {text-align: center;}#sk-container-id-2 div.sk-container {/* jupyter's `normalize.less` sets `[hidden] { display: none; }` but bootstrap.min.css set `[hidden] { display: none !important; }` so we also need the `!important` here to be able to override the default hidden behavior on the sphinx rendered scikit-learn.org. See: https://github.com/scikit-learn/scikit-learn/issues/21755 */display: inline-block !important;position: relative;}#sk-container-id-2 div.sk-text-repr-fallback {display: none;}</style><div id=\"sk-container-id-2\" class=\"sk-top-container\"><div class=\"sk-text-repr-fallback\"><pre>Pipeline(steps=[(&#x27;convert_age&#x27;,\n",
       "                 FunctionTransformer(func=&lt;function convert_age at 0x7b6bb5dca560&gt;)),\n",
       "                (&#x27;categorize_education&#x27;,\n",
       "                 FunctionTransformer(func=&lt;function categorize_degree at 0x7b6bb5dcb130&gt;)),\n",
       "                (&#x27;label_encoder&#x27;,\n",
       "                 FunctionTransformer(func=&lt;function label_encoder at 0x7b6bb5dcb1c0&gt;)),\n",
       "                (&#x27;encode_scale&#x27;,\n",
       "                 ColumnTransformer(remainder=&#x27;passthrough&#x27;,\n",
       "                                   transformers=[(&#x27;o...\n",
       "                                                   &#x27;structured_thinking_(in_regional_only)&#x27;,\n",
       "                                                   &#x27;structured_thinking_based_on_the_ppt_question&#x27;,\n",
       "                                                   &#x27;structured_thinking(_call_pitch)&#x27;,\n",
       "                                                   &#x27;regional_fluency_based_on_the_topic_given__&#x27;,\n",
       "                                                   &#x27;regional_fluency_based_on_the_ppt_question&#x27;,\n",
       "                                                   &#x27;regional_fluency_based_on_the__sales_scenario&#x27;,\n",
       "                                                   &#x27;confidence_score&#x27;,\n",
       "                                                   &#x27;structured_thinking_score&#x27;,\n",
       "                                                   &#x27;regional_fluency_score&#x27;,\n",
       "                                                   &#x27;total_score&#x27;])]))])</pre><b>In a Jupyter environment, please rerun this cell to show the HTML representation or trust the notebook. <br />On GitHub, the HTML representation is unable to render, please try loading this page with nbviewer.org.</b></div><div class=\"sk-container\" hidden><div class=\"sk-item sk-dashed-wrapped\"><div class=\"sk-label-container\"><div class=\"sk-label sk-toggleable\"><input class=\"sk-toggleable__control sk-hidden--visually\" id=\"sk-estimator-id-12\" type=\"checkbox\" ><label for=\"sk-estimator-id-12\" class=\"sk-toggleable__label sk-toggleable__label-arrow\">Pipeline</label><div class=\"sk-toggleable__content\"><pre>Pipeline(steps=[(&#x27;convert_age&#x27;,\n",
       "                 FunctionTransformer(func=&lt;function convert_age at 0x7b6bb5dca560&gt;)),\n",
       "                (&#x27;categorize_education&#x27;,\n",
       "                 FunctionTransformer(func=&lt;function categorize_degree at 0x7b6bb5dcb130&gt;)),\n",
       "                (&#x27;label_encoder&#x27;,\n",
       "                 FunctionTransformer(func=&lt;function label_encoder at 0x7b6bb5dcb1c0&gt;)),\n",
       "                (&#x27;encode_scale&#x27;,\n",
       "                 ColumnTransformer(remainder=&#x27;passthrough&#x27;,\n",
       "                                   transformers=[(&#x27;o...\n",
       "                                                   &#x27;structured_thinking_(in_regional_only)&#x27;,\n",
       "                                                   &#x27;structured_thinking_based_on_the_ppt_question&#x27;,\n",
       "                                                   &#x27;structured_thinking(_call_pitch)&#x27;,\n",
       "                                                   &#x27;regional_fluency_based_on_the_topic_given__&#x27;,\n",
       "                                                   &#x27;regional_fluency_based_on_the_ppt_question&#x27;,\n",
       "                                                   &#x27;regional_fluency_based_on_the__sales_scenario&#x27;,\n",
       "                                                   &#x27;confidence_score&#x27;,\n",
       "                                                   &#x27;structured_thinking_score&#x27;,\n",
       "                                                   &#x27;regional_fluency_score&#x27;,\n",
       "                                                   &#x27;total_score&#x27;])]))])</pre></div></div></div><div class=\"sk-serial\"><div class=\"sk-item\"><div class=\"sk-estimator sk-toggleable\"><input class=\"sk-toggleable__control sk-hidden--visually\" id=\"sk-estimator-id-13\" type=\"checkbox\" ><label for=\"sk-estimator-id-13\" class=\"sk-toggleable__label sk-toggleable__label-arrow\">FunctionTransformer</label><div class=\"sk-toggleable__content\"><pre>FunctionTransformer(func=&lt;function convert_age at 0x7b6bb5dca560&gt;)</pre></div></div></div><div class=\"sk-item\"><div class=\"sk-estimator sk-toggleable\"><input class=\"sk-toggleable__control sk-hidden--visually\" id=\"sk-estimator-id-14\" type=\"checkbox\" ><label for=\"sk-estimator-id-14\" class=\"sk-toggleable__label sk-toggleable__label-arrow\">FunctionTransformer</label><div class=\"sk-toggleable__content\"><pre>FunctionTransformer(func=&lt;function categorize_degree at 0x7b6bb5dcb130&gt;)</pre></div></div></div><div class=\"sk-item\"><div class=\"sk-estimator sk-toggleable\"><input class=\"sk-toggleable__control sk-hidden--visually\" id=\"sk-estimator-id-15\" type=\"checkbox\" ><label for=\"sk-estimator-id-15\" class=\"sk-toggleable__label sk-toggleable__label-arrow\">FunctionTransformer</label><div class=\"sk-toggleable__content\"><pre>FunctionTransformer(func=&lt;function label_encoder at 0x7b6bb5dcb1c0&gt;)</pre></div></div></div><div class=\"sk-item sk-dashed-wrapped\"><div class=\"sk-label-container\"><div class=\"sk-label sk-toggleable\"><input class=\"sk-toggleable__control sk-hidden--visually\" id=\"sk-estimator-id-16\" type=\"checkbox\" ><label for=\"sk-estimator-id-16\" class=\"sk-toggleable__label sk-toggleable__label-arrow\">encode_scale: ColumnTransformer</label><div class=\"sk-toggleable__content\"><pre>ColumnTransformer(remainder=&#x27;passthrough&#x27;,\n",
       "                  transformers=[(&#x27;onehot&#x27;,\n",
       "                                 OneHotEncoder(drop=&#x27;first&#x27;,\n",
       "                                               sparse_output=False),\n",
       "                                 [&#x27;Education&#x27;, &#x27;gender&#x27;, &#x27;marital_status&#x27;,\n",
       "                                  &#x27;interview_mode&#x27;,\n",
       "                                  &#x27;mother_tongue_influence_in_english&#x27;,\n",
       "                                  &#x27;Anyone_spoken_before_applying&#x27;,\n",
       "                                  &#x27;currently_employed&#x27;, &#x27;candidate_status&#x27;,\n",
       "                                  &#x27;candidate_is_willing_to_relocate&#x27;,\n",
       "                                  &#x27;last_fixed_ctc_(lakhs)&#x27;,\n",
       "                                  &#x27;experience...\n",
       "                                  &#x27;structured_thinking_(in_regional_only)&#x27;,\n",
       "                                  &#x27;structured_thinking_based_on_the_ppt_question&#x27;,\n",
       "                                  &#x27;structured_thinking(_call_pitch)&#x27;,\n",
       "                                  &#x27;regional_fluency_based_on_the_topic_given__&#x27;,\n",
       "                                  &#x27;regional_fluency_based_on_the_ppt_question&#x27;,\n",
       "                                  &#x27;regional_fluency_based_on_the__sales_scenario&#x27;,\n",
       "                                  &#x27;confidence_score&#x27;,\n",
       "                                  &#x27;structured_thinking_score&#x27;,\n",
       "                                  &#x27;regional_fluency_score&#x27;, &#x27;total_score&#x27;])])</pre></div></div></div><div class=\"sk-parallel\"><div class=\"sk-parallel-item\"><div class=\"sk-item\"><div class=\"sk-label-container\"><div class=\"sk-label sk-toggleable\"><input class=\"sk-toggleable__control sk-hidden--visually\" id=\"sk-estimator-id-17\" type=\"checkbox\" ><label for=\"sk-estimator-id-17\" class=\"sk-toggleable__label sk-toggleable__label-arrow\">onehot</label><div class=\"sk-toggleable__content\"><pre>[&#x27;Education&#x27;, &#x27;gender&#x27;, &#x27;marital_status&#x27;, &#x27;interview_mode&#x27;, &#x27;mother_tongue_influence_in_english&#x27;, &#x27;Anyone_spoken_before_applying&#x27;, &#x27;currently_employed&#x27;, &#x27;candidate_status&#x27;, &#x27;candidate_is_willing_to_relocate&#x27;, &#x27;last_fixed_ctc_(lakhs)&#x27;, &#x27;experience_in_months&#x27;, &#x27;what_was_the_type_of_role?&#x27;, &#x27;how_many_slides_candidate_have_submitted_in_ppt?&#x27;, &#x27;role_acceptance&#x27;, &#x27;age&#x27;]</pre></div></div></div><div class=\"sk-serial\"><div class=\"sk-item\"><div class=\"sk-estimator sk-toggleable\"><input class=\"sk-toggleable__control sk-hidden--visually\" id=\"sk-estimator-id-18\" type=\"checkbox\" ><label for=\"sk-estimator-id-18\" class=\"sk-toggleable__label sk-toggleable__label-arrow\">OneHotEncoder</label><div class=\"sk-toggleable__content\"><pre>OneHotEncoder(drop=&#x27;first&#x27;, sparse_output=False)</pre></div></div></div></div></div></div><div class=\"sk-parallel-item\"><div class=\"sk-item\"><div class=\"sk-label-container\"><div class=\"sk-label sk-toggleable\"><input class=\"sk-toggleable__control sk-hidden--visually\" id=\"sk-estimator-id-19\" type=\"checkbox\" ><label for=\"sk-estimator-id-19\" class=\"sk-toggleable__label sk-toggleable__label-arrow\">scaler</label><div class=\"sk-toggleable__content\"><pre>[&#x27;confidence_based_on_introduction_(english)&#x27;, &#x27;confidence_based_on_the_topic_given__&#x27;, &#x27;confidence_based_on_the_ppt_question&#x27;, &#x27;confidence_based_on_the_sales_scenario&#x27;, &#x27;structured_thinking_(in_regional_only)&#x27;, &#x27;structured_thinking_based_on_the_ppt_question&#x27;, &#x27;structured_thinking(_call_pitch)&#x27;, &#x27;regional_fluency_based_on_the_topic_given__&#x27;, &#x27;regional_fluency_based_on_the_ppt_question&#x27;, &#x27;regional_fluency_based_on_the__sales_scenario&#x27;, &#x27;confidence_score&#x27;, &#x27;structured_thinking_score&#x27;, &#x27;regional_fluency_score&#x27;, &#x27;total_score&#x27;]</pre></div></div></div><div class=\"sk-serial\"><div class=\"sk-item\"><div class=\"sk-estimator sk-toggleable\"><input class=\"sk-toggleable__control sk-hidden--visually\" id=\"sk-estimator-id-20\" type=\"checkbox\" ><label for=\"sk-estimator-id-20\" class=\"sk-toggleable__label sk-toggleable__label-arrow\">StandardScaler</label><div class=\"sk-toggleable__content\"><pre>StandardScaler()</pre></div></div></div></div></div></div><div class=\"sk-parallel-item\"><div class=\"sk-item\"><div class=\"sk-label-container\"><div class=\"sk-label sk-toggleable\"><input class=\"sk-toggleable__control sk-hidden--visually\" id=\"sk-estimator-id-21\" type=\"checkbox\" ><label for=\"sk-estimator-id-21\" class=\"sk-toggleable__label sk-toggleable__label-arrow\">remainder</label><div class=\"sk-toggleable__content\"><pre>[]</pre></div></div></div><div class=\"sk-serial\"><div class=\"sk-item\"><div class=\"sk-estimator sk-toggleable\"><input class=\"sk-toggleable__control sk-hidden--visually\" id=\"sk-estimator-id-22\" type=\"checkbox\" ><label for=\"sk-estimator-id-22\" class=\"sk-toggleable__label sk-toggleable__label-arrow\">passthrough</label><div class=\"sk-toggleable__content\"><pre>passthrough</pre></div></div></div></div></div></div></div></div></div></div></div></div>"
      ],
      "text/plain": [
       "Pipeline(steps=[('convert_age',\n",
       "                 FunctionTransformer(func=<function convert_age at 0x7b6bb5dca560>)),\n",
       "                ('categorize_education',\n",
       "                 FunctionTransformer(func=<function categorize_degree at 0x7b6bb5dcb130>)),\n",
       "                ('label_encoder',\n",
       "                 FunctionTransformer(func=<function label_encoder at 0x7b6bb5dcb1c0>)),\n",
       "                ('encode_scale',\n",
       "                 ColumnTransformer(remainder='passthrough',\n",
       "                                   transformers=[('o...\n",
       "                                                   'structured_thinking_(in_regional_only)',\n",
       "                                                   'structured_thinking_based_on_the_ppt_question',\n",
       "                                                   'structured_thinking(_call_pitch)',\n",
       "                                                   'regional_fluency_based_on_the_topic_given__',\n",
       "                                                   'regional_fluency_based_on_the_ppt_question',\n",
       "                                                   'regional_fluency_based_on_the__sales_scenario',\n",
       "                                                   'confidence_score',\n",
       "                                                   'structured_thinking_score',\n",
       "                                                   'regional_fluency_score',\n",
       "                                                   'total_score'])]))])"
      ]
     },
     "execution_count": 14,
     "metadata": {},
     "output_type": "execute_result"
    }
   ],
   "source": [
    "preprocessing_pipeline.fit(X_train, y_train)"
   ]
  },
  {
   "cell_type": "code",
   "execution_count": 15,
   "id": "f4d71633",
   "metadata": {
    "execution": {
     "iopub.execute_input": "2025-03-26T06:36:32.257277Z",
     "iopub.status.busy": "2025-03-26T06:36:32.257022Z",
     "iopub.status.idle": "2025-03-26T06:36:32.261585Z",
     "shell.execute_reply": "2025-03-26T06:36:32.260949Z"
    },
    "papermill": {
     "duration": 0.012597,
     "end_time": "2025-03-26T06:36:32.262757",
     "exception": false,
     "start_time": "2025-03-26T06:36:32.250160",
     "status": "completed"
    },
    "tags": []
   },
   "outputs": [
    {
     "data": {
      "text/plain": [
       "(14808, 29)"
      ]
     },
     "execution_count": 15,
     "metadata": {},
     "output_type": "execute_result"
    }
   ],
   "source": [
    "X_train.shape"
   ]
  },
  {
   "cell_type": "code",
   "execution_count": 16,
   "id": "83eefc44",
   "metadata": {
    "execution": {
     "iopub.execute_input": "2025-03-26T06:36:32.275598Z",
     "iopub.status.busy": "2025-03-26T06:36:32.275356Z",
     "iopub.status.idle": "2025-03-26T06:36:32.458547Z",
     "shell.execute_reply": "2025-03-26T06:36:32.457903Z"
    },
    "papermill": {
     "duration": 0.191383,
     "end_time": "2025-03-26T06:36:32.460177",
     "exception": false,
     "start_time": "2025-03-26T06:36:32.268794",
     "status": "completed"
    },
    "tags": []
   },
   "outputs": [],
   "source": [
    "# Fit and transform with pipeline\n",
    "X_train_processed = preprocessing_pipeline.fit_transform(X_train, y_train)\n",
    "X_test_processed = preprocessing_pipeline.transform(X_test)"
   ]
  },
  {
   "cell_type": "code",
   "execution_count": 17,
   "id": "027c5f2c",
   "metadata": {
    "execution": {
     "iopub.execute_input": "2025-03-26T06:36:32.473491Z",
     "iopub.status.busy": "2025-03-26T06:36:32.473239Z",
     "iopub.status.idle": "2025-03-26T06:36:32.477558Z",
     "shell.execute_reply": "2025-03-26T06:36:32.476817Z"
    },
    "papermill": {
     "duration": 0.012075,
     "end_time": "2025-03-26T06:36:32.478766",
     "exception": false,
     "start_time": "2025-03-26T06:36:32.466691",
     "status": "completed"
    },
    "tags": []
   },
   "outputs": [
    {
     "data": {
      "text/plain": [
       "(14808, 64)"
      ]
     },
     "execution_count": 17,
     "metadata": {},
     "output_type": "execute_result"
    }
   ],
   "source": [
    "X_train_processed.shape"
   ]
  },
  {
   "cell_type": "markdown",
   "id": "923853eb",
   "metadata": {
    "papermill": {
     "duration": 0.005764,
     "end_time": "2025-03-26T06:36:32.490547",
     "exception": false,
     "start_time": "2025-03-26T06:36:32.484783",
     "status": "completed"
    },
    "tags": []
   },
   "source": [
    "# Working on NN"
   ]
  },
  {
   "cell_type": "code",
   "execution_count": 18,
   "id": "05b38606",
   "metadata": {
    "execution": {
     "iopub.execute_input": "2025-03-26T06:36:32.503157Z",
     "iopub.status.busy": "2025-03-26T06:36:32.502930Z",
     "iopub.status.idle": "2025-03-26T06:36:32.521567Z",
     "shell.execute_reply": "2025-03-26T06:36:32.520936Z"
    },
    "papermill": {
     "duration": 0.026472,
     "end_time": "2025-03-26T06:36:32.522970",
     "exception": false,
     "start_time": "2025-03-26T06:36:32.496498",
     "status": "completed"
    },
    "tags": []
   },
   "outputs": [],
   "source": [
    "# Convert to NumPy array and float32\n",
    "y_train_array = np.array(y_train).astype(np.float32)\n",
    "y_test_array = np.array(y_test).astype(np.float32)\n",
    "\n",
    "# Convert the preprocessed data into PyTorch tensors\n",
    "X_train_tensor = torch.tensor(X_train_processed, dtype=torch.float32)\n",
    "X_test_tensor = torch.tensor(X_test_processed, dtype=torch.float32)\n",
    "\n",
    "# Convert the target variables into PyTorch tensors\n",
    "y_train_tensor = torch.tensor(y_train_array, dtype=torch.float32)\n",
    "y_test_tensor = torch.tensor(y_test_array, dtype=torch.float32)"
   ]
  },
  {
   "cell_type": "code",
   "execution_count": 19,
   "id": "d1985d9e",
   "metadata": {
    "execution": {
     "iopub.execute_input": "2025-03-26T06:36:32.536166Z",
     "iopub.status.busy": "2025-03-26T06:36:32.535952Z",
     "iopub.status.idle": "2025-03-26T06:36:32.539984Z",
     "shell.execute_reply": "2025-03-26T06:36:32.539178Z"
    },
    "papermill": {
     "duration": 0.012067,
     "end_time": "2025-03-26T06:36:32.541239",
     "exception": false,
     "start_time": "2025-03-26T06:36:32.529172",
     "status": "completed"
    },
    "tags": []
   },
   "outputs": [
    {
     "name": "stdout",
     "output_type": "stream",
     "text": [
      "X_train_tensor shape: torch.Size([14808, 64]), y_train_tensor shape: torch.Size([14808])\n",
      "X_test_tensor shape: torch.Size([3702, 64]), y_test_tensor shape: torch.Size([3702])\n"
     ]
    }
   ],
   "source": [
    "# Confirm the shapes\n",
    "print(f\"X_train_tensor shape: {X_train_tensor.shape}, y_train_tensor shape: {y_train_tensor.shape}\")\n",
    "print(f\"X_test_tensor shape: {X_test_tensor.shape}, y_test_tensor shape: {y_test_tensor.shape}\")\n"
   ]
  },
  {
   "cell_type": "code",
   "execution_count": 20,
   "id": "4322e0a7",
   "metadata": {
    "execution": {
     "iopub.execute_input": "2025-03-26T06:36:32.554021Z",
     "iopub.status.busy": "2025-03-26T06:36:32.553800Z",
     "iopub.status.idle": "2025-03-26T06:36:32.557696Z",
     "shell.execute_reply": "2025-03-26T06:36:32.556908Z"
    },
    "papermill": {
     "duration": 0.011722,
     "end_time": "2025-03-26T06:36:32.558987",
     "exception": false,
     "start_time": "2025-03-26T06:36:32.547265",
     "status": "completed"
    },
    "tags": []
   },
   "outputs": [],
   "source": [
    "class CustomDataset(Dataset):\n",
    "    def __init__(self, features, labels):\n",
    "        self.features = features\n",
    "        self.labels = labels\n",
    "\n",
    "    def __len__(self):\n",
    "        return len(self.labels)\n",
    "\n",
    "    def __getitem__(self, idx):\n",
    "        return self.features[idx], self.labels[idx]"
   ]
  },
  {
   "cell_type": "code",
   "execution_count": 21,
   "id": "a049cfba",
   "metadata": {
    "execution": {
     "iopub.execute_input": "2025-03-26T06:36:32.571545Z",
     "iopub.status.busy": "2025-03-26T06:36:32.571339Z",
     "iopub.status.idle": "2025-03-26T06:36:32.576406Z",
     "shell.execute_reply": "2025-03-26T06:36:32.575795Z"
    },
    "papermill": {
     "duration": 0.012591,
     "end_time": "2025-03-26T06:36:32.577583",
     "exception": false,
     "start_time": "2025-03-26T06:36:32.564992",
     "status": "completed"
    },
    "tags": []
   },
   "outputs": [],
   "source": [
    "from torch.utils.data import DataLoader\n",
    "\n",
    "# Create dataset instances\n",
    "train_dataset = CustomDataset(X_train_tensor, y_train_tensor)\n",
    "test_dataset = CustomDataset(X_test_tensor, y_test_tensor)\n",
    "\n",
    "# Define DataLoader\n",
    "batch_size = 64\n",
    "train_loader = DataLoader(train_dataset, batch_size=batch_size, shuffle=True)\n",
    "test_loader = DataLoader(test_dataset, batch_size=batch_size, shuffle=False)\n"
   ]
  },
  {
   "cell_type": "code",
   "execution_count": 22,
   "id": "09f700ba",
   "metadata": {
    "execution": {
     "iopub.execute_input": "2025-03-26T06:36:32.590341Z",
     "iopub.status.busy": "2025-03-26T06:36:32.590141Z",
     "iopub.status.idle": "2025-03-26T06:36:32.594820Z",
     "shell.execute_reply": "2025-03-26T06:36:32.594187Z"
    },
    "papermill": {
     "duration": 0.012395,
     "end_time": "2025-03-26T06:36:32.596077",
     "exception": false,
     "start_time": "2025-03-26T06:36:32.583682",
     "status": "completed"
    },
    "tags": []
   },
   "outputs": [],
   "source": [
    "import torch.nn as nn\n",
    "class CandidateRankingModel(nn.Module):\n",
    "    def __init__(self, input_dim):\n",
    "        super(CandidateRankingModel, self).__init__()\n",
    "        self.fc1 = nn.Linear(input_dim, 128)\n",
    "        self.bn1 = nn.BatchNorm1d(128)\n",
    "        self.fc2 = nn.Linear(128, 64)\n",
    "        self.bn2 = nn.BatchNorm1d(64)\n",
    "        self.fc3 = nn.Linear(64, 1)\n",
    "        self.dropout = nn.Dropout(0.3)\n",
    "        self.relu = nn.ReLU()\n",
    "    \n",
    "    def forward(self, x):\n",
    "        x = self.relu(self.bn1(self.fc1(x)))\n",
    "        x = self.dropout(x)\n",
    "        x = self.relu(self.bn2(self.fc2(x)))\n",
    "        x = torch.sigmoid(self.fc3(x))\n",
    "        return x"
   ]
  },
  {
   "cell_type": "code",
   "execution_count": 23,
   "id": "225619c6",
   "metadata": {
    "execution": {
     "iopub.execute_input": "2025-03-26T06:36:32.609240Z",
     "iopub.status.busy": "2025-03-26T06:36:32.609012Z",
     "iopub.status.idle": "2025-03-26T06:36:32.871731Z",
     "shell.execute_reply": "2025-03-26T06:36:32.871048Z"
    },
    "papermill": {
     "duration": 0.271037,
     "end_time": "2025-03-26T06:36:32.873297",
     "exception": false,
     "start_time": "2025-03-26T06:36:32.602260",
     "status": "completed"
    },
    "tags": []
   },
   "outputs": [],
   "source": [
    "# Instantiate the model\n",
    "input_dim = X_train_tensor.shape[1]\n",
    "model = CandidateRankingModel(input_dim)\n",
    "\n",
    "device = torch.device(\"cuda\" if torch.cuda.is_available() else \"cpu\")\n",
    "model.to(device)\n",
    "\n",
    "criterion = nn.BCELoss()  # Binary Cross-Entropy Loss\n",
    "optimizer = torch.optim.Adam(model.parameters(), lr=0.0001)"
   ]
  },
  {
   "cell_type": "code",
   "execution_count": 24,
   "id": "7fcb9595",
   "metadata": {
    "execution": {
     "iopub.execute_input": "2025-03-26T06:36:32.887232Z",
     "iopub.status.busy": "2025-03-26T06:36:32.886991Z",
     "iopub.status.idle": "2025-03-26T06:36:32.891110Z",
     "shell.execute_reply": "2025-03-26T06:36:32.890412Z"
    },
    "papermill": {
     "duration": 0.012211,
     "end_time": "2025-03-26T06:36:32.892297",
     "exception": false,
     "start_time": "2025-03-26T06:36:32.880086",
     "status": "completed"
    },
    "tags": []
   },
   "outputs": [
    {
     "data": {
      "text/plain": [
       "64"
      ]
     },
     "execution_count": 24,
     "metadata": {},
     "output_type": "execute_result"
    }
   ],
   "source": [
    "input_dim"
   ]
  },
  {
   "cell_type": "code",
   "execution_count": 25,
   "id": "042486b3",
   "metadata": {
    "execution": {
     "iopub.execute_input": "2025-03-26T06:36:32.905586Z",
     "iopub.status.busy": "2025-03-26T06:36:32.905368Z",
     "iopub.status.idle": "2025-03-26T06:36:33.455046Z",
     "shell.execute_reply": "2025-03-26T06:36:33.454065Z"
    },
    "papermill": {
     "duration": 0.558389,
     "end_time": "2025-03-26T06:36:33.456984",
     "exception": false,
     "start_time": "2025-03-26T06:36:32.898595",
     "status": "completed"
    },
    "tags": []
   },
   "outputs": [
    {
     "name": "stdout",
     "output_type": "stream",
     "text": [
      "Batch shape: torch.Size([64, 64])\n",
      "Output shape: torch.Size([64, 1])\n",
      "Sample output: tensor([[0.4316],\n",
      "        [0.5159],\n",
      "        [0.3701],\n",
      "        [0.3587],\n",
      "        [0.4618]], device='cuda:0', grad_fn=<SliceBackward0>)\n"
     ]
    }
   ],
   "source": [
    "# Check if model and data pipeline are working correctly\n",
    "model.train()\n",
    "for batch_X, batch_y in train_loader:\n",
    "    batch_X, batch_y = batch_X.to(device), batch_y.to(device)\n",
    "    \n",
    "    # Forward pass\n",
    "    outputs = model(batch_X)\n",
    "    print(\"Batch shape:\", batch_X.shape)\n",
    "    print(\"Output shape:\", outputs.shape)\n",
    "    print(\"Sample output:\", outputs[:5])\n",
    "    \n",
    "    break"
   ]
  },
  {
   "cell_type": "code",
   "execution_count": 26,
   "id": "4d05769c",
   "metadata": {
    "execution": {
     "iopub.execute_input": "2025-03-26T06:36:33.474345Z",
     "iopub.status.busy": "2025-03-26T06:36:33.473930Z",
     "iopub.status.idle": "2025-03-26T06:36:33.482197Z",
     "shell.execute_reply": "2025-03-26T06:36:33.481193Z"
    },
    "papermill": {
     "duration": 0.018848,
     "end_time": "2025-03-26T06:36:33.483932",
     "exception": false,
     "start_time": "2025-03-26T06:36:33.465084",
     "status": "completed"
    },
    "tags": []
   },
   "outputs": [],
   "source": [
    "def train(model, train_loader, criterion, optimizer, device):\n",
    "    model.train()\n",
    "    running_loss = 0.0\n",
    "    all_labels = []\n",
    "    all_preds = []\n",
    "\n",
    "    for batch_X, batch_y in train_loader:\n",
    "        batch_X, batch_y = batch_X.to(device), batch_y.to(device)\n",
    "\n",
    "        optimizer.zero_grad()\n",
    "        outputs = model(batch_X)\n",
    "\n",
    "        # Reshape target to match the output shape\n",
    "        batch_y = batch_y.view(-1, 1)\n",
    "\n",
    "        # Compute loss\n",
    "        loss = criterion(outputs, batch_y)\n",
    "        loss.backward()\n",
    "        optimizer.step()\n",
    "\n",
    "        running_loss += loss.item()\n",
    "\n",
    "        # Store predictions and labels for metrics calculation\n",
    "        preds = (outputs >= 0.5).float()  # Threshold at 0.5 for binary classification\n",
    "        all_preds.extend(preds.cpu().detach().numpy())\n",
    "        all_labels.extend(batch_y.cpu().detach().numpy())\n",
    "\n",
    "    avg_loss = running_loss / len(train_loader)\n",
    "\n",
    "    # Calculate metrics\n",
    "    accuracy = accuracy_score(all_labels, all_preds)\n",
    "    precision = precision_score(all_labels, all_preds)\n",
    "    recall = recall_score(all_labels, all_preds)\n",
    "    f1 = f1_score(all_labels, all_preds)\n",
    "    auc_roc = roc_auc_score(all_labels, all_preds)\n",
    "\n",
    "    return avg_loss, accuracy, precision, recall, f1, auc_roc\n"
   ]
  },
  {
   "cell_type": "code",
   "execution_count": 27,
   "id": "c6e598f7",
   "metadata": {
    "execution": {
     "iopub.execute_input": "2025-03-26T06:36:33.503748Z",
     "iopub.status.busy": "2025-03-26T06:36:33.503429Z",
     "iopub.status.idle": "2025-03-26T06:36:33.511143Z",
     "shell.execute_reply": "2025-03-26T06:36:33.509759Z"
    },
    "papermill": {
     "duration": 0.019455,
     "end_time": "2025-03-26T06:36:33.512974",
     "exception": false,
     "start_time": "2025-03-26T06:36:33.493519",
     "status": "completed"
    },
    "tags": []
   },
   "outputs": [],
   "source": [
    "def evaluate(model, test_loader, criterion, device):\n",
    "    model.eval()\n",
    "    running_loss = 0.0\n",
    "    all_labels = []\n",
    "    all_preds = []\n",
    "\n",
    "    with torch.no_grad():\n",
    "        for batch_X, batch_y in test_loader:\n",
    "            batch_X, batch_y = batch_X.to(device), batch_y.to(device)\n",
    "\n",
    "            outputs = model(batch_X)\n",
    "\n",
    "            # Reshape target to match the output shape\n",
    "            batch_y = batch_y.view(-1, 1)\n",
    "\n",
    "            loss = criterion(outputs, batch_y)\n",
    "            running_loss += loss.item()\n",
    "\n",
    "            preds = (outputs >= 0.5).float()\n",
    "            all_preds.extend(preds.cpu().detach().numpy())\n",
    "            all_labels.extend(batch_y.cpu().detach().numpy())\n",
    "\n",
    "    avg_loss = running_loss / len(test_loader)\n",
    "\n",
    "    # Calculate metrics\n",
    "    accuracy = accuracy_score(all_labels, all_preds)\n",
    "    precision = precision_score(all_labels, all_preds)\n",
    "    recall = recall_score(all_labels, all_preds)\n",
    "    f1 = f1_score(all_labels, all_preds)\n",
    "    auc_roc = roc_auc_score(all_labels, all_preds)\n",
    "\n",
    "    return avg_loss, accuracy, precision, recall, f1, auc_roc"
   ]
  },
  {
   "cell_type": "code",
   "execution_count": 28,
   "id": "9353a8a1",
   "metadata": {
    "execution": {
     "iopub.execute_input": "2025-03-26T06:36:33.530416Z",
     "iopub.status.busy": "2025-03-26T06:36:33.530168Z",
     "iopub.status.idle": "2025-03-26T06:37:01.150231Z",
     "shell.execute_reply": "2025-03-26T06:37:01.149386Z"
    },
    "papermill": {
     "duration": 27.628284,
     "end_time": "2025-03-26T06:37:01.151552",
     "exception": false,
     "start_time": "2025-03-26T06:36:33.523268",
     "status": "completed"
    },
    "tags": []
   },
   "outputs": [
    {
     "name": "stdout",
     "output_type": "stream",
     "text": [
      "Training Started...!!\n",
      "\n",
      "Epoch 1/30\n",
      "Train Loss: 0.6208 | Test Loss: 0.5250 | Train Acc: 0.6312 | Test Acc: 0.7685\n",
      "Train Precision: 0.9197 | Test Precision: 0.9358 | Train Recall: 0.5658 | Test Recall: 0.7496\n",
      "Train F1 Score: 0.7006 | Test F1 Score: 0.8324 | Train AUC-ROC: 0.7036 | Test AUC-ROC: 0.7902\n",
      "Training Started...!!\n",
      "\n",
      "Epoch 2/30\n",
      "Train Loss: 0.4560 | Test Loss: 0.4303 | Train Acc: 0.8203 | Test Acc: 0.8485\n",
      "Train Precision: 0.9046 | Test Precision: 0.9139 | Train Recall: 0.8544 | Test Recall: 0.8859\n",
      "Train F1 Score: 0.8788 | Test F1 Score: 0.8997 | Train AUC-ROC: 0.7826 | Test AUC-ROC: 0.8056\n",
      "Training Started...!!\n",
      "\n",
      "Epoch 3/30\n",
      "Train Loss: 0.3947 | Test Loss: 0.3695 | Train Acc: 0.8459 | Test Acc: 0.8628\n",
      "Train Precision: 0.8888 | Test Precision: 0.8968 | Train Recall: 0.9121 | Test Recall: 0.9278\n",
      "Train F1 Score: 0.9003 | Test F1 Score: 0.9120 | Train AUC-ROC: 0.7728 | Test AUC-ROC: 0.7883\n",
      "Training Started...!!\n",
      "\n",
      "Epoch 4/30\n",
      "Train Loss: 0.3651 | Test Loss: 0.3516 | Train Acc: 0.8556 | Test Acc: 0.8674\n",
      "Train Precision: 0.8847 | Test Precision: 0.9018 | Train Recall: 0.9322 | Test Recall: 0.9281\n",
      "Train F1 Score: 0.9078 | Test F1 Score: 0.9148 | Train AUC-ROC: 0.7710 | Test AUC-ROC: 0.7978\n",
      "Training Started...!!\n",
      "\n",
      "Epoch 5/30\n",
      "Train Loss: 0.3470 | Test Loss: 0.3343 | Train Acc: 0.8585 | Test Acc: 0.8706\n",
      "Train Precision: 0.8820 | Test Precision: 0.8981 | Train Recall: 0.9401 | Test Recall: 0.9377\n",
      "Train F1 Score: 0.9101 | Test F1 Score: 0.9175 | Train AUC-ROC: 0.7682 | Test AUC-ROC: 0.7939\n",
      "Training Started...!!\n",
      "\n",
      "Epoch 6/30\n",
      "Train Loss: 0.3365 | Test Loss: 0.3277 | Train Acc: 0.8583 | Test Acc: 0.8690\n",
      "Train Precision: 0.8813 | Test Precision: 0.8987 | Train Recall: 0.9407 | Test Recall: 0.9345\n",
      "Train F1 Score: 0.9101 | Test F1 Score: 0.9162 | Train AUC-ROC: 0.7671 | Test AUC-ROC: 0.7940\n",
      "Training Started...!!\n",
      "\n",
      "Epoch 7/30\n",
      "Train Loss: 0.3288 | Test Loss: 0.3133 | Train Acc: 0.8626 | Test Acc: 0.8714\n",
      "Train Precision: 0.8816 | Test Precision: 0.8937 | Train Recall: 0.9469 | Test Recall: 0.9447\n",
      "Train F1 Score: 0.9131 | Test F1 Score: 0.9185 | Train AUC-ROC: 0.7693 | Test AUC-ROC: 0.7875\n",
      "Training Started...!!\n",
      "\n",
      "Epoch 8/30\n",
      "Train Loss: 0.3223 | Test Loss: 0.3088 | Train Acc: 0.8655 | Test Acc: 0.8717\n",
      "Train Precision: 0.8840 | Test Precision: 0.8980 | Train Recall: 0.9479 | Test Recall: 0.9394\n",
      "Train F1 Score: 0.9149 | Test F1 Score: 0.9182 | Train AUC-ROC: 0.7744 | Test AUC-ROC: 0.7942\n",
      "Training Started...!!\n",
      "\n",
      "Epoch 9/30\n",
      "Train Loss: 0.3181 | Test Loss: 0.3036 | Train Acc: 0.8679 | Test Acc: 0.8744\n",
      "Train Precision: 0.8873 | Test Precision: 0.9010 | Train Recall: 0.9470 | Test Recall: 0.9394\n",
      "Train F1 Score: 0.9162 | Test F1 Score: 0.9198 | Train AUC-ROC: 0.7805 | Test AUC-ROC: 0.8000\n",
      "Training Started...!!\n",
      "\n",
      "Epoch 10/30\n",
      "Train Loss: 0.3102 | Test Loss: 0.3007 | Train Acc: 0.8693 | Test Acc: 0.8752\n",
      "Train Precision: 0.8876 | Test Precision: 0.9011 | Train Recall: 0.9486 | Test Recall: 0.9405\n",
      "Train F1 Score: 0.9171 | Test F1 Score: 0.9204 | Train AUC-ROC: 0.7815 | Test AUC-ROC: 0.8005\n",
      "Training Started...!!\n",
      "\n",
      "Epoch 11/30\n",
      "Train Loss: 0.3106 | Test Loss: 0.2958 | Train Acc: 0.8717 | Test Acc: 0.8763\n",
      "Train Precision: 0.8912 | Test Precision: 0.8972 | Train Recall: 0.9474 | Test Recall: 0.9472\n",
      "Train F1 Score: 0.9184 | Test F1 Score: 0.9215 | Train AUC-ROC: 0.7880 | Test AUC-ROC: 0.7951\n",
      "Training Started...!!\n",
      "\n",
      "Epoch 12/30\n",
      "Train Loss: 0.3082 | Test Loss: 0.2952 | Train Acc: 0.8711 | Test Acc: 0.8757\n",
      "Train Precision: 0.8895 | Test Precision: 0.8990 | Train Recall: 0.9488 | Test Recall: 0.9440\n",
      "Train F1 Score: 0.9182 | Test F1 Score: 0.9210 | Train AUC-ROC: 0.7852 | Test AUC-ROC: 0.7976\n",
      "Training Started...!!\n",
      "\n",
      "Epoch 13/30\n",
      "Train Loss: 0.3043 | Test Loss: 0.2937 | Train Acc: 0.8722 | Test Acc: 0.8771\n",
      "Train Precision: 0.8919 | Test Precision: 0.9008 | Train Recall: 0.9471 | Test Recall: 0.9436\n",
      "Train F1 Score: 0.9187 | Test F1 Score: 0.9217 | Train AUC-ROC: 0.7893 | Test AUC-ROC: 0.8009\n",
      "Training Started...!!\n",
      "\n",
      "Epoch 14/30\n",
      "Train Loss: 0.3001 | Test Loss: 0.2920 | Train Acc: 0.8747 | Test Acc: 0.8771\n",
      "Train Precision: 0.8932 | Test Precision: 0.9008 | Train Recall: 0.9492 | Test Recall: 0.9436\n",
      "Train F1 Score: 0.9203 | Test F1 Score: 0.9217 | Train AUC-ROC: 0.7923 | Test AUC-ROC: 0.8009\n",
      "Training Started...!!\n",
      "\n",
      "Epoch 15/30\n",
      "Train Loss: 0.2972 | Test Loss: 0.2916 | Train Acc: 0.8757 | Test Acc: 0.8774\n",
      "Train Precision: 0.8949 | Test Precision: 0.9041 | Train Recall: 0.9484 | Test Recall: 0.9398\n",
      "Train F1 Score: 0.9209 | Test F1 Score: 0.9216 | Train AUC-ROC: 0.7955 | Test AUC-ROC: 0.8059\n",
      "Training Started...!!\n",
      "\n",
      "Epoch 16/30\n",
      "Train Loss: 0.2955 | Test Loss: 0.2911 | Train Acc: 0.8757 | Test Acc: 0.8779\n",
      "Train Precision: 0.8936 | Test Precision: 0.9001 | Train Recall: 0.9502 | Test Recall: 0.9458\n",
      "Train F1 Score: 0.9210 | Test F1 Score: 0.9224 | Train AUC-ROC: 0.7934 | Test AUC-ROC: 0.8002\n",
      "Training Started...!!\n",
      "\n",
      "Epoch 17/30\n",
      "Train Loss: 0.2960 | Test Loss: 0.2912 | Train Acc: 0.8749 | Test Acc: 0.8779\n",
      "Train Precision: 0.8944 | Test Precision: 0.8993 | Train Recall: 0.9479 | Test Recall: 0.9468\n",
      "Train F1 Score: 0.9204 | Test F1 Score: 0.9224 | Train AUC-ROC: 0.7943 | Test AUC-ROC: 0.7990\n",
      "Training Started...!!\n",
      "\n",
      "Epoch 18/30\n",
      "Train Loss: 0.2942 | Test Loss: 0.2907 | Train Acc: 0.8759 | Test Acc: 0.8779\n",
      "Train Precision: 0.8932 | Test Precision: 0.9042 | Train Recall: 0.9510 | Test Recall: 0.9405\n",
      "Train F1 Score: 0.9212 | Test F1 Score: 0.9220 | Train AUC-ROC: 0.7930 | Test AUC-ROC: 0.8063\n",
      "Training Started...!!\n",
      "\n",
      "Epoch 19/30\n",
      "Train Loss: 0.2952 | Test Loss: 0.2911 | Train Acc: 0.8763 | Test Acc: 0.8779\n",
      "Train Precision: 0.8948 | Test Precision: 0.9039 | Train Recall: 0.9493 | Test Recall: 0.9408\n",
      "Train F1 Score: 0.9213 | Test F1 Score: 0.9220 | Train AUC-ROC: 0.7955 | Test AUC-ROC: 0.8059\n",
      "Training Started...!!\n",
      "\n",
      "Epoch 20/30\n",
      "Train Loss: 0.2920 | Test Loss: 0.2921 | Train Acc: 0.8779 | Test Acc: 0.8790\n",
      "Train Precision: 0.8959 | Test Precision: 0.9087 | Train Recall: 0.9503 | Test Recall: 0.9362\n",
      "Train F1 Score: 0.9223 | Test F1 Score: 0.9223 | Train AUC-ROC: 0.7979 | Test AUC-ROC: 0.8134\n",
      "Training Started...!!\n",
      "\n",
      "Epoch 21/30\n",
      "Train Loss: 0.2907 | Test Loss: 0.2896 | Train Acc: 0.8791 | Test Acc: 0.8787\n",
      "Train Precision: 0.8960 | Test Precision: 0.9013 | Train Recall: 0.9518 | Test Recall: 0.9454\n",
      "Train F1 Score: 0.9231 | Test F1 Score: 0.9228 | Train AUC-ROC: 0.7986 | Test AUC-ROC: 0.8024\n",
      "Training Started...!!\n",
      "\n",
      "Epoch 22/30\n",
      "Train Loss: 0.2907 | Test Loss: 0.2893 | Train Acc: 0.8786 | Test Acc: 0.8795\n",
      "Train Precision: 0.8972 | Test Precision: 0.9027 | Train Recall: 0.9496 | Test Recall: 0.9447\n",
      "Train F1 Score: 0.9226 | Test F1 Score: 0.9232 | Train AUC-ROC: 0.8001 | Test AUC-ROC: 0.8049\n",
      "Training Started...!!\n",
      "\n",
      "Epoch 23/30\n",
      "Train Loss: 0.2903 | Test Loss: 0.2908 | Train Acc: 0.8801 | Test Acc: 0.8784\n",
      "Train Precision: 0.8961 | Test Precision: 0.9062 | Train Recall: 0.9532 | Test Recall: 0.9387\n",
      "Train F1 Score: 0.9238 | Test F1 Score: 0.9221 | Train AUC-ROC: 0.7992 | Test AUC-ROC: 0.8094\n",
      "Training Started...!!\n",
      "\n",
      "Epoch 24/30\n",
      "Train Loss: 0.2877 | Test Loss: 0.2896 | Train Acc: 0.8808 | Test Acc: 0.8795\n",
      "Train Precision: 0.8985 | Test Precision: 0.9030 | Train Recall: 0.9511 | Test Recall: 0.9443\n",
      "Train F1 Score: 0.9241 | Test F1 Score: 0.9232 | Train AUC-ROC: 0.8031 | Test AUC-ROC: 0.8053\n",
      "Training Started...!!\n",
      "\n",
      "Epoch 25/30\n",
      "Train Loss: 0.2881 | Test Loss: 0.2897 | Train Acc: 0.8813 | Test Acc: 0.8793\n",
      "Train Precision: 0.8976 | Test Precision: 0.9054 | Train Recall: 0.9530 | Test Recall: 0.9408\n",
      "Train F1 Score: 0.9245 | Test F1 Score: 0.9228 | Train AUC-ROC: 0.8020 | Test AUC-ROC: 0.8088\n",
      "Training Started...!!\n",
      "\n",
      "Epoch 26/30\n",
      "Train Loss: 0.2865 | Test Loss: 0.2885 | Train Acc: 0.8816 | Test Acc: 0.8793\n",
      "Train Precision: 0.8975 | Test Precision: 0.9005 | Train Recall: 0.9536 | Test Recall: 0.9472\n",
      "Train F1 Score: 0.9247 | Test F1 Score: 0.9233 | Train AUC-ROC: 0.8019 | Test AUC-ROC: 0.8015\n",
      "Training Started...!!\n",
      "\n",
      "Epoch 27/30\n",
      "Train Loss: 0.2853 | Test Loss: 0.2900 | Train Acc: 0.8822 | Test Acc: 0.8801\n",
      "Train Precision: 0.8992 | Test Precision: 0.9088 | Train Recall: 0.9524 | Test Recall: 0.9377\n",
      "Train F1 Score: 0.9250 | Test F1 Score: 0.9230 | Train AUC-ROC: 0.8047 | Test AUC-ROC: 0.8141\n",
      "Training Started...!!\n",
      "\n",
      "Epoch 28/30\n",
      "Train Loss: 0.2869 | Test Loss: 0.2887 | Train Acc: 0.8816 | Test Acc: 0.8814\n",
      "Train Precision: 0.8981 | Test Precision: 0.9040 | Train Recall: 0.9529 | Test Recall: 0.9458\n",
      "Train F1 Score: 0.9247 | Test F1 Score: 0.9244 | Train AUC-ROC: 0.8029 | Test AUC-ROC: 0.8078\n",
      "Training Started...!!\n",
      "\n",
      "Epoch 29/30\n",
      "Train Loss: 0.2831 | Test Loss: 0.2888 | Train Acc: 0.8816 | Test Acc: 0.8809\n",
      "Train Precision: 0.8987 | Test Precision: 0.9015 | Train Recall: 0.9519 | Test Recall: 0.9482\n",
      "Train F1 Score: 0.9246 | Test F1 Score: 0.9243 | Train AUC-ROC: 0.8038 | Test AUC-ROC: 0.8038\n",
      "Training Started...!!\n",
      "\n",
      "Epoch 30/30\n",
      "Train Loss: 0.2844 | Test Loss: 0.2901 | Train Acc: 0.8823 | Test Acc: 0.8801\n",
      "Train Precision: 0.8998 | Test Precision: 0.9069 | Train Recall: 0.9516 | Test Recall: 0.9401\n",
      "Train F1 Score: 0.9250 | Test F1 Score: 0.9232 | Train AUC-ROC: 0.8056 | Test AUC-ROC: 0.8113\n",
      "\n",
      "Training completed in 27.61 seconds.\n"
     ]
    }
   ],
   "source": [
    "train_losses = []\n",
    "test_losses = []\n",
    "train_accuracies = []\n",
    "test_accuracies = []\n",
    "train_precisions = []\n",
    "test_precisions = []\n",
    "train_recalls = []\n",
    "test_recalls = []\n",
    "train_f1_scores = []\n",
    "test_f1_scores = []\n",
    "train_auc_roc = [] \n",
    "test_auc_roc = []\n",
    "\n",
    "torch.manual_seed(42)\n",
    "epochs = 30\n",
    "start_time = time.time()\n",
    "\n",
    "for epoch in range(1, epochs + 1):\n",
    "    train_loss, train_accuracy, train_precision, train_recall, train_f1_score, train_auc_roc_value = train(model, train_loader, criterion, optimizer, device)\n",
    "    test_loss, test_accuracy, test_precision, test_recall, test_f1_score, test_auc_roc_value = evaluate(model, test_loader, criterion, device)\n",
    "\n",
    "    # Store metrics for plotting\n",
    "    train_losses.append(train_loss)\n",
    "    test_losses.append(test_loss)\n",
    "    train_accuracies.append(train_accuracy)\n",
    "    test_accuracies.append(test_accuracy)\n",
    "    train_precisions.append(train_precision)\n",
    "    test_precisions.append(test_precision)\n",
    "    train_recalls.append(train_recall)\n",
    "    test_recalls.append(test_recall)\n",
    "    train_f1_scores.append(train_f1_score)\n",
    "    test_f1_scores.append(test_f1_score)\n",
    "    train_auc_roc.append(train_auc_roc_value)\n",
    "    test_auc_roc.append(test_auc_roc_value)\n",
    "\n",
    "    # Print epoch results\n",
    "    print(\"Training Started...!!\")\n",
    "    print(f\"\\nEpoch {epoch}/{epochs}\")\n",
    "    print(f\"Train Loss: {train_loss:.4f} | Test Loss: {test_loss:.4f} | Train Acc: {train_accuracy:.4f} | Test Acc: {test_accuracy:.4f}\")\n",
    "    print(f\"Train Precision: {train_precision:.4f} | Test Precision: {test_precision:.4f} | Train Recall: {train_recall:.4f} | Test Recall: {test_recall:.4f}\")\n",
    "    print(f\"Train F1 Score: {train_f1_score:.4f} | Test F1 Score: {test_f1_score:.4f} | Train AUC-ROC: {train_auc_roc_value:.4f} | Test AUC-ROC: {test_auc_roc_value:.4f}\")\n",
    "\n",
    "end_time = time.time()\n",
    "print(f\"\\nTraining completed in {end_time - start_time:.2f} seconds.\")"
   ]
  },
  {
   "cell_type": "code",
   "execution_count": 29,
   "id": "6856e3d3",
   "metadata": {
    "execution": {
     "iopub.execute_input": "2025-03-26T06:37:01.169210Z",
     "iopub.status.busy": "2025-03-26T06:37:01.168903Z",
     "iopub.status.idle": "2025-03-26T06:37:02.114353Z",
     "shell.execute_reply": "2025-03-26T06:37:02.113430Z"
    },
    "papermill": {
     "duration": 0.956376,
     "end_time": "2025-03-26T06:37:02.116539",
     "exception": false,
     "start_time": "2025-03-26T06:37:01.160163",
     "status": "completed"
    },
    "tags": []
   },
   "outputs": [
    {
     "data": {
      "image/png": "[encoded data removed]",
      "text/plain": [
       "<Figure size 2000x1000 with 6 Axes>"
      ]
     },
     "metadata": {},
     "output_type": "display_data"
    }
   ],
   "source": [
    "# Plotting the metrics\n",
    "import matplotlib.pyplot as plt\n",
    "\n",
    "epochs_range = range(1, epochs + 1)\n",
    "plt.figure(figsize=(20, 10))\n",
    "\n",
    "plt.subplot(2, 3, 1)\n",
    "plt.plot(epochs_range, train_losses, label='Train Loss')\n",
    "plt.plot(epochs_range, test_losses, label='Test Loss')\n",
    "\n",
    "# Plot Accuracy\n",
    "plt.subplot(2, 3, 2)\n",
    "plt.plot(epochs_range, train_accuracies, label='Train Accuracy')\n",
    "plt.plot(epochs_range, test_accuracies, label='Test Accuracy')\n",
    "\n",
    "\n",
    "# Plot Precision\n",
    "plt.subplot(2, 3, 3)\n",
    "plt.plot(epochs_range, train_precisions, label='Train Precision')\n",
    "plt.plot(epochs_range, test_precisions, label='Test Precision')\n",
    "\n",
    "# Plot Recall\n",
    "plt.subplot(2, 3, 4)\n",
    "plt.plot(epochs_range, train_recalls, label='Train Recall')\n",
    "plt.plot(epochs_range, test_recalls, label='Test Recall')\n",
    "\n",
    "# Plot F1 Score\n",
    "plt.subplot(2, 3, 5)\n",
    "plt.plot(epochs_range, train_f1_scores, label='Train F1 Score')\n",
    "plt.plot(epochs_range, test_f1_scores, label='Test F1 Score')\n",
    "\n",
    "\n",
    "# Plot AUC-ROC\n",
    "plt.subplot(2, 3, 6)\n",
    "plt.plot(epochs_range, train_auc_roc, label='Train AUC-ROC')\n",
    "plt.plot(epochs_range, test_auc_roc, label='Test AUC-ROC')\n",
    "\n",
    "plt.tight_layout()\n",
    "plt.show()"
   ]
  },
  {
   "cell_type": "code",
   "execution_count": 30,
   "id": "c5b84ad2",
   "metadata": {
    "execution": {
     "iopub.execute_input": "2025-03-26T06:37:02.139245Z",
     "iopub.status.busy": "2025-03-26T06:37:02.138960Z",
     "iopub.status.idle": "2025-03-26T06:37:02.145523Z",
     "shell.execute_reply": "2025-03-26T06:37:02.144803Z"
    },
    "papermill": {
     "duration": 0.019185,
     "end_time": "2025-03-26T06:37:02.146721",
     "exception": false,
     "start_time": "2025-03-26T06:37:02.127536",
     "status": "completed"
    },
    "tags": []
   },
   "outputs": [
    {
     "name": "stdout",
     "output_type": "stream",
     "text": [
      "Full model saved at: CandidateRanking.pth\n"
     ]
    }
   ],
   "source": [
    "model_path = \"CandidateRanking.pth\"\n",
    "torch.save(model.state_dict(), model_path)\n",
    "print(f\"Full model saved at: {model_path}\")"
   ]
  },
  {
   "cell_type": "code",
   "execution_count": 31,
   "id": "48ca4d60",
   "metadata": {
    "execution": {
     "iopub.execute_input": "2025-03-26T06:37:02.169256Z",
     "iopub.status.busy": "2025-03-26T06:37:02.168975Z",
     "iopub.status.idle": "2025-03-26T06:37:02.172220Z",
     "shell.execute_reply": "2025-03-26T06:37:02.171483Z"
    },
    "papermill": {
     "duration": 0.0159,
     "end_time": "2025-03-26T06:37:02.173438",
     "exception": false,
     "start_time": "2025-03-26T06:37:02.157538",
     "status": "completed"
    },
    "tags": []
   },
   "outputs": [],
   "source": [
    "# num_features = X_train_tensor.shape[1]\n",
    "# hidden_units = 128\n",
    "\n",
    "# # Assuming `model` is your trained model\n",
    "# model_path = \"CandidateRankingModel_with_param.pth\"\n",
    "# torch.save({\n",
    "#     'model_state_dict': model.state_dict(),\n",
    "#     'num_features': num_features,\n",
    "#     'hidden_units': hidden_units,\n",
    "# }, model_path)\n",
    "\n",
    "# print(f\"Model and parameters saved at: {model_path}\")"
   ]
  }
 ],
 "metadata": {
  "kaggle": {
   "accelerator": "gpu",
   "dataSources": [
    {
     "datasetId": 6961980,
     "sourceId": 11157946,
     "sourceType": "datasetVersion"
    }
   ],
   "dockerImageVersionId": 30919,
   "isGpuEnabled": true,
   "isInternetEnabled": true,
   "language": "python",
   "sourceType": "notebook"
  },
  "kernelspec": {
   "display_name": "Python 3",
   "language": "python",
   "name": "python3"
  },
  "language_info": {
   "codemirror_mode": {
    "name": "ipython",
    "version": 3
   },
   "file_extension": ".py",
   "mimetype": "text/x-python",
   "name": "python",
   "nbconvert_exporter": "python",
   "pygments_lexer": "ipython3",
   "version": "3.10.12"
  },
  "papermill": {
   "default_parameters": {},
   "duration": 46.812026,
   "end_time": "2025-03-26T06:37:04.668347",
   "environment_variables": {},
   "exception": null,
   "input_path": "__notebook__.ipynb",
   "output_path": "__notebook__.ipynb",
   "parameters": {},
   "start_time": "2025-03-26T06:36:17.856321",
   "version": "2.6.0"
  }
 },
 "nbformat": 4,
 "nbformat_minor": 5
}
