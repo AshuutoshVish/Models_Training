{
 "cells": [
  {
   "cell_type": "code",
   "execution_count": 1,
   "id": "514a704a",
   "metadata": {
    "_cell_guid": "b1076dfc-b9ad-4769-8c92-a6c4dae69d19",
    "_uuid": "8f2839f25d086af736a60e9eeb907d3b93b6e0e5",
    "execution": {
     "iopub.execute_input": "2025-03-26T13:11:54.483744Z",
     "iopub.status.busy": "2025-03-26T13:11:54.483285Z",
     "iopub.status.idle": "2025-03-26T13:11:58.545082Z",
     "shell.execute_reply": "2025-03-26T13:11:58.543824Z"
    },
    "papermill": {
     "duration": 4.071102,
     "end_time": "2025-03-26T13:11:58.547271",
     "exception": false,
     "start_time": "2025-03-26T13:11:54.476169",
     "status": "completed"
    },
    "tags": []
   },
   "outputs": [],
   "source": [
    "# Import necessary libraries\n",
    "import numpy as np\n",
    "import pandas as pd\n",
    "from sklearn.model_selection import train_test_split\n",
    "from sklearn.impute import SimpleImputer\n",
    "from sklearn.preprocessing import StandardScaler, OneHotEncoder\n",
    "from sklearn.compose import ColumnTransformer\n",
    "from sklearn import set_config\n",
    "from sklearn.pipeline import Pipeline\n",
    "from imblearn.over_sampling import SMOTE\n",
    "from imblearn.pipeline import Pipeline\n",
    "\n",
    "from sklearn.ensemble import RandomForestClassifier\n",
    "from sklearn.metrics import accuracy_score, classification_report, confusion_matrix"
   ]
  },
  {
   "cell_type": "code",
   "execution_count": 2,
   "id": "ba5003e4",
   "metadata": {
    "execution": {
     "iopub.execute_input": "2025-03-26T13:11:58.559294Z",
     "iopub.status.busy": "2025-03-26T13:11:58.558770Z",
     "iopub.status.idle": "2025-03-26T13:11:58.599381Z",
     "shell.execute_reply": "2025-03-26T13:11:58.598011Z"
    },
    "papermill": {
     "duration": 0.048528,
     "end_time": "2025-03-26T13:11:58.601244",
     "exception": false,
     "start_time": "2025-03-26T13:11:58.552716",
     "status": "completed"
    },
    "tags": []
   },
   "outputs": [],
   "source": [
    "df=pd.read_csv('/kaggle/input/hirings-dataset/hiring.csv')"
   ]
  },
  {
   "cell_type": "code",
   "execution_count": 3,
   "id": "4784c84b",
   "metadata": {
    "execution": {
     "iopub.execute_input": "2025-03-26T13:11:58.612812Z",
     "iopub.status.busy": "2025-03-26T13:11:58.612480Z",
     "iopub.status.idle": "2025-03-26T13:11:58.640337Z",
     "shell.execute_reply": "2025-03-26T13:11:58.639118Z"
    },
    "papermill": {
     "duration": 0.035649,
     "end_time": "2025-03-26T13:11:58.642209",
     "exception": false,
     "start_time": "2025-03-26T13:11:58.606560",
     "status": "completed"
    },
    "tags": []
   },
   "outputs": [
    {
     "data": {
      "text/html": [
       "<div>\n",
       "<style scoped>\n",
       "    .dataframe tbody tr th:only-of-type {\n",
       "        vertical-align: middle;\n",
       "    }\n",
       "\n",
       "    .dataframe tbody tr th {\n",
       "        vertical-align: top;\n",
       "    }\n",
       "\n",
       "    .dataframe thead th {\n",
       "        text-align: right;\n",
       "    }\n",
       "</style>\n",
       "<table border=\"1\" class=\"dataframe\">\n",
       "  <thead>\n",
       "    <tr style=\"text-align: right;\">\n",
       "      <th></th>\n",
       "      <th>Age</th>\n",
       "      <th>Gender</th>\n",
       "      <th>EducationLevel</th>\n",
       "      <th>ExperienceYears</th>\n",
       "      <th>PreviousCompanies</th>\n",
       "      <th>DistanceFromCompany</th>\n",
       "      <th>InterviewScore</th>\n",
       "      <th>SkillScore</th>\n",
       "      <th>PersonalityScore</th>\n",
       "      <th>RecruitmentStrategy</th>\n",
       "      <th>HiringDecision</th>\n",
       "    </tr>\n",
       "  </thead>\n",
       "  <tbody>\n",
       "    <tr>\n",
       "      <th>0</th>\n",
       "      <td>26</td>\n",
       "      <td>1</td>\n",
       "      <td>2</td>\n",
       "      <td>0</td>\n",
       "      <td>3</td>\n",
       "      <td>27</td>\n",
       "      <td>48</td>\n",
       "      <td>78</td>\n",
       "      <td>91</td>\n",
       "      <td>1</td>\n",
       "      <td>1</td>\n",
       "    </tr>\n",
       "    <tr>\n",
       "      <th>1</th>\n",
       "      <td>39</td>\n",
       "      <td>1</td>\n",
       "      <td>4</td>\n",
       "      <td>12</td>\n",
       "      <td>3</td>\n",
       "      <td>26</td>\n",
       "      <td>35</td>\n",
       "      <td>68</td>\n",
       "      <td>80</td>\n",
       "      <td>2</td>\n",
       "      <td>1</td>\n",
       "    </tr>\n",
       "  </tbody>\n",
       "</table>\n",
       "</div>"
      ],
      "text/plain": [
       "   Age  Gender  EducationLevel  ExperienceYears  PreviousCompanies  \\\n",
       "0   26       1               2                0                  3   \n",
       "1   39       1               4               12                  3   \n",
       "\n",
       "   DistanceFromCompany  InterviewScore  SkillScore  PersonalityScore  \\\n",
       "0                   27              48          78                91   \n",
       "1                   26              35          68                80   \n",
       "\n",
       "   RecruitmentStrategy  HiringDecision  \n",
       "0                    1               1  \n",
       "1                    2               1  "
      ]
     },
     "execution_count": 3,
     "metadata": {},
     "output_type": "execute_result"
    }
   ],
   "source": [
    "df.head(2)"
   ]
  },
  {
   "cell_type": "code",
   "execution_count": 4,
   "id": "3db97948",
   "metadata": {
    "execution": {
     "iopub.execute_input": "2025-03-26T13:11:58.654154Z",
     "iopub.status.busy": "2025-03-26T13:11:58.653747Z",
     "iopub.status.idle": "2025-03-26T13:11:58.667936Z",
     "shell.execute_reply": "2025-03-26T13:11:58.666840Z"
    },
    "papermill": {
     "duration": 0.022102,
     "end_time": "2025-03-26T13:11:58.669866",
     "exception": false,
     "start_time": "2025-03-26T13:11:58.647764",
     "status": "completed"
    },
    "tags": []
   },
   "outputs": [],
   "source": [
    "X = df.drop(['HiringDecision'], axis=1)\n",
    "y = df['HiringDecision']"
   ]
  },
  {
   "cell_type": "code",
   "execution_count": 5,
   "id": "c2981174",
   "metadata": {
    "execution": {
     "iopub.execute_input": "2025-03-26T13:11:58.682022Z",
     "iopub.status.busy": "2025-03-26T13:11:58.681623Z",
     "iopub.status.idle": "2025-03-26T13:11:58.687774Z",
     "shell.execute_reply": "2025-03-26T13:11:58.686508Z"
    },
    "papermill": {
     "duration": 0.014066,
     "end_time": "2025-03-26T13:11:58.689506",
     "exception": false,
     "start_time": "2025-03-26T13:11:58.675440",
     "status": "completed"
    },
    "tags": []
   },
   "outputs": [
    {
     "data": {
      "text/plain": [
       "Index(['Age', 'Gender', 'EducationLevel', 'ExperienceYears',\n",
       "       'PreviousCompanies', 'DistanceFromCompany', 'InterviewScore',\n",
       "       'SkillScore', 'PersonalityScore', 'RecruitmentStrategy',\n",
       "       'HiringDecision'],\n",
       "      dtype='object')"
      ]
     },
     "execution_count": 5,
     "metadata": {},
     "output_type": "execute_result"
    }
   ],
   "source": [
    "df.columns"
   ]
  },
  {
   "cell_type": "code",
   "execution_count": 6,
   "id": "aaee6844",
   "metadata": {
    "execution": {
     "iopub.execute_input": "2025-03-26T13:11:58.701844Z",
     "iopub.status.busy": "2025-03-26T13:11:58.701515Z",
     "iopub.status.idle": "2025-03-26T13:11:59.259229Z",
     "shell.execute_reply": "2025-03-26T13:11:59.257624Z"
    },
    "papermill": {
     "duration": 0.566511,
     "end_time": "2025-03-26T13:11:59.261583",
     "exception": false,
     "start_time": "2025-03-26T13:11:58.695072",
     "status": "completed"
    },
    "tags": []
   },
   "outputs": [
    {
     "name": "stdout",
     "output_type": "stream",
     "text": [
      "\n",
      "Model Accuracy: 92.00%\n",
      "\n",
      "Classification Report:\n",
      "               precision    recall  f1-score   support\n",
      "\n",
      "           0       0.94      0.94      0.94       215\n",
      "           1       0.86      0.86      0.86        85\n",
      "\n",
      "    accuracy                           0.92       300\n",
      "   macro avg       0.90      0.90      0.90       300\n",
      "weighted avg       0.92      0.92      0.92       300\n",
      "\n"
     ]
    }
   ],
   "source": [
    "# Step 1: Define preprocessing for numerical and categorical columns\n",
    "numerical_features = ['Age', 'ExperienceYears', 'PreviousCompanies', 'DistanceFromCompany', 'InterviewScore', 'SkillScore', 'PersonalityScore']\n",
    "categorical_features = ['Gender', 'EducationLevel', 'RecruitmentStrategy']\n",
    "\n",
    "# Create transformers and scaling\n",
    "numerical_transformer = Pipeline(steps=[('imputer', SimpleImputer(strategy='mean')),\n",
    "                                        ('scaler', StandardScaler())\n",
    "                                       ])\n",
    "# One hot encode categorical data\n",
    "categorical_transformer = Pipeline(steps=[('imputer', SimpleImputer(strategy='most_frequent')),\n",
    "                                          ('onehot', OneHotEncoder(handle_unknown='ignore'))\n",
    "                                         ])\n",
    "\n",
    "# Combine them into a column transformer\n",
    "preprocessor = ColumnTransformer(transformers=[('num', numerical_transformer, numerical_features),\n",
    "                                               ('cat', categorical_transformer, categorical_features)\n",
    "                                              ])\n",
    "\n",
    "# ull pipeline with preprocessing and model training\n",
    "pipeline = Pipeline(steps=[('preprocessor', preprocessor),                 # Preprocessing\n",
    "                           ('smote', SMOTE(sampling_strategy='auto', random_state=42)),  # SMOTE Oversampling\n",
    "                           ('classifier', RandomForestClassifier(n_estimators=100, random_state=42))\n",
    "                          ])\n",
    "                           \n",
    "\n",
    "\n",
    "X_train, X_test, y_train, y_test = train_test_split(X, y, test_size=0.2, random_state=42)\n",
    "pipeline.fit(X_train, y_train)\n",
    "y_pred = pipeline.predict(X_test)\n",
    "\n",
    "# Evaluate the model\n",
    "accuracy = accuracy_score(y_test, y_pred)\n",
    "print(f'\\nModel Accuracy: {accuracy * 100:.2f}%')\n",
    "print(\"\\nClassification Report:\\n\", classification_report(y_test, y_pred))"
   ]
  },
  {
   "cell_type": "code",
   "execution_count": 7,
   "id": "ea7fa155",
   "metadata": {
    "execution": {
     "iopub.execute_input": "2025-03-26T13:11:59.276793Z",
     "iopub.status.busy": "2025-03-26T13:11:59.276233Z",
     "iopub.status.idle": "2025-03-26T13:11:59.286397Z",
     "shell.execute_reply": "2025-03-26T13:11:59.285001Z"
    },
    "papermill": {
     "duration": 0.020981,
     "end_time": "2025-03-26T13:11:59.288631",
     "exception": false,
     "start_time": "2025-03-26T13:11:59.267650",
     "status": "completed"
    },
    "tags": []
   },
   "outputs": [
    {
     "data": {
      "text/plain": [
       "array([[203,  12],\n",
       "       [ 12,  73]])"
      ]
     },
     "execution_count": 7,
     "metadata": {},
     "output_type": "execute_result"
    }
   ],
   "source": [
    "confusion_matrix(y_test, y_pred)"
   ]
  },
  {
   "cell_type": "markdown",
   "id": "267344ca",
   "metadata": {
    "papermill": {
     "duration": 0.005619,
     "end_time": "2025-03-26T13:11:59.304019",
     "exception": false,
     "start_time": "2025-03-26T13:11:59.298400",
     "status": "completed"
    },
    "tags": []
   },
   "source": [
    "# Making Prediction and recommendations"
   ]
  },
  {
   "cell_type": "code",
   "execution_count": 8,
   "id": "a48ce7b6",
   "metadata": {
    "execution": {
     "iopub.execute_input": "2025-03-26T13:11:59.319188Z",
     "iopub.status.busy": "2025-03-26T13:11:59.318785Z",
     "iopub.status.idle": "2025-03-26T13:11:59.358256Z",
     "shell.execute_reply": "2025-03-26T13:11:59.357078Z"
    },
    "papermill": {
     "duration": 0.048144,
     "end_time": "2025-03-26T13:11:59.360369",
     "exception": false,
     "start_time": "2025-03-26T13:11:59.312225",
     "status": "completed"
    },
    "tags": []
   },
   "outputs": [],
   "source": [
    "# === Make Predictions for All Candidates ===\n",
    "df['Hire_Probability'] = pipeline.predict_proba(X)[:, 1]  # Probability of being hired\n",
    "\n",
    "# Filter candidates who were not hired but have a high hire probability\n",
    "not_hired = df[df['HiringDecision'] == 0]\n",
    "\n",
    "# Sort by highest predicted probability\n",
    "top_not_hired = not_hired.sort_values('Hire_Probability', ascending=False)"
   ]
  },
  {
   "cell_type": "code",
   "execution_count": 9,
   "id": "7cfde830",
   "metadata": {
    "execution": {
     "iopub.execute_input": "2025-03-26T13:11:59.373181Z",
     "iopub.status.busy": "2025-03-26T13:11:59.372744Z",
     "iopub.status.idle": "2025-03-26T13:11:59.387977Z",
     "shell.execute_reply": "2025-03-26T13:11:59.386844Z"
    },
    "papermill": {
     "duration": 0.023867,
     "end_time": "2025-03-26T13:11:59.390045",
     "exception": false,
     "start_time": "2025-03-26T13:11:59.366178",
     "status": "completed"
    },
    "tags": []
   },
   "outputs": [
    {
     "data": {
      "text/html": [
       "<div>\n",
       "<style scoped>\n",
       "    .dataframe tbody tr th:only-of-type {\n",
       "        vertical-align: middle;\n",
       "    }\n",
       "\n",
       "    .dataframe tbody tr th {\n",
       "        vertical-align: top;\n",
       "    }\n",
       "\n",
       "    .dataframe thead th {\n",
       "        text-align: right;\n",
       "    }\n",
       "</style>\n",
       "<table border=\"1\" class=\"dataframe\">\n",
       "  <thead>\n",
       "    <tr style=\"text-align: right;\">\n",
       "      <th></th>\n",
       "      <th>Age</th>\n",
       "      <th>Gender</th>\n",
       "      <th>EducationLevel</th>\n",
       "      <th>ExperienceYears</th>\n",
       "      <th>PreviousCompanies</th>\n",
       "      <th>DistanceFromCompany</th>\n",
       "      <th>InterviewScore</th>\n",
       "      <th>SkillScore</th>\n",
       "      <th>PersonalityScore</th>\n",
       "      <th>RecruitmentStrategy</th>\n",
       "      <th>HiringDecision</th>\n",
       "      <th>Hire_Probability</th>\n",
       "    </tr>\n",
       "  </thead>\n",
       "  <tbody>\n",
       "    <tr>\n",
       "      <th>1440</th>\n",
       "      <td>42</td>\n",
       "      <td>1</td>\n",
       "      <td>2</td>\n",
       "      <td>11</td>\n",
       "      <td>4</td>\n",
       "      <td>5</td>\n",
       "      <td>60</td>\n",
       "      <td>99</td>\n",
       "      <td>61</td>\n",
       "      <td>1</td>\n",
       "      <td>0</td>\n",
       "      <td>0.94</td>\n",
       "    </tr>\n",
       "    <tr>\n",
       "      <th>1402</th>\n",
       "      <td>30</td>\n",
       "      <td>0</td>\n",
       "      <td>3</td>\n",
       "      <td>14</td>\n",
       "      <td>5</td>\n",
       "      <td>29</td>\n",
       "      <td>57</td>\n",
       "      <td>4</td>\n",
       "      <td>88</td>\n",
       "      <td>1</td>\n",
       "      <td>0</td>\n",
       "      <td>0.89</td>\n",
       "    </tr>\n",
       "    <tr>\n",
       "      <th>1445</th>\n",
       "      <td>27</td>\n",
       "      <td>1</td>\n",
       "      <td>2</td>\n",
       "      <td>14</td>\n",
       "      <td>1</td>\n",
       "      <td>45</td>\n",
       "      <td>30</td>\n",
       "      <td>13</td>\n",
       "      <td>77</td>\n",
       "      <td>1</td>\n",
       "      <td>0</td>\n",
       "      <td>0.80</td>\n",
       "    </tr>\n",
       "    <tr>\n",
       "      <th>1027</th>\n",
       "      <td>40</td>\n",
       "      <td>1</td>\n",
       "      <td>2</td>\n",
       "      <td>4</td>\n",
       "      <td>4</td>\n",
       "      <td>16</td>\n",
       "      <td>50</td>\n",
       "      <td>58</td>\n",
       "      <td>9</td>\n",
       "      <td>1</td>\n",
       "      <td>0</td>\n",
       "      <td>0.75</td>\n",
       "    </tr>\n",
       "    <tr>\n",
       "      <th>1348</th>\n",
       "      <td>50</td>\n",
       "      <td>1</td>\n",
       "      <td>3</td>\n",
       "      <td>5</td>\n",
       "      <td>1</td>\n",
       "      <td>35</td>\n",
       "      <td>14</td>\n",
       "      <td>47</td>\n",
       "      <td>55</td>\n",
       "      <td>1</td>\n",
       "      <td>0</td>\n",
       "      <td>0.66</td>\n",
       "    </tr>\n",
       "    <tr>\n",
       "      <th>...</th>\n",
       "      <td>...</td>\n",
       "      <td>...</td>\n",
       "      <td>...</td>\n",
       "      <td>...</td>\n",
       "      <td>...</td>\n",
       "      <td>...</td>\n",
       "      <td>...</td>\n",
       "      <td>...</td>\n",
       "      <td>...</td>\n",
       "      <td>...</td>\n",
       "      <td>...</td>\n",
       "      <td>...</td>\n",
       "    </tr>\n",
       "    <tr>\n",
       "      <th>576</th>\n",
       "      <td>34</td>\n",
       "      <td>1</td>\n",
       "      <td>2</td>\n",
       "      <td>1</td>\n",
       "      <td>2</td>\n",
       "      <td>18</td>\n",
       "      <td>29</td>\n",
       "      <td>28</td>\n",
       "      <td>23</td>\n",
       "      <td>3</td>\n",
       "      <td>0</td>\n",
       "      <td>0.00</td>\n",
       "    </tr>\n",
       "    <tr>\n",
       "      <th>1185</th>\n",
       "      <td>35</td>\n",
       "      <td>1</td>\n",
       "      <td>2</td>\n",
       "      <td>13</td>\n",
       "      <td>2</td>\n",
       "      <td>18</td>\n",
       "      <td>23</td>\n",
       "      <td>54</td>\n",
       "      <td>54</td>\n",
       "      <td>2</td>\n",
       "      <td>0</td>\n",
       "      <td>0.00</td>\n",
       "    </tr>\n",
       "    <tr>\n",
       "      <th>579</th>\n",
       "      <td>27</td>\n",
       "      <td>1</td>\n",
       "      <td>2</td>\n",
       "      <td>0</td>\n",
       "      <td>1</td>\n",
       "      <td>35</td>\n",
       "      <td>41</td>\n",
       "      <td>28</td>\n",
       "      <td>12</td>\n",
       "      <td>3</td>\n",
       "      <td>0</td>\n",
       "      <td>0.00</td>\n",
       "    </tr>\n",
       "    <tr>\n",
       "      <th>1174</th>\n",
       "      <td>28</td>\n",
       "      <td>0</td>\n",
       "      <td>1</td>\n",
       "      <td>9</td>\n",
       "      <td>1</td>\n",
       "      <td>29</td>\n",
       "      <td>56</td>\n",
       "      <td>58</td>\n",
       "      <td>46</td>\n",
       "      <td>2</td>\n",
       "      <td>0</td>\n",
       "      <td>0.00</td>\n",
       "    </tr>\n",
       "    <tr>\n",
       "      <th>734</th>\n",
       "      <td>43</td>\n",
       "      <td>0</td>\n",
       "      <td>1</td>\n",
       "      <td>14</td>\n",
       "      <td>2</td>\n",
       "      <td>28</td>\n",
       "      <td>57</td>\n",
       "      <td>16</td>\n",
       "      <td>44</td>\n",
       "      <td>2</td>\n",
       "      <td>0</td>\n",
       "      <td>0.00</td>\n",
       "    </tr>\n",
       "  </tbody>\n",
       "</table>\n",
       "<p>1035 rows × 12 columns</p>\n",
       "</div>"
      ],
      "text/plain": [
       "      Age  Gender  EducationLevel  ExperienceYears  PreviousCompanies  \\\n",
       "1440   42       1               2               11                  4   \n",
       "1402   30       0               3               14                  5   \n",
       "1445   27       1               2               14                  1   \n",
       "1027   40       1               2                4                  4   \n",
       "1348   50       1               3                5                  1   \n",
       "...   ...     ...             ...              ...                ...   \n",
       "576    34       1               2                1                  2   \n",
       "1185   35       1               2               13                  2   \n",
       "579    27       1               2                0                  1   \n",
       "1174   28       0               1                9                  1   \n",
       "734    43       0               1               14                  2   \n",
       "\n",
       "      DistanceFromCompany  InterviewScore  SkillScore  PersonalityScore  \\\n",
       "1440                    5              60          99                61   \n",
       "1402                   29              57           4                88   \n",
       "1445                   45              30          13                77   \n",
       "1027                   16              50          58                 9   \n",
       "1348                   35              14          47                55   \n",
       "...                   ...             ...         ...               ...   \n",
       "576                    18              29          28                23   \n",
       "1185                   18              23          54                54   \n",
       "579                    35              41          28                12   \n",
       "1174                   29              56          58                46   \n",
       "734                    28              57          16                44   \n",
       "\n",
       "      RecruitmentStrategy  HiringDecision  Hire_Probability  \n",
       "1440                    1               0              0.94  \n",
       "1402                    1               0              0.89  \n",
       "1445                    1               0              0.80  \n",
       "1027                    1               0              0.75  \n",
       "1348                    1               0              0.66  \n",
       "...                   ...             ...               ...  \n",
       "576                     3               0              0.00  \n",
       "1185                    2               0              0.00  \n",
       "579                     3               0              0.00  \n",
       "1174                    2               0              0.00  \n",
       "734                     2               0              0.00  \n",
       "\n",
       "[1035 rows x 12 columns]"
      ]
     },
     "execution_count": 9,
     "metadata": {},
     "output_type": "execute_result"
    }
   ],
   "source": [
    "top_not_hired"
   ]
  },
  {
   "cell_type": "code",
   "execution_count": 10,
   "id": "1c5cb728",
   "metadata": {
    "execution": {
     "iopub.execute_input": "2025-03-26T13:11:59.403013Z",
     "iopub.status.busy": "2025-03-26T13:11:59.402649Z",
     "iopub.status.idle": "2025-03-26T13:11:59.467454Z",
     "shell.execute_reply": "2025-03-26T13:11:59.466470Z"
    },
    "papermill": {
     "duration": 0.073122,
     "end_time": "2025-03-26T13:11:59.469170",
     "exception": false,
     "start_time": "2025-03-26T13:11:59.396048",
     "status": "completed"
    },
    "tags": []
   },
   "outputs": [
    {
     "data": {
      "text/html": [
       "<style>#sk-container-id-1 {color: black;background-color: white;}#sk-container-id-1 pre{padding: 0;}#sk-container-id-1 div.sk-toggleable {background-color: white;}#sk-container-id-1 label.sk-toggleable__label {cursor: pointer;display: block;width: 100%;margin-bottom: 0;padding: 0.3em;box-sizing: border-box;text-align: center;}#sk-container-id-1 label.sk-toggleable__label-arrow:before {content: \"▸\";float: left;margin-right: 0.25em;color: #696969;}#sk-container-id-1 label.sk-toggleable__label-arrow:hover:before {color: black;}#sk-container-id-1 div.sk-estimator:hover label.sk-toggleable__label-arrow:before {color: black;}#sk-container-id-1 div.sk-toggleable__content {max-height: 0;max-width: 0;overflow: hidden;text-align: left;background-color: #f0f8ff;}#sk-container-id-1 div.sk-toggleable__content pre {margin: 0.2em;color: black;border-radius: 0.25em;background-color: #f0f8ff;}#sk-container-id-1 input.sk-toggleable__control:checked~div.sk-toggleable__content {max-height: 200px;max-width: 100%;overflow: auto;}#sk-container-id-1 input.sk-toggleable__control:checked~label.sk-toggleable__label-arrow:before {content: \"▾\";}#sk-container-id-1 div.sk-estimator input.sk-toggleable__control:checked~label.sk-toggleable__label {background-color: #d4ebff;}#sk-container-id-1 div.sk-label input.sk-toggleable__control:checked~label.sk-toggleable__label {background-color: #d4ebff;}#sk-container-id-1 input.sk-hidden--visually {border: 0;clip: rect(1px 1px 1px 1px);clip: rect(1px, 1px, 1px, 1px);height: 1px;margin: -1px;overflow: hidden;padding: 0;position: absolute;width: 1px;}#sk-container-id-1 div.sk-estimator {font-family: monospace;background-color: #f0f8ff;border: 1px dotted black;border-radius: 0.25em;box-sizing: border-box;margin-bottom: 0.5em;}#sk-container-id-1 div.sk-estimator:hover {background-color: #d4ebff;}#sk-container-id-1 div.sk-parallel-item::after {content: \"\";width: 100%;border-bottom: 1px solid gray;flex-grow: 1;}#sk-container-id-1 div.sk-label:hover label.sk-toggleable__label {background-color: #d4ebff;}#sk-container-id-1 div.sk-serial::before {content: \"\";position: absolute;border-left: 1px solid gray;box-sizing: border-box;top: 0;bottom: 0;left: 50%;z-index: 0;}#sk-container-id-1 div.sk-serial {display: flex;flex-direction: column;align-items: center;background-color: white;padding-right: 0.2em;padding-left: 0.2em;position: relative;}#sk-container-id-1 div.sk-item {position: relative;z-index: 1;}#sk-container-id-1 div.sk-parallel {display: flex;align-items: stretch;justify-content: center;background-color: white;position: relative;}#sk-container-id-1 div.sk-item::before, #sk-container-id-1 div.sk-parallel-item::before {content: \"\";position: absolute;border-left: 1px solid gray;box-sizing: border-box;top: 0;bottom: 0;left: 50%;z-index: -1;}#sk-container-id-1 div.sk-parallel-item {display: flex;flex-direction: column;z-index: 1;position: relative;background-color: white;}#sk-container-id-1 div.sk-parallel-item:first-child::after {align-self: flex-end;width: 50%;}#sk-container-id-1 div.sk-parallel-item:last-child::after {align-self: flex-start;width: 50%;}#sk-container-id-1 div.sk-parallel-item:only-child::after {width: 0;}#sk-container-id-1 div.sk-dashed-wrapped {border: 1px dashed gray;margin: 0 0.4em 0.5em 0.4em;box-sizing: border-box;padding-bottom: 0.4em;background-color: white;}#sk-container-id-1 div.sk-label label {font-family: monospace;font-weight: bold;display: inline-block;line-height: 1.2em;}#sk-container-id-1 div.sk-label-container {text-align: center;}#sk-container-id-1 div.sk-container {/* jupyter's `normalize.less` sets `[hidden] { display: none; }` but bootstrap.min.css set `[hidden] { display: none !important; }` so we also need the `!important` here to be able to override the default hidden behavior on the sphinx rendered scikit-learn.org. See: https://github.com/scikit-learn/scikit-learn/issues/21755 */display: inline-block !important;position: relative;}#sk-container-id-1 div.sk-text-repr-fallback {display: none;}</style><div id=\"sk-container-id-1\" class=\"sk-top-container\"><div class=\"sk-text-repr-fallback\"><pre>Pipeline(steps=[(&#x27;preprocessor&#x27;,\n",
       "                 ColumnTransformer(transformers=[(&#x27;num&#x27;,\n",
       "                                                  Pipeline(steps=[(&#x27;imputer&#x27;,\n",
       "                                                                   SimpleImputer()),\n",
       "                                                                  (&#x27;scaler&#x27;,\n",
       "                                                                   StandardScaler())]),\n",
       "                                                  [&#x27;Age&#x27;, &#x27;ExperienceYears&#x27;,\n",
       "                                                   &#x27;PreviousCompanies&#x27;,\n",
       "                                                   &#x27;DistanceFromCompany&#x27;,\n",
       "                                                   &#x27;InterviewScore&#x27;,\n",
       "                                                   &#x27;SkillScore&#x27;,\n",
       "                                                   &#x27;PersonalityScore&#x27;]),\n",
       "                                                 (&#x27;cat&#x27;,\n",
       "                                                  Pipeline(steps=[(&#x27;imputer&#x27;,\n",
       "                                                                   SimpleImputer(strategy=&#x27;most_frequent&#x27;)),\n",
       "                                                                  (&#x27;onehot&#x27;,\n",
       "                                                                   OneHotEncoder(handle_unknown=&#x27;ignore&#x27;))]),\n",
       "                                                  [&#x27;Gender&#x27;, &#x27;EducationLevel&#x27;,\n",
       "                                                   &#x27;RecruitmentStrategy&#x27;])])),\n",
       "                (&#x27;smote&#x27;, SMOTE(random_state=42)),\n",
       "                (&#x27;classifier&#x27;, RandomForestClassifier(random_state=42))])</pre><b>In a Jupyter environment, please rerun this cell to show the HTML representation or trust the notebook. <br />On GitHub, the HTML representation is unable to render, please try loading this page with nbviewer.org.</b></div><div class=\"sk-container\" hidden><div class=\"sk-item sk-dashed-wrapped\"><div class=\"sk-label-container\"><div class=\"sk-label sk-toggleable\"><input class=\"sk-toggleable__control sk-hidden--visually\" id=\"sk-estimator-id-1\" type=\"checkbox\" ><label for=\"sk-estimator-id-1\" class=\"sk-toggleable__label sk-toggleable__label-arrow\">Pipeline</label><div class=\"sk-toggleable__content\"><pre>Pipeline(steps=[(&#x27;preprocessor&#x27;,\n",
       "                 ColumnTransformer(transformers=[(&#x27;num&#x27;,\n",
       "                                                  Pipeline(steps=[(&#x27;imputer&#x27;,\n",
       "                                                                   SimpleImputer()),\n",
       "                                                                  (&#x27;scaler&#x27;,\n",
       "                                                                   StandardScaler())]),\n",
       "                                                  [&#x27;Age&#x27;, &#x27;ExperienceYears&#x27;,\n",
       "                                                   &#x27;PreviousCompanies&#x27;,\n",
       "                                                   &#x27;DistanceFromCompany&#x27;,\n",
       "                                                   &#x27;InterviewScore&#x27;,\n",
       "                                                   &#x27;SkillScore&#x27;,\n",
       "                                                   &#x27;PersonalityScore&#x27;]),\n",
       "                                                 (&#x27;cat&#x27;,\n",
       "                                                  Pipeline(steps=[(&#x27;imputer&#x27;,\n",
       "                                                                   SimpleImputer(strategy=&#x27;most_frequent&#x27;)),\n",
       "                                                                  (&#x27;onehot&#x27;,\n",
       "                                                                   OneHotEncoder(handle_unknown=&#x27;ignore&#x27;))]),\n",
       "                                                  [&#x27;Gender&#x27;, &#x27;EducationLevel&#x27;,\n",
       "                                                   &#x27;RecruitmentStrategy&#x27;])])),\n",
       "                (&#x27;smote&#x27;, SMOTE(random_state=42)),\n",
       "                (&#x27;classifier&#x27;, RandomForestClassifier(random_state=42))])</pre></div></div></div><div class=\"sk-serial\"><div class=\"sk-item sk-dashed-wrapped\"><div class=\"sk-label-container\"><div class=\"sk-label sk-toggleable\"><input class=\"sk-toggleable__control sk-hidden--visually\" id=\"sk-estimator-id-2\" type=\"checkbox\" ><label for=\"sk-estimator-id-2\" class=\"sk-toggleable__label sk-toggleable__label-arrow\">preprocessor: ColumnTransformer</label><div class=\"sk-toggleable__content\"><pre>ColumnTransformer(transformers=[(&#x27;num&#x27;,\n",
       "                                 Pipeline(steps=[(&#x27;imputer&#x27;, SimpleImputer()),\n",
       "                                                 (&#x27;scaler&#x27;, StandardScaler())]),\n",
       "                                 [&#x27;Age&#x27;, &#x27;ExperienceYears&#x27;, &#x27;PreviousCompanies&#x27;,\n",
       "                                  &#x27;DistanceFromCompany&#x27;, &#x27;InterviewScore&#x27;,\n",
       "                                  &#x27;SkillScore&#x27;, &#x27;PersonalityScore&#x27;]),\n",
       "                                (&#x27;cat&#x27;,\n",
       "                                 Pipeline(steps=[(&#x27;imputer&#x27;,\n",
       "                                                  SimpleImputer(strategy=&#x27;most_frequent&#x27;)),\n",
       "                                                 (&#x27;onehot&#x27;,\n",
       "                                                  OneHotEncoder(handle_unknown=&#x27;ignore&#x27;))]),\n",
       "                                 [&#x27;Gender&#x27;, &#x27;EducationLevel&#x27;,\n",
       "                                  &#x27;RecruitmentStrategy&#x27;])])</pre></div></div></div><div class=\"sk-parallel\"><div class=\"sk-parallel-item\"><div class=\"sk-item\"><div class=\"sk-label-container\"><div class=\"sk-label sk-toggleable\"><input class=\"sk-toggleable__control sk-hidden--visually\" id=\"sk-estimator-id-3\" type=\"checkbox\" ><label for=\"sk-estimator-id-3\" class=\"sk-toggleable__label sk-toggleable__label-arrow\">num</label><div class=\"sk-toggleable__content\"><pre>[&#x27;Age&#x27;, &#x27;ExperienceYears&#x27;, &#x27;PreviousCompanies&#x27;, &#x27;DistanceFromCompany&#x27;, &#x27;InterviewScore&#x27;, &#x27;SkillScore&#x27;, &#x27;PersonalityScore&#x27;]</pre></div></div></div><div class=\"sk-serial\"><div class=\"sk-item\"><div class=\"sk-serial\"><div class=\"sk-item\"><div class=\"sk-estimator sk-toggleable\"><input class=\"sk-toggleable__control sk-hidden--visually\" id=\"sk-estimator-id-4\" type=\"checkbox\" ><label for=\"sk-estimator-id-4\" class=\"sk-toggleable__label sk-toggleable__label-arrow\">SimpleImputer</label><div class=\"sk-toggleable__content\"><pre>SimpleImputer()</pre></div></div></div><div class=\"sk-item\"><div class=\"sk-estimator sk-toggleable\"><input class=\"sk-toggleable__control sk-hidden--visually\" id=\"sk-estimator-id-5\" type=\"checkbox\" ><label for=\"sk-estimator-id-5\" class=\"sk-toggleable__label sk-toggleable__label-arrow\">StandardScaler</label><div class=\"sk-toggleable__content\"><pre>StandardScaler()</pre></div></div></div></div></div></div></div></div><div class=\"sk-parallel-item\"><div class=\"sk-item\"><div class=\"sk-label-container\"><div class=\"sk-label sk-toggleable\"><input class=\"sk-toggleable__control sk-hidden--visually\" id=\"sk-estimator-id-6\" type=\"checkbox\" ><label for=\"sk-estimator-id-6\" class=\"sk-toggleable__label sk-toggleable__label-arrow\">cat</label><div class=\"sk-toggleable__content\"><pre>[&#x27;Gender&#x27;, &#x27;EducationLevel&#x27;, &#x27;RecruitmentStrategy&#x27;]</pre></div></div></div><div class=\"sk-serial\"><div class=\"sk-item\"><div class=\"sk-serial\"><div class=\"sk-item\"><div class=\"sk-estimator sk-toggleable\"><input class=\"sk-toggleable__control sk-hidden--visually\" id=\"sk-estimator-id-7\" type=\"checkbox\" ><label for=\"sk-estimator-id-7\" class=\"sk-toggleable__label sk-toggleable__label-arrow\">SimpleImputer</label><div class=\"sk-toggleable__content\"><pre>SimpleImputer(strategy=&#x27;most_frequent&#x27;)</pre></div></div></div><div class=\"sk-item\"><div class=\"sk-estimator sk-toggleable\"><input class=\"sk-toggleable__control sk-hidden--visually\" id=\"sk-estimator-id-8\" type=\"checkbox\" ><label for=\"sk-estimator-id-8\" class=\"sk-toggleable__label sk-toggleable__label-arrow\">OneHotEncoder</label><div class=\"sk-toggleable__content\"><pre>OneHotEncoder(handle_unknown=&#x27;ignore&#x27;)</pre></div></div></div></div></div></div></div></div></div></div><div class=\"sk-item\"><div class=\"sk-estimator sk-toggleable\"><input class=\"sk-toggleable__control sk-hidden--visually\" id=\"sk-estimator-id-9\" type=\"checkbox\" ><label for=\"sk-estimator-id-9\" class=\"sk-toggleable__label sk-toggleable__label-arrow\">SMOTE</label><div class=\"sk-toggleable__content\"><pre>SMOTE(random_state=42)</pre></div></div></div><div class=\"sk-item\"><div class=\"sk-estimator sk-toggleable\"><input class=\"sk-toggleable__control sk-hidden--visually\" id=\"sk-estimator-id-10\" type=\"checkbox\" ><label for=\"sk-estimator-id-10\" class=\"sk-toggleable__label sk-toggleable__label-arrow\">RandomForestClassifier</label><div class=\"sk-toggleable__content\"><pre>RandomForestClassifier(random_state=42)</pre></div></div></div></div></div></div></div>"
      ],
      "text/plain": [
       "Pipeline(steps=[('preprocessor',\n",
       "                 ColumnTransformer(transformers=[('num',\n",
       "                                                  Pipeline(steps=[('imputer',\n",
       "                                                                   SimpleImputer()),\n",
       "                                                                  ('scaler',\n",
       "                                                                   StandardScaler())]),\n",
       "                                                  ['Age', 'ExperienceYears',\n",
       "                                                   'PreviousCompanies',\n",
       "                                                   'DistanceFromCompany',\n",
       "                                                   'InterviewScore',\n",
       "                                                   'SkillScore',\n",
       "                                                   'PersonalityScore']),\n",
       "                                                 ('cat',\n",
       "                                                  Pipeline(steps=[('imputer',\n",
       "                                                                   SimpleImputer(strategy='most_frequent')),\n",
       "                                                                  ('onehot',\n",
       "                                                                   OneHotEncoder(handle_unknown='ignore'))]),\n",
       "                                                  ['Gender', 'EducationLevel',\n",
       "                                                   'RecruitmentStrategy'])])),\n",
       "                ('smote', SMOTE(random_state=42)),\n",
       "                ('classifier', RandomForestClassifier(random_state=42))])"
      ]
     },
     "execution_count": 10,
     "metadata": {},
     "output_type": "execute_result"
    }
   ],
   "source": [
    "set_config(display='diagram')\n",
    "pipeline"
   ]
  },
  {
   "cell_type": "code",
   "execution_count": 11,
   "id": "2d6566f8",
   "metadata": {
    "execution": {
     "iopub.execute_input": "2025-03-26T13:11:59.483418Z",
     "iopub.status.busy": "2025-03-26T13:11:59.483069Z",
     "iopub.status.idle": "2025-03-26T13:11:59.502701Z",
     "shell.execute_reply": "2025-03-26T13:11:59.501417Z"
    },
    "papermill": {
     "duration": 0.028712,
     "end_time": "2025-03-26T13:11:59.504574",
     "exception": false,
     "start_time": "2025-03-26T13:11:59.475862",
     "status": "completed"
    },
    "tags": []
   },
   "outputs": [
    {
     "name": "stdout",
     "output_type": "stream",
     "text": [
      "\n",
      "Sample Predictions: [1 1 0]\n"
     ]
    }
   ],
   "source": [
    "# === Sample Data (same structure as the original dataset) ===\n",
    "sample_data = pd.DataFrame({\n",
    "    'Age': [28, 35, 92],\n",
    "    'ExperienceYears': [4, 10, 15],\n",
    "    'PreviousCompanies': [2, 3, 5],\n",
    "    'DistanceFromCompany': [10,55, 20],\n",
    "    'InterviewScore': [85, 90, 75],\n",
    "    'SkillScore': [55,29,52],\n",
    "    'PersonalityScore': [45, 55, 70],\n",
    "    'Gender': [1, 0, 1],\n",
    "    'EducationLevel': [2, 3, 1],\n",
    "    'RecruitmentStrategy': [1, 1, 2],\n",
    "})\n",
    "\n",
    "# === Make Predictions ===\n",
    "sample_preds = pipeline.predict(sample_data)\n",
    "\n",
    "# === Display Results ===\n",
    "print(\"\\nSample Predictions:\", sample_preds)"
   ]
  },
  {
   "cell_type": "code",
   "execution_count": null,
   "id": "e6045a03",
   "metadata": {
    "papermill": {
     "duration": 0.00601,
     "end_time": "2025-03-26T13:11:59.517035",
     "exception": false,
     "start_time": "2025-03-26T13:11:59.511025",
     "status": "completed"
    },
    "tags": []
   },
   "outputs": [],
   "source": []
  },
  {
   "cell_type": "code",
   "execution_count": null,
   "id": "e5954f41",
   "metadata": {
    "papermill": {
     "duration": 0.006038,
     "end_time": "2025-03-26T13:11:59.529544",
     "exception": false,
     "start_time": "2025-03-26T13:11:59.523506",
     "status": "completed"
    },
    "tags": []
   },
   "outputs": [],
   "source": []
  },
  {
   "cell_type": "code",
   "execution_count": null,
   "id": "25915679",
   "metadata": {
    "papermill": {
     "duration": 0.006418,
     "end_time": "2025-03-26T13:11:59.542192",
     "exception": false,
     "start_time": "2025-03-26T13:11:59.535774",
     "status": "completed"
    },
    "tags": []
   },
   "outputs": [],
   "source": []
  },
  {
   "cell_type": "code",
   "execution_count": null,
   "id": "ea6414ed",
   "metadata": {
    "papermill": {
     "duration": 0.00669,
     "end_time": "2025-03-26T13:11:59.555692",
     "exception": false,
     "start_time": "2025-03-26T13:11:59.549002",
     "status": "completed"
    },
    "tags": []
   },
   "outputs": [],
   "source": []
  },
  {
   "cell_type": "code",
   "execution_count": null,
   "id": "70b4a66d",
   "metadata": {
    "papermill": {
     "duration": 0.008933,
     "end_time": "2025-03-26T13:11:59.572981",
     "exception": false,
     "start_time": "2025-03-26T13:11:59.564048",
     "status": "completed"
    },
    "tags": []
   },
   "outputs": [],
   "source": []
  },
  {
   "cell_type": "code",
   "execution_count": null,
   "id": "b5f5ed05",
   "metadata": {
    "papermill": {
     "duration": 0.006844,
     "end_time": "2025-03-26T13:11:59.587672",
     "exception": false,
     "start_time": "2025-03-26T13:11:59.580828",
     "status": "completed"
    },
    "tags": []
   },
   "outputs": [],
   "source": []
  },
  {
   "cell_type": "code",
   "execution_count": null,
   "id": "3ba1137a",
   "metadata": {
    "papermill": {
     "duration": 0.00642,
     "end_time": "2025-03-26T13:11:59.602118",
     "exception": false,
     "start_time": "2025-03-26T13:11:59.595698",
     "status": "completed"
    },
    "tags": []
   },
   "outputs": [],
   "source": []
  },
  {
   "cell_type": "code",
   "execution_count": null,
   "id": "463bbc5c",
   "metadata": {
    "papermill": {
     "duration": 0.006971,
     "end_time": "2025-03-26T13:11:59.616709",
     "exception": false,
     "start_time": "2025-03-26T13:11:59.609738",
     "status": "completed"
    },
    "tags": []
   },
   "outputs": [],
   "source": []
  },
  {
   "cell_type": "code",
   "execution_count": null,
   "id": "9dc3e6ce",
   "metadata": {
    "papermill": {
     "duration": 0.006087,
     "end_time": "2025-03-26T13:11:59.629180",
     "exception": false,
     "start_time": "2025-03-26T13:11:59.623093",
     "status": "completed"
    },
    "tags": []
   },
   "outputs": [],
   "source": []
  },
  {
   "cell_type": "code",
   "execution_count": null,
   "id": "d1b5ba2f",
   "metadata": {
    "papermill": {
     "duration": 0.006203,
     "end_time": "2025-03-26T13:11:59.641928",
     "exception": false,
     "start_time": "2025-03-26T13:11:59.635725",
     "status": "completed"
    },
    "tags": []
   },
   "outputs": [],
   "source": []
  },
  {
   "cell_type": "code",
   "execution_count": null,
   "id": "477ffa7b",
   "metadata": {
    "papermill": {
     "duration": 0.006001,
     "end_time": "2025-03-26T13:11:59.654279",
     "exception": false,
     "start_time": "2025-03-26T13:11:59.648278",
     "status": "completed"
    },
    "tags": []
   },
   "outputs": [],
   "source": []
  },
  {
   "cell_type": "markdown",
   "id": "74e93d94",
   "metadata": {
    "papermill": {
     "duration": 0.006001,
     "end_time": "2025-03-26T13:11:59.666737",
     "exception": false,
     "start_time": "2025-03-26T13:11:59.660736",
     "status": "completed"
    },
    "tags": []
   },
   "source": [
    "# Working on Neural network"
   ]
  },
  {
   "cell_type": "markdown",
   "id": "8333873d",
   "metadata": {
    "papermill": {
     "duration": 0.006888,
     "end_time": "2025-03-26T13:11:59.680074",
     "exception": false,
     "start_time": "2025-03-26T13:11:59.673186",
     "status": "completed"
    },
    "tags": []
   },
   "source": []
  },
  {
   "cell_type": "code",
   "execution_count": 12,
   "id": "c23717aa",
   "metadata": {
    "execution": {
     "iopub.execute_input": "2025-03-26T13:11:59.700570Z",
     "iopub.status.busy": "2025-03-26T13:11:59.700161Z",
     "iopub.status.idle": "2025-03-26T13:11:59.706222Z",
     "shell.execute_reply": "2025-03-26T13:11:59.704753Z"
    },
    "papermill": {
     "duration": 0.016586,
     "end_time": "2025-03-26T13:11:59.708166",
     "exception": false,
     "start_time": "2025-03-26T13:11:59.691580",
     "status": "completed"
    },
    "tags": []
   },
   "outputs": [],
   "source": [
    "# # ✅ Import Libraries\n",
    "# import pandas as pd\n",
    "# import numpy as np\n",
    "# import torch\n",
    "# import torch.nn as nn\n",
    "# import torch.optim as optim\n",
    "# from sklearn.base import BaseEstimator, ClassifierMixin\n",
    "# from sklearn.pipeline import Pipeline\n",
    "# from sklearn.compose import ColumnTransformer\n",
    "# from sklearn.preprocessing import StandardScaler, OneHotEncoder\n",
    "# from sklearn.impute import SimpleImputer\n",
    "# from sklearn.model_selection import train_test_split\n",
    "# from sklearn.metrics import accuracy_score, classification_report, confusion_matrix, roc_auc_score, roc_curve\n",
    "# from imblearn.over_sampling import SMOTE\n",
    "# import seaborn as sns\n",
    "# import matplotlib.pyplot as plt\n",
    "\n",
    "# # ✅ Load Dataset\n",
    "# # Replace with your actual dataset\n",
    "# df=pd.read_csv('/kaggle/input/hirings-dataset/hiring.csv')\n",
    "\n",
    "# X = df.drop(['HiringDecision'], axis=1)  # Features\n",
    "# y = df['HiringDecision']  # Target variable\n",
    "\n",
    "# # ✅ Preprocessing Steps\n",
    "# numerical_features = ['Age', 'ExperienceYears', 'PreviousCompanies', \n",
    "#                       'DistanceFromCompany', 'InterviewScore', \n",
    "#                       'SkillScore', 'PersonalityScore']\n",
    "\n",
    "# categorical_features = ['Gender', 'EducationLevel', 'RecruitmentStrategy']\n",
    "\n",
    "# # Transformers\n",
    "# numerical_transformer = Pipeline(steps=[\n",
    "#     ('imputer', SimpleImputer(strategy='mean')),\n",
    "#     ('scaler', StandardScaler())\n",
    "# ])\n",
    "\n",
    "# categorical_transformer = Pipeline(steps=[\n",
    "#     ('imputer', SimpleImputer(strategy='most_frequent')),\n",
    "#     ('onehot', OneHotEncoder(handle_unknown='ignore'))\n",
    "# ])\n",
    "\n",
    "# # ColumnTransformer\n",
    "# preprocessor = ColumnTransformer(\n",
    "#     transformers=[\n",
    "#         ('num', numerical_transformer, numerical_features),\n",
    "#         ('cat', categorical_transformer, categorical_features)\n",
    "#     ])\n",
    "\n",
    "# # ✅ Custom PyTorch Model wrapped in sklearn-style Estimator\n",
    "# class NeuralNetworkClassifier(BaseEstimator, ClassifierMixin):\n",
    "#     def __init__(self, input_dim, hidden_dim=64, epochs=50, batch_size=32, learning_rate=0.001):\n",
    "#         self.input_dim = input_dim\n",
    "#         self.hidden_dim = hidden_dim\n",
    "#         self.epochs = epochs\n",
    "#         self.batch_size = batch_size\n",
    "#         self.learning_rate = learning_rate\n",
    "#         self.model = self._build_model()\n",
    "#         self.optimizer = optim.Adam(self.model.parameters(), lr=self.learning_rate)\n",
    "#         self.criterion = nn.BCELoss()\n",
    "\n",
    "#     def _build_model(self):\n",
    "#         model = nn.Sequential(\n",
    "#             nn.Linear(self.input_dim, self.hidden_dim),\n",
    "#             nn.ReLU(),\n",
    "#             nn.Dropout(0.3),\n",
    "#             nn.Linear(self.hidden_dim, 32),\n",
    "#             nn.ReLU(),\n",
    "#             nn.Linear(32, 1),\n",
    "#             nn.Sigmoid()\n",
    "#         )\n",
    "#         return model\n",
    "\n",
    "#     def fit(self, X, y):\n",
    "#         X_tensor = torch.tensor(X, dtype=torch.float32)\n",
    "#         y_tensor = torch.tensor(y.values.reshape(-1, 1), dtype=torch.float32)\n",
    "\n",
    "#         dataset = torch.utils.data.TensorDataset(X_tensor, y_tensor)\n",
    "#         dataloader = torch.utils.data.DataLoader(dataset, batch_size=self.batch_size, shuffle=True)\n",
    "\n",
    "#         self.model.train()\n",
    "#         for epoch in range(self.epochs):\n",
    "#             for batch_X, batch_y in dataloader:\n",
    "#                 self.optimizer.zero_grad()\n",
    "#                 outputs = self.model(batch_X)\n",
    "#                 loss = self.criterion(outputs, batch_y)\n",
    "#                 loss.backward()\n",
    "#                 self.optimizer.step()\n",
    "\n",
    "#     def predict(self, X):\n",
    "#         self.model.eval()\n",
    "#         with torch.no_grad():\n",
    "#             X_tensor = torch.tensor(X, dtype=torch.float32)\n",
    "#             outputs = self.model(X_tensor)\n",
    "#             predictions = (outputs >= 0.5).int().flatten().numpy()\n",
    "#         return predictions\n",
    "\n",
    "#     def predict_proba(self, X):\n",
    "#         self.model.eval()\n",
    "#         with torch.no_grad():\n",
    "#             X_tensor = torch.tensor(X, dtype=torch.float32)\n",
    "#             outputs = self.model(X_tensor)\n",
    "#             probabilities = torch.cat([1 - outputs, outputs], dim=1).numpy()\n",
    "#         return probabilities\n",
    "\n",
    "# # ✅ Pipeline with SMOTE and Neural Network\n",
    "# pipeline = Pipeline(steps=[\n",
    "#     ('preprocessor', preprocessor),                 # Preprocessing\n",
    "#     ('smote', SMOTE(sampling_strategy='auto', random_state=42)),  # SMOTE Oversampling\n",
    "#     ('nn', NeuralNetworkClassifier(input_dim=X.shape[1], epochs=50, batch_size=32, learning_rate=0.001))  # Neural Network\n",
    "# ])\n",
    "\n",
    "# # ✅ Train-Test Split\n",
    "# X_train, X_test, y_train, y_test = train_test_split(X, y, test_size=0.2, random_state=42)\n",
    "\n",
    "# # ✅ Model Training\n",
    "# pipeline.fit(X_train, y_train)\n",
    "\n",
    "# # ✅ Model Predictions\n",
    "# y_pred = pipeline.predict(X_test)\n",
    "# y_prob = pipeline.predict_proba(X_test)[:, 1]\n",
    "\n",
    "# # ✅ Evaluation Metrics\n",
    "# accuracy = accuracy_score(y_test, y_pred)\n",
    "# print(f'\\n🔥 Model Accuracy: {accuracy * 100:.2f}%')\n",
    "# print(\"\\nClassification Report:\\n\", classification_report(y_test, y_pred))"
   ]
  }
 ],
 "metadata": {
  "kaggle": {
   "accelerator": "none",
   "dataSources": [
    {
     "datasetId": 6918066,
     "sourceId": 11097859,
     "sourceType": "datasetVersion"
    }
   ],
   "dockerImageVersionId": 30918,
   "isGpuEnabled": false,
   "isInternetEnabled": true,
   "language": "python",
   "sourceType": "notebook"
  },
  "kernelspec": {
   "display_name": "Python 3",
   "language": "python",
   "name": "python3"
  },
  "language_info": {
   "codemirror_mode": {
    "name": "ipython",
    "version": 3
   },
   "file_extension": ".py",
   "mimetype": "text/x-python",
   "name": "python",
   "nbconvert_exporter": "python",
   "pygments_lexer": "ipython3",
   "version": "3.10.12"
  },
  "papermill": {
   "default_parameters": {},
   "duration": 9.17133,
   "end_time": "2025-03-26T13:12:00.537386",
   "environment_variables": {},
   "exception": null,
   "input_path": "__notebook__.ipynb",
   "output_path": "__notebook__.ipynb",
   "parameters": {},
   "start_time": "2025-03-26T13:11:51.366056",
   "version": "2.6.0"
  }
 },
 "nbformat": 4,
 "nbformat_minor": 5
}
