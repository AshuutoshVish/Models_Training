{
 "cells": [
  {
   "cell_type": "code",
   "execution_count": 1,
   "id": "07b91816",
   "metadata": {
    "execution": {
     "iopub.execute_input": "2025-03-24T11:25:33.950323Z",
     "iopub.status.busy": "2025-03-24T11:25:33.949989Z",
     "iopub.status.idle": "2025-03-24T11:25:38.792854Z",
     "shell.execute_reply": "2025-03-24T11:25:38.791583Z"
    },
    "papermill": {
     "duration": 4.851014,
     "end_time": "2025-03-24T11:25:38.795245",
     "exception": false,
     "start_time": "2025-03-24T11:25:33.944231",
     "status": "completed"
    },
    "tags": []
   },
   "outputs": [],
   "source": [
    "import torch\n",
    "import random\n",
    "import numpy as np\n",
    "import pandas as pd\n",
    "import torch.nn as nn\n",
    "import torch.optim as optim\n",
    "from torch.utils.data import DataLoader, TensorDataset\n",
    "from sklearn.model_selection import train_test_split\n",
    "from sklearn.preprocessing import StandardScaler\n",
    "from sklearn.metrics import accuracy_score, precision_score, recall_score, f1_score, roc_auc_score"
   ]
  },
  {
   "cell_type": "code",
   "execution_count": 2,
   "id": "951a87ca",
   "metadata": {
    "execution": {
     "iopub.execute_input": "2025-03-24T11:25:38.810470Z",
     "iopub.status.busy": "2025-03-24T11:25:38.810021Z",
     "iopub.status.idle": "2025-03-24T11:25:38.868017Z",
     "shell.execute_reply": "2025-03-24T11:25:38.867195Z"
    },
    "papermill": {
     "duration": 0.066228,
     "end_time": "2025-03-24T11:25:38.869200",
     "exception": false,
     "start_time": "2025-03-24T11:25:38.802972",
     "status": "completed"
    },
    "tags": []
   },
   "outputs": [
    {
     "data": {
      "text/plain": [
       "device(type='cuda')"
      ]
     },
     "execution_count": 2,
     "metadata": {},
     "output_type": "execute_result"
    }
   ],
   "source": [
    "device = torch.device(\"cuda\" if torch.cuda.is_available() else \"cpu\")\n",
    "device"
   ]
  },
  {
   "cell_type": "code",
   "execution_count": 3,
   "id": "2851844c",
   "metadata": {
    "execution": {
     "iopub.execute_input": "2025-03-24T11:25:38.877854Z",
     "iopub.status.busy": "2025-03-24T11:25:38.877563Z",
     "iopub.status.idle": "2025-03-24T11:25:38.896220Z",
     "shell.execute_reply": "2025-03-24T11:25:38.895514Z"
    },
    "papermill": {
     "duration": 0.024277,
     "end_time": "2025-03-24T11:25:38.897525",
     "exception": false,
     "start_time": "2025-03-24T11:25:38.873248",
     "status": "completed"
    },
    "tags": []
   },
   "outputs": [
    {
     "data": {
      "text/plain": [
       "(1500, 11)"
      ]
     },
     "execution_count": 3,
     "metadata": {},
     "output_type": "execute_result"
    }
   ],
   "source": [
    "df=pd.read_csv('/kaggle/input/hirings-dataset/hiring.csv')\n",
    "df.shape"
   ]
  },
  {
   "cell_type": "code",
   "execution_count": 4,
   "id": "ba2d0f33",
   "metadata": {
    "execution": {
     "iopub.execute_input": "2025-03-24T11:25:38.906249Z",
     "iopub.status.busy": "2025-03-24T11:25:38.906039Z",
     "iopub.status.idle": "2025-03-24T11:25:38.926836Z",
     "shell.execute_reply": "2025-03-24T11:25:38.926097Z"
    },
    "papermill": {
     "duration": 0.026271,
     "end_time": "2025-03-24T11:25:38.928131",
     "exception": false,
     "start_time": "2025-03-24T11:25:38.901860",
     "status": "completed"
    },
    "tags": []
   },
   "outputs": [
    {
     "data": {
      "text/html": [
       "<div>\n",
       "<style scoped>\n",
       "    .dataframe tbody tr th:only-of-type {\n",
       "        vertical-align: middle;\n",
       "    }\n",
       "\n",
       "    .dataframe tbody tr th {\n",
       "        vertical-align: top;\n",
       "    }\n",
       "\n",
       "    .dataframe thead th {\n",
       "        text-align: right;\n",
       "    }\n",
       "</style>\n",
       "<table border=\"1\" class=\"dataframe\">\n",
       "  <thead>\n",
       "    <tr style=\"text-align: right;\">\n",
       "      <th></th>\n",
       "      <th>Age</th>\n",
       "      <th>Gender</th>\n",
       "      <th>EducationLevel</th>\n",
       "      <th>ExperienceYears</th>\n",
       "      <th>PreviousCompanies</th>\n",
       "      <th>DistanceFromCompany</th>\n",
       "      <th>InterviewScore</th>\n",
       "      <th>SkillScore</th>\n",
       "      <th>PersonalityScore</th>\n",
       "      <th>RecruitmentStrategy</th>\n",
       "      <th>HiringDecision</th>\n",
       "    </tr>\n",
       "  </thead>\n",
       "  <tbody>\n",
       "    <tr>\n",
       "      <th>0</th>\n",
       "      <td>26</td>\n",
       "      <td>1</td>\n",
       "      <td>2</td>\n",
       "      <td>0</td>\n",
       "      <td>3</td>\n",
       "      <td>27</td>\n",
       "      <td>48</td>\n",
       "      <td>78</td>\n",
       "      <td>91</td>\n",
       "      <td>1</td>\n",
       "      <td>1</td>\n",
       "    </tr>\n",
       "    <tr>\n",
       "      <th>1</th>\n",
       "      <td>39</td>\n",
       "      <td>1</td>\n",
       "      <td>4</td>\n",
       "      <td>12</td>\n",
       "      <td>3</td>\n",
       "      <td>26</td>\n",
       "      <td>35</td>\n",
       "      <td>68</td>\n",
       "      <td>80</td>\n",
       "      <td>2</td>\n",
       "      <td>1</td>\n",
       "    </tr>\n",
       "    <tr>\n",
       "      <th>2</th>\n",
       "      <td>48</td>\n",
       "      <td>0</td>\n",
       "      <td>2</td>\n",
       "      <td>3</td>\n",
       "      <td>2</td>\n",
       "      <td>10</td>\n",
       "      <td>20</td>\n",
       "      <td>67</td>\n",
       "      <td>13</td>\n",
       "      <td>2</td>\n",
       "      <td>0</td>\n",
       "    </tr>\n",
       "    <tr>\n",
       "      <th>3</th>\n",
       "      <td>34</td>\n",
       "      <td>1</td>\n",
       "      <td>2</td>\n",
       "      <td>5</td>\n",
       "      <td>2</td>\n",
       "      <td>6</td>\n",
       "      <td>36</td>\n",
       "      <td>27</td>\n",
       "      <td>70</td>\n",
       "      <td>3</td>\n",
       "      <td>0</td>\n",
       "    </tr>\n",
       "    <tr>\n",
       "      <th>4</th>\n",
       "      <td>30</td>\n",
       "      <td>0</td>\n",
       "      <td>1</td>\n",
       "      <td>6</td>\n",
       "      <td>1</td>\n",
       "      <td>43</td>\n",
       "      <td>23</td>\n",
       "      <td>52</td>\n",
       "      <td>85</td>\n",
       "      <td>2</td>\n",
       "      <td>0</td>\n",
       "    </tr>\n",
       "  </tbody>\n",
       "</table>\n",
       "</div>"
      ],
      "text/plain": [
       "   Age  Gender  EducationLevel  ExperienceYears  PreviousCompanies  \\\n",
       "0   26       1               2                0                  3   \n",
       "1   39       1               4               12                  3   \n",
       "2   48       0               2                3                  2   \n",
       "3   34       1               2                5                  2   \n",
       "4   30       0               1                6                  1   \n",
       "\n",
       "   DistanceFromCompany  InterviewScore  SkillScore  PersonalityScore  \\\n",
       "0                   27              48          78                91   \n",
       "1                   26              35          68                80   \n",
       "2                   10              20          67                13   \n",
       "3                    6              36          27                70   \n",
       "4                   43              23          52                85   \n",
       "\n",
       "   RecruitmentStrategy  HiringDecision  \n",
       "0                    1               1  \n",
       "1                    2               1  \n",
       "2                    2               0  \n",
       "3                    3               0  \n",
       "4                    2               0  "
      ]
     },
     "execution_count": 4,
     "metadata": {},
     "output_type": "execute_result"
    }
   ],
   "source": [
    "df.head()"
   ]
  },
  {
   "cell_type": "code",
   "execution_count": 5,
   "id": "b77ae84e",
   "metadata": {
    "execution": {
     "iopub.execute_input": "2025-03-24T11:25:38.936581Z",
     "iopub.status.busy": "2025-03-24T11:25:38.936376Z",
     "iopub.status.idle": "2025-03-24T11:25:38.943728Z",
     "shell.execute_reply": "2025-03-24T11:25:38.943056Z"
    },
    "papermill": {
     "duration": 0.012888,
     "end_time": "2025-03-24T11:25:38.944933",
     "exception": false,
     "start_time": "2025-03-24T11:25:38.932045",
     "status": "completed"
    },
    "tags": []
   },
   "outputs": [],
   "source": [
    "X = df.drop(['HiringDecision'], axis=1).values\n",
    "y = df['HiringDecision'].values"
   ]
  },
  {
   "cell_type": "code",
   "execution_count": 6,
   "id": "30de2a42",
   "metadata": {
    "execution": {
     "iopub.execute_input": "2025-03-24T11:25:38.953524Z",
     "iopub.status.busy": "2025-03-24T11:25:38.953324Z",
     "iopub.status.idle": "2025-03-24T11:25:38.969498Z",
     "shell.execute_reply": "2025-03-24T11:25:38.968932Z"
    },
    "papermill": {
     "duration": 0.02191,
     "end_time": "2025-03-24T11:25:38.970823",
     "exception": false,
     "start_time": "2025-03-24T11:25:38.948913",
     "status": "completed"
    },
    "tags": []
   },
   "outputs": [],
   "source": [
    "# Standardize the features\n",
    "scaler = StandardScaler()\n",
    "X = scaler.fit_transform(X)"
   ]
  },
  {
   "cell_type": "code",
   "execution_count": 7,
   "id": "97350234",
   "metadata": {
    "execution": {
     "iopub.execute_input": "2025-03-24T11:25:38.979527Z",
     "iopub.status.busy": "2025-03-24T11:25:38.979294Z",
     "iopub.status.idle": "2025-03-24T11:25:38.983288Z",
     "shell.execute_reply": "2025-03-24T11:25:38.982730Z"
    },
    "papermill": {
     "duration": 0.009739,
     "end_time": "2025-03-24T11:25:38.984733",
     "exception": false,
     "start_time": "2025-03-24T11:25:38.974994",
     "status": "completed"
    },
    "tags": []
   },
   "outputs": [],
   "source": [
    "# Split the data into training and test sets\n",
    "X_train, X_test, y_train, y_test = train_test_split(X, y, test_size=0.2, random_state=42)"
   ]
  },
  {
   "cell_type": "code",
   "execution_count": 8,
   "id": "ad92a5e9",
   "metadata": {
    "execution": {
     "iopub.execute_input": "2025-03-24T11:25:38.993858Z",
     "iopub.status.busy": "2025-03-24T11:25:38.993588Z",
     "iopub.status.idle": "2025-03-24T11:25:39.022755Z",
     "shell.execute_reply": "2025-03-24T11:25:39.022050Z"
    },
    "papermill": {
     "duration": 0.03516,
     "end_time": "2025-03-24T11:25:39.024254",
     "exception": false,
     "start_time": "2025-03-24T11:25:38.989094",
     "status": "completed"
    },
    "tags": []
   },
   "outputs": [],
   "source": [
    "# Convert to PyTorch tensors\n",
    "batch_size=32\n",
    "X_train_tensor = torch.tensor(X_train, dtype=torch.float32)\n",
    "y_train_tensor = torch.tensor(y_train, dtype=torch.float32).view(-1, 1)\n",
    "X_test_tensor = torch.tensor(X_test, dtype=torch.float32)\n",
    "y_test_tensor = torch.tensor(y_test, dtype=torch.float32).view(-1, 1)"
   ]
  },
  {
   "cell_type": "code",
   "execution_count": 9,
   "id": "e9f8cffc",
   "metadata": {
    "execution": {
     "iopub.execute_input": "2025-03-24T11:25:39.033403Z",
     "iopub.status.busy": "2025-03-24T11:25:39.033138Z",
     "iopub.status.idle": "2025-03-24T11:25:39.038490Z",
     "shell.execute_reply": "2025-03-24T11:25:39.037709Z"
    },
    "papermill": {
     "duration": 0.011347,
     "end_time": "2025-03-24T11:25:39.039913",
     "exception": false,
     "start_time": "2025-03-24T11:25:39.028566",
     "status": "completed"
    },
    "tags": []
   },
   "outputs": [],
   "source": [
    "#Dataset and Dataloader\n",
    "train_dataset = torch.utils.data.TensorDataset(X_train_tensor, y_train_tensor)\n",
    "train_loader = torch.utils.data.DataLoader(train_dataset, batch_size=batch_size, shuffle=True)\n",
    "\n",
    "test_dataset = torch.utils.data.TensorDataset(X_test_tensor, y_test_tensor)\n",
    "test_loader = torch.utils.data.DataLoader(test_dataset, batch_size=batch_size, shuffle=False)"
   ]
  },
  {
   "cell_type": "code",
   "execution_count": 10,
   "id": "803d9e59",
   "metadata": {
    "execution": {
     "iopub.execute_input": "2025-03-24T11:25:39.048744Z",
     "iopub.status.busy": "2025-03-24T11:25:39.048436Z",
     "iopub.status.idle": "2025-03-24T11:25:39.053345Z",
     "shell.execute_reply": "2025-03-24T11:25:39.052709Z"
    },
    "papermill": {
     "duration": 0.010725,
     "end_time": "2025-03-24T11:25:39.054614",
     "exception": false,
     "start_time": "2025-03-24T11:25:39.043889",
     "status": "completed"
    },
    "tags": []
   },
   "outputs": [],
   "source": [
    "#Model Definition\n",
    "class CandidateRankingModel(nn.Module):\n",
    "    def __init__(self, input_dim):\n",
    "        super(CandidateRankingModel, self).__init__()\n",
    "        self.fc1 = nn.Linear(input_dim, 128)\n",
    "        self.bn1 = nn.BatchNorm1d(128)\n",
    "        self.fc2 = nn.Linear(128, 64)\n",
    "        self.bn2 = nn.BatchNorm1d(64)\n",
    "        self.fc3 = nn.Linear(64, 1)  # Binary classification output\n",
    "        self.dropout = nn.Dropout(0.3)\n",
    "        self.relu = nn.ReLU()\n",
    "\n",
    "    def forward(self, x):\n",
    "        x = self.relu(self.bn1(self.fc1(x)))\n",
    "        x = self.dropout(x)\n",
    "        x = self.relu(self.bn2(self.fc2(x)))\n",
    "        x = self.fc3(x)\n",
    "        return x"
   ]
  },
  {
   "cell_type": "code",
   "execution_count": 11,
   "id": "214be01e",
   "metadata": {
    "execution": {
     "iopub.execute_input": "2025-03-24T11:25:39.063840Z",
     "iopub.status.busy": "2025-03-24T11:25:39.063580Z",
     "iopub.status.idle": "2025-03-24T11:25:39.254597Z",
     "shell.execute_reply": "2025-03-24T11:25:39.253903Z"
    },
    "papermill": {
     "duration": 0.197505,
     "end_time": "2025-03-24T11:25:39.256261",
     "exception": false,
     "start_time": "2025-03-24T11:25:39.058756",
     "status": "completed"
    },
    "tags": []
   },
   "outputs": [],
   "source": [
    "# Instantiate the model\n",
    "input_dim = X_train.shape[1]\n",
    "model = CandidateRankingModel(input_dim).to(device)"
   ]
  },
  {
   "cell_type": "code",
   "execution_count": 12,
   "id": "e5577996",
   "metadata": {
    "execution": {
     "iopub.execute_input": "2025-03-24T11:25:39.265763Z",
     "iopub.status.busy": "2025-03-24T11:25:39.265466Z",
     "iopub.status.idle": "2025-03-24T11:25:39.270244Z",
     "shell.execute_reply": "2025-03-24T11:25:39.269394Z"
    },
    "papermill": {
     "duration": 0.010745,
     "end_time": "2025-03-24T11:25:39.271590",
     "exception": false,
     "start_time": "2025-03-24T11:25:39.260845",
     "status": "completed"
    },
    "tags": []
   },
   "outputs": [
    {
     "data": {
      "text/plain": [
       "CandidateRankingModel(\n",
       "  (fc1): Linear(in_features=10, out_features=128, bias=True)\n",
       "  (bn1): BatchNorm1d(128, eps=1e-05, momentum=0.1, affine=True, track_running_stats=True)\n",
       "  (fc2): Linear(in_features=128, out_features=64, bias=True)\n",
       "  (bn2): BatchNorm1d(64, eps=1e-05, momentum=0.1, affine=True, track_running_stats=True)\n",
       "  (fc3): Linear(in_features=64, out_features=1, bias=True)\n",
       "  (dropout): Dropout(p=0.3, inplace=False)\n",
       "  (relu): ReLU()\n",
       ")"
      ]
     },
     "execution_count": 12,
     "metadata": {},
     "output_type": "execute_result"
    }
   ],
   "source": [
    "model"
   ]
  },
  {
   "cell_type": "code",
   "execution_count": 13,
   "id": "add6408d",
   "metadata": {
    "execution": {
     "iopub.execute_input": "2025-03-24T11:25:39.280681Z",
     "iopub.status.busy": "2025-03-24T11:25:39.280431Z",
     "iopub.status.idle": "2025-03-24T11:25:43.091248Z",
     "shell.execute_reply": "2025-03-24T11:25:43.090551Z"
    },
    "papermill": {
     "duration": 3.817137,
     "end_time": "2025-03-24T11:25:43.092936",
     "exception": false,
     "start_time": "2025-03-24T11:25:39.275799",
     "status": "completed"
    },
    "tags": []
   },
   "outputs": [],
   "source": [
    "# Loss function and optimizer\n",
    "torch.manual_seed(42)\n",
    "\n",
    "criterion = nn.BCEWithLogitsLoss()\n",
    "optimizer = optim.Adam(model.parameters(), lr=0.001)\n",
    "\n",
    "num_epochs = 200\n",
    "batch_size = 62"
   ]
  },
  {
   "cell_type": "code",
   "execution_count": 14,
   "id": "bc5e1173",
   "metadata": {
    "execution": {
     "iopub.execute_input": "2025-03-24T11:25:43.102627Z",
     "iopub.status.busy": "2025-03-24T11:25:43.102253Z",
     "iopub.status.idle": "2025-03-24T11:25:45.999055Z",
     "shell.execute_reply": "2025-03-24T11:25:45.998040Z"
    },
    "papermill": {
     "duration": 2.903099,
     "end_time": "2025-03-24T11:25:46.000448",
     "exception": false,
     "start_time": "2025-03-24T11:25:43.097349",
     "status": "completed"
    },
    "tags": []
   },
   "outputs": [
    {
     "name": "stdout",
     "output_type": "stream",
     "text": [
      "Epoch----- 1   Loss improved :----- 0.5371\n",
      "Epoch----- 2   Loss improved :----- 0.4211\n",
      "Epoch----- 3   Loss improved :----- 0.3959\n",
      "Epoch----- 4   Loss improved :----- 0.3718\n",
      "Epoch [5/200], Loss: 0.3650\n",
      "Epoch----- 5   Loss improved :----- 0.3650\n",
      "Epoch----- 6   Loss improved :----- 0.3438\n",
      "Epoch----- 7   Loss improved :----- 0.3360\n",
      "Epoch----- 8   Loss improved :----- 0.3241\n",
      "Epoch [10/200], Loss: 0.3424\n",
      "Epoch----- 12   Loss improved :----- 0.3121\n",
      "Epoch [15/200], Loss: 0.3065\n",
      "Epoch----- 15   Loss improved :----- 0.3065\n",
      "Epoch [20/200], Loss: 0.2995\n",
      "Epoch----- 20   Loss improved :----- 0.2995\n",
      "Epoch----- 21   Loss improved :----- 0.2984\n",
      "Epoch----- 24   Loss improved :----- 0.2854\n",
      "Epoch [25/200], Loss: 0.3023\n",
      " Early stopping triggered at epoch 29\n",
      " Best Loss: 0.2854 achieved at epoch 24\n"
     ]
    }
   ],
   "source": [
    "# Parameters\n",
    "log_interval = 5\n",
    "patience = 5    \n",
    "min_delta = 1e-4\n",
    "\n",
    "# Tracking variables\n",
    "best_loss = float('inf')\n",
    "early_stop_counter = 0\n",
    "\n",
    "# Training loop\n",
    "for epoch in range(num_epochs):\n",
    "    model.train()\n",
    "    running_loss = 0.0\n",
    "\n",
    "    for batch in train_loader:\n",
    "        inputs, targets = batch\n",
    "        inputs, targets = inputs.to(device), targets.to(device)\n",
    "\n",
    "        optimizer.zero_grad()\n",
    "\n",
    "        outputs = model(inputs)\n",
    "        loss = criterion(outputs, targets)\n",
    "        loss.backward()\n",
    "        optimizer.step()\n",
    "        running_loss += loss.item()\n",
    "\n",
    "    # Calculate average loss over the epoch\n",
    "    avg_loss = running_loss / len(train_loader)\n",
    "\n",
    "    # Print metrics at specified interval\n",
    "    if (epoch + 1) % log_interval == 0:\n",
    "        print(f\"Epoch [{epoch + 1}/{num_epochs}], Loss: {avg_loss:.4f}\")\n",
    "\n",
    "    # Early stopping logic\n",
    "    if avg_loss < best_loss - min_delta:\n",
    "        best_loss = avg_loss\n",
    "        early_stop_counter = 0\n",
    "        print(f\"Epoch----- {epoch + 1}   Loss improved :----- {best_loss:.4f}\")\n",
    "    else:\n",
    "        early_stop_counter += 1\n",
    "\n",
    "    # Stop training if no improvement is seen for 'patience' epochs\n",
    "    if early_stop_counter >= patience:\n",
    "        print(f\" Early stopping triggered at epoch {epoch + 1}\")\n",
    "        print(f\" Best Loss: {best_loss:.4f} achieved at epoch {epoch + 1 - patience}\")\n",
    "        break"
   ]
  },
  {
   "cell_type": "code",
   "execution_count": 15,
   "id": "7680bbbb",
   "metadata": {
    "execution": {
     "iopub.execute_input": "2025-03-24T11:25:46.010819Z",
     "iopub.status.busy": "2025-03-24T11:25:46.010519Z",
     "iopub.status.idle": "2025-03-24T11:25:46.063893Z",
     "shell.execute_reply": "2025-03-24T11:25:46.062893Z"
    },
    "papermill": {
     "duration": 0.060111,
     "end_time": "2025-03-24T11:25:46.065347",
     "exception": false,
     "start_time": "2025-03-24T11:25:46.005236",
     "status": "completed"
    },
    "tags": []
   },
   "outputs": [
    {
     "name": "stdout",
     "output_type": "stream",
     "text": [
      "\n",
      "Model Evaluation Metrics:\n",
      "Accuracy: 0.9200\n",
      "Precision: 0.8765\n",
      "Recall: 0.8353\n",
      "F1-Score: 0.8554\n",
      "AUC-ROC: 0.8944\n"
     ]
    }
   ],
   "source": [
    "# Model Evaluation\n",
    "def evaluate(model, loader, device):\n",
    "    model.eval()\n",
    "    all_preds = []\n",
    "    all_labels = []\n",
    "\n",
    "    with torch.no_grad():\n",
    "        for batch in loader:\n",
    "            inputs, targets = batch\n",
    "            inputs, targets = inputs.to(device), targets.to(device)\n",
    "\n",
    "            outputs = model(inputs)\n",
    "            probs = torch.sigmoid(outputs)  # Convert logits to probabilities\n",
    "            preds = (probs >= 0.5).float()\n",
    "\n",
    "            all_preds.extend(preds.cpu().numpy())\n",
    "            all_labels.extend(targets.cpu().numpy())\n",
    "\n",
    "    # Metrics calculation\n",
    "    accuracy = accuracy_score(all_labels, all_preds)\n",
    "    precision = precision_score(all_labels, all_preds)\n",
    "    recall = recall_score(all_labels, all_preds)\n",
    "    f1 = f1_score(all_labels, all_preds)\n",
    "    auc = roc_auc_score(all_labels, all_preds)\n",
    "\n",
    "    return {\n",
    "        'Accuracy': f\"{accuracy:.4f}\",\n",
    "        'Precision': f\"{precision:.4f}\",\n",
    "        'Recall': f\"{recall:.4f}\",\n",
    "        'F1-Score': f\"{f1:.4f}\",\n",
    "        'AUC-ROC': f\"{auc:.4f}\"\n",
    "    }\n",
    "# Evaluate the model\n",
    "metrics = evaluate(model, test_loader, device)\n",
    "print(\"\\nModel Evaluation Metrics:\")\n",
    "for metric, value in metrics.items():\n",
    "    print(f\"{metric}: {value}\")"
   ]
  },
  {
   "cell_type": "code",
   "execution_count": 16,
   "id": "c7ad5a93",
   "metadata": {
    "execution": {
     "iopub.execute_input": "2025-03-24T11:25:46.075483Z",
     "iopub.status.busy": "2025-03-24T11:25:46.075248Z",
     "iopub.status.idle": "2025-03-24T11:25:46.087966Z",
     "shell.execute_reply": "2025-03-24T11:25:46.086978Z"
    },
    "papermill": {
     "duration": 0.018944,
     "end_time": "2025-03-24T11:25:46.089204",
     "exception": false,
     "start_time": "2025-03-24T11:25:46.070260",
     "status": "completed"
    },
    "tags": []
   },
   "outputs": [
    {
     "name": "stdout",
     "output_type": "stream",
     "text": [
      "\n",
      "Top N Candidates Based on Predicted Scores:\n",
      "      Age  Gender  ExperienceYears  InterviewScore  predicted_score\n",
      "1094   39       0               15              58         0.999800\n",
      "1088   49       1               14              91         0.999781\n",
      "1095   44       0                8              69         0.999216\n",
      "863    48       1               14              80         0.999129\n",
      "516    45       0               10              49         0.998970\n",
      "...   ...     ...              ...             ...              ...\n",
      "576    34       1                1              29         0.001908\n",
      "384    20       1                4              60         0.001692\n",
      "579    27       1                0              41         0.001145\n",
      "357    35       1                0              39         0.001002\n",
      "466    47       1                2               9         0.000958\n",
      "\n",
      "[1500 rows x 5 columns]\n"
     ]
    }
   ],
   "source": [
    "#Candidate Prediction and Ranking   , Predict on the entire dataset\n",
    "model.eval()\n",
    "with torch.no_grad():\n",
    "    all_preds = torch.sigmoid(model(torch.tensor(X, dtype=torch.float32).to(device))).cpu().numpy().flatten()\n",
    "\n",
    "# predicted scores to the dataframe\n",
    "df['predicted_score'] = all_preds\n",
    "\n",
    "# Rank candidates\n",
    "top_n = 1500\n",
    "top_candidates = df.sort_values('predicted_score', ascending=False).head(top_n)\n",
    "print(\"\\nTop N Candidates Based on Predicted Scores:\")\n",
    "print(top_candidates[['Age', 'Gender', 'ExperienceYears', 'InterviewScore', 'predicted_score']])"
   ]
  },
  {
   "cell_type": "code",
   "execution_count": 17,
   "id": "d3c7d68e",
   "metadata": {
    "execution": {
     "iopub.execute_input": "2025-03-24T11:25:46.099384Z",
     "iopub.status.busy": "2025-03-24T11:25:46.099111Z",
     "iopub.status.idle": "2025-03-24T11:25:46.109669Z",
     "shell.execute_reply": "2025-03-24T11:25:46.108943Z"
    },
    "papermill": {
     "duration": 0.016838,
     "end_time": "2025-03-24T11:25:46.110901",
     "exception": false,
     "start_time": "2025-03-24T11:25:46.094063",
     "status": "completed"
    },
    "tags": []
   },
   "outputs": [
    {
     "data": {
      "text/html": [
       "<div>\n",
       "<style scoped>\n",
       "    .dataframe tbody tr th:only-of-type {\n",
       "        vertical-align: middle;\n",
       "    }\n",
       "\n",
       "    .dataframe tbody tr th {\n",
       "        vertical-align: top;\n",
       "    }\n",
       "\n",
       "    .dataframe thead th {\n",
       "        text-align: right;\n",
       "    }\n",
       "</style>\n",
       "<table border=\"1\" class=\"dataframe\">\n",
       "  <thead>\n",
       "    <tr style=\"text-align: right;\">\n",
       "      <th></th>\n",
       "      <th>Age</th>\n",
       "      <th>Gender</th>\n",
       "      <th>EducationLevel</th>\n",
       "      <th>ExperienceYears</th>\n",
       "      <th>PreviousCompanies</th>\n",
       "      <th>DistanceFromCompany</th>\n",
       "      <th>InterviewScore</th>\n",
       "      <th>SkillScore</th>\n",
       "      <th>PersonalityScore</th>\n",
       "      <th>RecruitmentStrategy</th>\n",
       "      <th>HiringDecision</th>\n",
       "      <th>predicted_score</th>\n",
       "    </tr>\n",
       "  </thead>\n",
       "  <tbody>\n",
       "    <tr>\n",
       "      <th>1094</th>\n",
       "      <td>39</td>\n",
       "      <td>0</td>\n",
       "      <td>4</td>\n",
       "      <td>15</td>\n",
       "      <td>1</td>\n",
       "      <td>5</td>\n",
       "      <td>58</td>\n",
       "      <td>99</td>\n",
       "      <td>86</td>\n",
       "      <td>1</td>\n",
       "      <td>1</td>\n",
       "      <td>0.999800</td>\n",
       "    </tr>\n",
       "    <tr>\n",
       "      <th>1088</th>\n",
       "      <td>49</td>\n",
       "      <td>1</td>\n",
       "      <td>4</td>\n",
       "      <td>14</td>\n",
       "      <td>1</td>\n",
       "      <td>17</td>\n",
       "      <td>91</td>\n",
       "      <td>71</td>\n",
       "      <td>80</td>\n",
       "      <td>1</td>\n",
       "      <td>1</td>\n",
       "      <td>0.999781</td>\n",
       "    </tr>\n",
       "    <tr>\n",
       "      <th>1095</th>\n",
       "      <td>44</td>\n",
       "      <td>0</td>\n",
       "      <td>4</td>\n",
       "      <td>8</td>\n",
       "      <td>3</td>\n",
       "      <td>34</td>\n",
       "      <td>69</td>\n",
       "      <td>65</td>\n",
       "      <td>98</td>\n",
       "      <td>1</td>\n",
       "      <td>1</td>\n",
       "      <td>0.999216</td>\n",
       "    </tr>\n",
       "    <tr>\n",
       "      <th>863</th>\n",
       "      <td>48</td>\n",
       "      <td>1</td>\n",
       "      <td>2</td>\n",
       "      <td>14</td>\n",
       "      <td>2</td>\n",
       "      <td>35</td>\n",
       "      <td>80</td>\n",
       "      <td>99</td>\n",
       "      <td>94</td>\n",
       "      <td>1</td>\n",
       "      <td>1</td>\n",
       "      <td>0.999129</td>\n",
       "    </tr>\n",
       "    <tr>\n",
       "      <th>516</th>\n",
       "      <td>45</td>\n",
       "      <td>0</td>\n",
       "      <td>4</td>\n",
       "      <td>10</td>\n",
       "      <td>4</td>\n",
       "      <td>29</td>\n",
       "      <td>49</td>\n",
       "      <td>69</td>\n",
       "      <td>96</td>\n",
       "      <td>1</td>\n",
       "      <td>1</td>\n",
       "      <td>0.998970</td>\n",
       "    </tr>\n",
       "    <tr>\n",
       "      <th>368</th>\n",
       "      <td>31</td>\n",
       "      <td>0</td>\n",
       "      <td>3</td>\n",
       "      <td>14</td>\n",
       "      <td>2</td>\n",
       "      <td>15</td>\n",
       "      <td>82</td>\n",
       "      <td>86</td>\n",
       "      <td>64</td>\n",
       "      <td>1</td>\n",
       "      <td>1</td>\n",
       "      <td>0.998681</td>\n",
       "    </tr>\n",
       "    <tr>\n",
       "      <th>86</th>\n",
       "      <td>37</td>\n",
       "      <td>1</td>\n",
       "      <td>2</td>\n",
       "      <td>8</td>\n",
       "      <td>3</td>\n",
       "      <td>40</td>\n",
       "      <td>96</td>\n",
       "      <td>96</td>\n",
       "      <td>83</td>\n",
       "      <td>1</td>\n",
       "      <td>1</td>\n",
       "      <td>0.998643</td>\n",
       "    </tr>\n",
       "    <tr>\n",
       "      <th>682</th>\n",
       "      <td>47</td>\n",
       "      <td>1</td>\n",
       "      <td>4</td>\n",
       "      <td>15</td>\n",
       "      <td>1</td>\n",
       "      <td>49</td>\n",
       "      <td>8</td>\n",
       "      <td>100</td>\n",
       "      <td>95</td>\n",
       "      <td>1</td>\n",
       "      <td>1</td>\n",
       "      <td>0.998593</td>\n",
       "    </tr>\n",
       "    <tr>\n",
       "      <th>1014</th>\n",
       "      <td>35</td>\n",
       "      <td>1</td>\n",
       "      <td>3</td>\n",
       "      <td>12</td>\n",
       "      <td>2</td>\n",
       "      <td>30</td>\n",
       "      <td>100</td>\n",
       "      <td>88</td>\n",
       "      <td>56</td>\n",
       "      <td>1</td>\n",
       "      <td>1</td>\n",
       "      <td>0.998465</td>\n",
       "    </tr>\n",
       "    <tr>\n",
       "      <th>726</th>\n",
       "      <td>26</td>\n",
       "      <td>0</td>\n",
       "      <td>3</td>\n",
       "      <td>15</td>\n",
       "      <td>3</td>\n",
       "      <td>30</td>\n",
       "      <td>76</td>\n",
       "      <td>72</td>\n",
       "      <td>87</td>\n",
       "      <td>1</td>\n",
       "      <td>1</td>\n",
       "      <td>0.998378</td>\n",
       "    </tr>\n",
       "  </tbody>\n",
       "</table>\n",
       "</div>"
      ],
      "text/plain": [
       "      Age  Gender  EducationLevel  ExperienceYears  PreviousCompanies  \\\n",
       "1094   39       0               4               15                  1   \n",
       "1088   49       1               4               14                  1   \n",
       "1095   44       0               4                8                  3   \n",
       "863    48       1               2               14                  2   \n",
       "516    45       0               4               10                  4   \n",
       "368    31       0               3               14                  2   \n",
       "86     37       1               2                8                  3   \n",
       "682    47       1               4               15                  1   \n",
       "1014   35       1               3               12                  2   \n",
       "726    26       0               3               15                  3   \n",
       "\n",
       "      DistanceFromCompany  InterviewScore  SkillScore  PersonalityScore  \\\n",
       "1094                    5              58          99                86   \n",
       "1088                   17              91          71                80   \n",
       "1095                   34              69          65                98   \n",
       "863                    35              80          99                94   \n",
       "516                    29              49          69                96   \n",
       "368                    15              82          86                64   \n",
       "86                     40              96          96                83   \n",
       "682                    49               8         100                95   \n",
       "1014                   30             100          88                56   \n",
       "726                    30              76          72                87   \n",
       "\n",
       "      RecruitmentStrategy  HiringDecision  predicted_score  \n",
       "1094                    1               1         0.999800  \n",
       "1088                    1               1         0.999781  \n",
       "1095                    1               1         0.999216  \n",
       "863                     1               1         0.999129  \n",
       "516                     1               1         0.998970  \n",
       "368                     1               1         0.998681  \n",
       "86                      1               1         0.998643  \n",
       "682                     1               1         0.998593  \n",
       "1014                    1               1         0.998465  \n",
       "726                     1               1         0.998378  "
      ]
     },
     "execution_count": 17,
     "metadata": {},
     "output_type": "execute_result"
    }
   ],
   "source": [
    "top_candidates.head(10)"
   ]
  },
  {
   "cell_type": "code",
   "execution_count": 18,
   "id": "e080565b",
   "metadata": {
    "execution": {
     "iopub.execute_input": "2025-03-24T11:25:46.121880Z",
     "iopub.status.busy": "2025-03-24T11:25:46.121621Z",
     "iopub.status.idle": "2025-03-24T11:25:46.131956Z",
     "shell.execute_reply": "2025-03-24T11:25:46.131067Z"
    },
    "papermill": {
     "duration": 0.017146,
     "end_time": "2025-03-24T11:25:46.133208",
     "exception": false,
     "start_time": "2025-03-24T11:25:46.116062",
     "status": "completed"
    },
    "tags": []
   },
   "outputs": [
    {
     "data": {
      "text/html": [
       "<div>\n",
       "<style scoped>\n",
       "    .dataframe tbody tr th:only-of-type {\n",
       "        vertical-align: middle;\n",
       "    }\n",
       "\n",
       "    .dataframe tbody tr th {\n",
       "        vertical-align: top;\n",
       "    }\n",
       "\n",
       "    .dataframe thead th {\n",
       "        text-align: right;\n",
       "    }\n",
       "</style>\n",
       "<table border=\"1\" class=\"dataframe\">\n",
       "  <thead>\n",
       "    <tr style=\"text-align: right;\">\n",
       "      <th></th>\n",
       "      <th>Age</th>\n",
       "      <th>Gender</th>\n",
       "      <th>EducationLevel</th>\n",
       "      <th>ExperienceYears</th>\n",
       "      <th>PreviousCompanies</th>\n",
       "      <th>DistanceFromCompany</th>\n",
       "      <th>InterviewScore</th>\n",
       "      <th>SkillScore</th>\n",
       "      <th>PersonalityScore</th>\n",
       "      <th>RecruitmentStrategy</th>\n",
       "      <th>HiringDecision</th>\n",
       "      <th>predicted_score</th>\n",
       "    </tr>\n",
       "  </thead>\n",
       "  <tbody>\n",
       "    <tr>\n",
       "      <th>170</th>\n",
       "      <td>31</td>\n",
       "      <td>1</td>\n",
       "      <td>2</td>\n",
       "      <td>1</td>\n",
       "      <td>2</td>\n",
       "      <td>14</td>\n",
       "      <td>11</td>\n",
       "      <td>23</td>\n",
       "      <td>44</td>\n",
       "      <td>2</td>\n",
       "      <td>0</td>\n",
       "      <td>0.002643</td>\n",
       "    </tr>\n",
       "    <tr>\n",
       "      <th>1446</th>\n",
       "      <td>38</td>\n",
       "      <td>1</td>\n",
       "      <td>2</td>\n",
       "      <td>1</td>\n",
       "      <td>1</td>\n",
       "      <td>36</td>\n",
       "      <td>32</td>\n",
       "      <td>41</td>\n",
       "      <td>3</td>\n",
       "      <td>2</td>\n",
       "      <td>0</td>\n",
       "      <td>0.002386</td>\n",
       "    </tr>\n",
       "    <tr>\n",
       "      <th>1173</th>\n",
       "      <td>46</td>\n",
       "      <td>1</td>\n",
       "      <td>2</td>\n",
       "      <td>2</td>\n",
       "      <td>1</td>\n",
       "      <td>11</td>\n",
       "      <td>68</td>\n",
       "      <td>15</td>\n",
       "      <td>11</td>\n",
       "      <td>2</td>\n",
       "      <td>0</td>\n",
       "      <td>0.002355</td>\n",
       "    </tr>\n",
       "    <tr>\n",
       "      <th>853</th>\n",
       "      <td>50</td>\n",
       "      <td>1</td>\n",
       "      <td>2</td>\n",
       "      <td>1</td>\n",
       "      <td>2</td>\n",
       "      <td>18</td>\n",
       "      <td>22</td>\n",
       "      <td>2</td>\n",
       "      <td>7</td>\n",
       "      <td>2</td>\n",
       "      <td>0</td>\n",
       "      <td>0.002128</td>\n",
       "    </tr>\n",
       "    <tr>\n",
       "      <th>472</th>\n",
       "      <td>33</td>\n",
       "      <td>1</td>\n",
       "      <td>1</td>\n",
       "      <td>0</td>\n",
       "      <td>1</td>\n",
       "      <td>23</td>\n",
       "      <td>64</td>\n",
       "      <td>52</td>\n",
       "      <td>14</td>\n",
       "      <td>2</td>\n",
       "      <td>0</td>\n",
       "      <td>0.001925</td>\n",
       "    </tr>\n",
       "    <tr>\n",
       "      <th>576</th>\n",
       "      <td>34</td>\n",
       "      <td>1</td>\n",
       "      <td>2</td>\n",
       "      <td>1</td>\n",
       "      <td>2</td>\n",
       "      <td>18</td>\n",
       "      <td>29</td>\n",
       "      <td>28</td>\n",
       "      <td>23</td>\n",
       "      <td>3</td>\n",
       "      <td>0</td>\n",
       "      <td>0.001908</td>\n",
       "    </tr>\n",
       "    <tr>\n",
       "      <th>384</th>\n",
       "      <td>20</td>\n",
       "      <td>1</td>\n",
       "      <td>2</td>\n",
       "      <td>4</td>\n",
       "      <td>2</td>\n",
       "      <td>18</td>\n",
       "      <td>60</td>\n",
       "      <td>3</td>\n",
       "      <td>19</td>\n",
       "      <td>3</td>\n",
       "      <td>0</td>\n",
       "      <td>0.001692</td>\n",
       "    </tr>\n",
       "    <tr>\n",
       "      <th>579</th>\n",
       "      <td>27</td>\n",
       "      <td>1</td>\n",
       "      <td>2</td>\n",
       "      <td>0</td>\n",
       "      <td>1</td>\n",
       "      <td>35</td>\n",
       "      <td>41</td>\n",
       "      <td>28</td>\n",
       "      <td>12</td>\n",
       "      <td>3</td>\n",
       "      <td>0</td>\n",
       "      <td>0.001145</td>\n",
       "    </tr>\n",
       "    <tr>\n",
       "      <th>357</th>\n",
       "      <td>35</td>\n",
       "      <td>1</td>\n",
       "      <td>2</td>\n",
       "      <td>0</td>\n",
       "      <td>2</td>\n",
       "      <td>12</td>\n",
       "      <td>39</td>\n",
       "      <td>9</td>\n",
       "      <td>3</td>\n",
       "      <td>2</td>\n",
       "      <td>0</td>\n",
       "      <td>0.001002</td>\n",
       "    </tr>\n",
       "    <tr>\n",
       "      <th>466</th>\n",
       "      <td>47</td>\n",
       "      <td>1</td>\n",
       "      <td>1</td>\n",
       "      <td>2</td>\n",
       "      <td>1</td>\n",
       "      <td>22</td>\n",
       "      <td>9</td>\n",
       "      <td>3</td>\n",
       "      <td>7</td>\n",
       "      <td>2</td>\n",
       "      <td>0</td>\n",
       "      <td>0.000958</td>\n",
       "    </tr>\n",
       "  </tbody>\n",
       "</table>\n",
       "</div>"
      ],
      "text/plain": [
       "      Age  Gender  EducationLevel  ExperienceYears  PreviousCompanies  \\\n",
       "170    31       1               2                1                  2   \n",
       "1446   38       1               2                1                  1   \n",
       "1173   46       1               2                2                  1   \n",
       "853    50       1               2                1                  2   \n",
       "472    33       1               1                0                  1   \n",
       "576    34       1               2                1                  2   \n",
       "384    20       1               2                4                  2   \n",
       "579    27       1               2                0                  1   \n",
       "357    35       1               2                0                  2   \n",
       "466    47       1               1                2                  1   \n",
       "\n",
       "      DistanceFromCompany  InterviewScore  SkillScore  PersonalityScore  \\\n",
       "170                    14              11          23                44   \n",
       "1446                   36              32          41                 3   \n",
       "1173                   11              68          15                11   \n",
       "853                    18              22           2                 7   \n",
       "472                    23              64          52                14   \n",
       "576                    18              29          28                23   \n",
       "384                    18              60           3                19   \n",
       "579                    35              41          28                12   \n",
       "357                    12              39           9                 3   \n",
       "466                    22               9           3                 7   \n",
       "\n",
       "      RecruitmentStrategy  HiringDecision  predicted_score  \n",
       "170                     2               0         0.002643  \n",
       "1446                    2               0         0.002386  \n",
       "1173                    2               0         0.002355  \n",
       "853                     2               0         0.002128  \n",
       "472                     2               0         0.001925  \n",
       "576                     3               0         0.001908  \n",
       "384                     3               0         0.001692  \n",
       "579                     3               0         0.001145  \n",
       "357                     2               0         0.001002  \n",
       "466                     2               0         0.000958  "
      ]
     },
     "execution_count": 18,
     "metadata": {},
     "output_type": "execute_result"
    }
   ],
   "source": [
    "top_candidates.tail(10)"
   ]
  },
  {
   "cell_type": "code",
   "execution_count": 19,
   "id": "625a6945",
   "metadata": {
    "execution": {
     "iopub.execute_input": "2025-03-24T11:25:46.143988Z",
     "iopub.status.busy": "2025-03-24T11:25:46.143753Z",
     "iopub.status.idle": "2025-03-24T11:25:46.146787Z",
     "shell.execute_reply": "2025-03-24T11:25:46.145968Z"
    },
    "papermill": {
     "duration": 0.009897,
     "end_time": "2025-03-24T11:25:46.148114",
     "exception": false,
     "start_time": "2025-03-24T11:25:46.138217",
     "status": "completed"
    },
    "tags": []
   },
   "outputs": [],
   "source": [
    "# model.state_dict()"
   ]
  },
  {
   "cell_type": "code",
   "execution_count": 20,
   "id": "c19e79e0",
   "metadata": {
    "execution": {
     "iopub.execute_input": "2025-03-24T11:25:46.158532Z",
     "iopub.status.busy": "2025-03-24T11:25:46.158322Z",
     "iopub.status.idle": "2025-03-24T11:25:46.164751Z",
     "shell.execute_reply": "2025-03-24T11:25:46.163960Z"
    },
    "papermill": {
     "duration": 0.012907,
     "end_time": "2025-03-24T11:25:46.165913",
     "exception": false,
     "start_time": "2025-03-24T11:25:46.153006",
     "status": "completed"
    },
    "tags": []
   },
   "outputs": [
    {
     "name": "stdout",
     "output_type": "stream",
     "text": [
      "Model saved at CandidateRankingModel.pth\n"
     ]
    }
   ],
   "source": [
    "model_path = \"CandidateRankingModel.pth\"\n",
    "torch.save({'model_state_dict': model.state_dict()}, model_path)\n",
    "print(f\"Model saved at {model_path}\")"
   ]
  },
  {
   "cell_type": "markdown",
   "id": "ec6d186a",
   "metadata": {
    "papermill": {
     "duration": 0.00463,
     "end_time": "2025-03-24T11:25:46.175629",
     "exception": false,
     "start_time": "2025-03-24T11:25:46.170999",
     "status": "completed"
    },
    "tags": []
   },
   "source": [
    "# Pipeline"
   ]
  }
 ],
 "metadata": {
  "kaggle": {
   "accelerator": "gpu",
   "dataSources": [
    {
     "datasetId": 6918066,
     "sourceId": 11097859,
     "sourceType": "datasetVersion"
    }
   ],
   "dockerImageVersionId": 30919,
   "isGpuEnabled": true,
   "isInternetEnabled": true,
   "language": "python",
   "sourceType": "notebook"
  },
  "kernelspec": {
   "display_name": "Python 3",
   "language": "python",
   "name": "python3"
  },
  "language_info": {
   "codemirror_mode": {
    "name": "ipython",
    "version": 3
   },
   "file_extension": ".py",
   "mimetype": "text/x-python",
   "name": "python",
   "nbconvert_exporter": "python",
   "pygments_lexer": "ipython3",
   "version": "3.10.12"
  },
  "papermill": {
   "default_parameters": {},
   "duration": 16.531881,
   "end_time": "2025-03-24T11:25:47.802308",
   "environment_variables": {},
   "exception": null,
   "input_path": "__notebook__.ipynb",
   "output_path": "__notebook__.ipynb",
   "parameters": {},
   "start_time": "2025-03-24T11:25:31.270427",
   "version": "2.6.0"
  }
 },
 "nbformat": 4,
 "nbformat_minor": 5
}
