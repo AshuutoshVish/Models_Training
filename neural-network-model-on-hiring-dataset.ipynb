{
 "cells": [
  {
   "cell_type": "code",
   "execution_count": 1,
   "id": "de3f0762",
   "metadata": {
    "execution": {
     "iopub.execute_input": "2025-03-19T13:13:14.013623Z",
     "iopub.status.busy": "2025-03-19T13:13:14.013412Z",
     "iopub.status.idle": "2025-03-19T13:13:16.000990Z",
     "shell.execute_reply": "2025-03-19T13:13:16.000348Z"
    },
    "papermill": {
     "duration": 1.999184,
     "end_time": "2025-03-19T13:13:16.002690",
     "exception": false,
     "start_time": "2025-03-19T13:13:14.003506",
     "status": "completed"
    },
    "tags": []
   },
   "outputs": [],
   "source": [
    "import numpy as np\n",
    "import pandas as pd\n",
    "import seaborn as sns\n",
    "import matplotlib.pyplot as plt\n",
    "\n",
    "import warnings\n",
    "warnings.filterwarnings(\"ignore\")"
   ]
  },
  {
   "cell_type": "code",
   "execution_count": 2,
   "id": "28020bac",
   "metadata": {
    "execution": {
     "iopub.execute_input": "2025-03-19T13:13:16.020920Z",
     "iopub.status.busy": "2025-03-19T13:13:16.020574Z",
     "iopub.status.idle": "2025-03-19T13:13:16.047706Z",
     "shell.execute_reply": "2025-03-19T13:13:16.046861Z"
    },
    "papermill": {
     "duration": 0.037296,
     "end_time": "2025-03-19T13:13:16.048963",
     "exception": false,
     "start_time": "2025-03-19T13:13:16.011667",
     "status": "completed"
    },
    "tags": []
   },
   "outputs": [
    {
     "data": {
      "text/plain": [
       "(1500, 11)"
      ]
     },
     "execution_count": 2,
     "metadata": {},
     "output_type": "execute_result"
    }
   ],
   "source": [
    "df=pd.read_csv('/kaggle/input/predicting-hiring-decisions-in-recruitment-data/recruitment_data.csv')\n",
    "df.shape"
   ]
  },
  {
   "cell_type": "code",
   "execution_count": 3,
   "id": "0d808d85",
   "metadata": {
    "execution": {
     "iopub.execute_input": "2025-03-19T13:13:16.066725Z",
     "iopub.status.busy": "2025-03-19T13:13:16.066516Z",
     "iopub.status.idle": "2025-03-19T13:13:16.098185Z",
     "shell.execute_reply": "2025-03-19T13:13:16.097142Z"
    },
    "papermill": {
     "duration": 0.041962,
     "end_time": "2025-03-19T13:13:16.099587",
     "exception": false,
     "start_time": "2025-03-19T13:13:16.057625",
     "status": "completed"
    },
    "tags": []
   },
   "outputs": [
    {
     "name": "stdout",
     "output_type": "stream",
     "text": [
      "<class 'pandas.core.frame.DataFrame'>\n",
      "RangeIndex: 1500 entries, 0 to 1499\n",
      "Data columns (total 11 columns):\n",
      " #   Column               Non-Null Count  Dtype  \n",
      "---  ------               --------------  -----  \n",
      " 0   Age                  1500 non-null   int64  \n",
      " 1   Gender               1500 non-null   int64  \n",
      " 2   EducationLevel       1500 non-null   int64  \n",
      " 3   ExperienceYears      1500 non-null   int64  \n",
      " 4   PreviousCompanies    1500 non-null   int64  \n",
      " 5   DistanceFromCompany  1500 non-null   float64\n",
      " 6   InterviewScore       1500 non-null   int64  \n",
      " 7   SkillScore           1500 non-null   int64  \n",
      " 8   PersonalityScore     1500 non-null   int64  \n",
      " 9   RecruitmentStrategy  1500 non-null   int64  \n",
      " 10  HiringDecision       1500 non-null   int64  \n",
      "dtypes: float64(1), int64(10)\n",
      "memory usage: 129.0 KB\n"
     ]
    }
   ],
   "source": [
    "df.info()"
   ]
  },
  {
   "cell_type": "code",
   "execution_count": 4,
   "id": "3ea4cb36",
   "metadata": {
    "execution": {
     "iopub.execute_input": "2025-03-19T13:13:16.117610Z",
     "iopub.status.busy": "2025-03-19T13:13:16.117403Z",
     "iopub.status.idle": "2025-03-19T13:13:16.122972Z",
     "shell.execute_reply": "2025-03-19T13:13:16.122204Z"
    },
    "papermill": {
     "duration": 0.01584,
     "end_time": "2025-03-19T13:13:16.124248",
     "exception": false,
     "start_time": "2025-03-19T13:13:16.108408",
     "status": "completed"
    },
    "tags": []
   },
   "outputs": [
    {
     "data": {
      "text/plain": [
       "0"
      ]
     },
     "execution_count": 4,
     "metadata": {},
     "output_type": "execute_result"
    }
   ],
   "source": [
    "df.duplicated().sum()"
   ]
  },
  {
   "cell_type": "code",
   "execution_count": 5,
   "id": "5fde5d1f",
   "metadata": {
    "execution": {
     "iopub.execute_input": "2025-03-19T13:13:16.142367Z",
     "iopub.status.busy": "2025-03-19T13:13:16.142122Z",
     "iopub.status.idle": "2025-03-19T13:13:16.147712Z",
     "shell.execute_reply": "2025-03-19T13:13:16.147025Z"
    },
    "papermill": {
     "duration": 0.015855,
     "end_time": "2025-03-19T13:13:16.148972",
     "exception": false,
     "start_time": "2025-03-19T13:13:16.133117",
     "status": "completed"
    },
    "tags": []
   },
   "outputs": [
    {
     "data": {
      "text/plain": [
       "Age                    0\n",
       "Gender                 0\n",
       "EducationLevel         0\n",
       "ExperienceYears        0\n",
       "PreviousCompanies      0\n",
       "DistanceFromCompany    0\n",
       "InterviewScore         0\n",
       "SkillScore             0\n",
       "PersonalityScore       0\n",
       "RecruitmentStrategy    0\n",
       "HiringDecision         0\n",
       "dtype: int64"
      ]
     },
     "execution_count": 5,
     "metadata": {},
     "output_type": "execute_result"
    }
   ],
   "source": [
    "df.isnull().sum()"
   ]
  },
  {
   "cell_type": "code",
   "execution_count": 6,
   "id": "03aa3144",
   "metadata": {
    "execution": {
     "iopub.execute_input": "2025-03-19T13:13:16.168192Z",
     "iopub.status.busy": "2025-03-19T13:13:16.167938Z",
     "iopub.status.idle": "2025-03-19T13:13:16.184265Z",
     "shell.execute_reply": "2025-03-19T13:13:16.183472Z"
    },
    "papermill": {
     "duration": 0.026554,
     "end_time": "2025-03-19T13:13:16.185597",
     "exception": false,
     "start_time": "2025-03-19T13:13:16.159043",
     "status": "completed"
    },
    "tags": []
   },
   "outputs": [
    {
     "data": {
      "text/html": [
       "<div>\n",
       "<style scoped>\n",
       "    .dataframe tbody tr th:only-of-type {\n",
       "        vertical-align: middle;\n",
       "    }\n",
       "\n",
       "    .dataframe tbody tr th {\n",
       "        vertical-align: top;\n",
       "    }\n",
       "\n",
       "    .dataframe thead th {\n",
       "        text-align: right;\n",
       "    }\n",
       "</style>\n",
       "<table border=\"1\" class=\"dataframe\">\n",
       "  <thead>\n",
       "    <tr style=\"text-align: right;\">\n",
       "      <th></th>\n",
       "      <th>Age</th>\n",
       "      <th>Gender</th>\n",
       "      <th>EducationLevel</th>\n",
       "      <th>ExperienceYears</th>\n",
       "      <th>PreviousCompanies</th>\n",
       "      <th>DistanceFromCompany</th>\n",
       "      <th>InterviewScore</th>\n",
       "      <th>SkillScore</th>\n",
       "      <th>PersonalityScore</th>\n",
       "      <th>RecruitmentStrategy</th>\n",
       "      <th>HiringDecision</th>\n",
       "    </tr>\n",
       "  </thead>\n",
       "  <tbody>\n",
       "    <tr>\n",
       "      <th>0</th>\n",
       "      <td>26</td>\n",
       "      <td>1</td>\n",
       "      <td>2</td>\n",
       "      <td>0</td>\n",
       "      <td>3</td>\n",
       "      <td>26.783828</td>\n",
       "      <td>48</td>\n",
       "      <td>78</td>\n",
       "      <td>91</td>\n",
       "      <td>1</td>\n",
       "      <td>1</td>\n",
       "    </tr>\n",
       "    <tr>\n",
       "      <th>1</th>\n",
       "      <td>39</td>\n",
       "      <td>1</td>\n",
       "      <td>4</td>\n",
       "      <td>12</td>\n",
       "      <td>3</td>\n",
       "      <td>25.862694</td>\n",
       "      <td>35</td>\n",
       "      <td>68</td>\n",
       "      <td>80</td>\n",
       "      <td>2</td>\n",
       "      <td>1</td>\n",
       "    </tr>\n",
       "    <tr>\n",
       "      <th>2</th>\n",
       "      <td>48</td>\n",
       "      <td>0</td>\n",
       "      <td>2</td>\n",
       "      <td>3</td>\n",
       "      <td>2</td>\n",
       "      <td>9.920805</td>\n",
       "      <td>20</td>\n",
       "      <td>67</td>\n",
       "      <td>13</td>\n",
       "      <td>2</td>\n",
       "      <td>0</td>\n",
       "    </tr>\n",
       "    <tr>\n",
       "      <th>3</th>\n",
       "      <td>34</td>\n",
       "      <td>1</td>\n",
       "      <td>2</td>\n",
       "      <td>5</td>\n",
       "      <td>2</td>\n",
       "      <td>6.407751</td>\n",
       "      <td>36</td>\n",
       "      <td>27</td>\n",
       "      <td>70</td>\n",
       "      <td>3</td>\n",
       "      <td>0</td>\n",
       "    </tr>\n",
       "    <tr>\n",
       "      <th>4</th>\n",
       "      <td>30</td>\n",
       "      <td>0</td>\n",
       "      <td>1</td>\n",
       "      <td>6</td>\n",
       "      <td>1</td>\n",
       "      <td>43.105343</td>\n",
       "      <td>23</td>\n",
       "      <td>52</td>\n",
       "      <td>85</td>\n",
       "      <td>2</td>\n",
       "      <td>0</td>\n",
       "    </tr>\n",
       "  </tbody>\n",
       "</table>\n",
       "</div>"
      ],
      "text/plain": [
       "   Age  Gender  EducationLevel  ExperienceYears  PreviousCompanies  \\\n",
       "0   26       1               2                0                  3   \n",
       "1   39       1               4               12                  3   \n",
       "2   48       0               2                3                  2   \n",
       "3   34       1               2                5                  2   \n",
       "4   30       0               1                6                  1   \n",
       "\n",
       "   DistanceFromCompany  InterviewScore  SkillScore  PersonalityScore  \\\n",
       "0            26.783828              48          78                91   \n",
       "1            25.862694              35          68                80   \n",
       "2             9.920805              20          67                13   \n",
       "3             6.407751              36          27                70   \n",
       "4            43.105343              23          52                85   \n",
       "\n",
       "   RecruitmentStrategy  HiringDecision  \n",
       "0                    1               1  \n",
       "1                    2               1  \n",
       "2                    2               0  \n",
       "3                    3               0  \n",
       "4                    2               0  "
      ]
     },
     "execution_count": 6,
     "metadata": {},
     "output_type": "execute_result"
    }
   ],
   "source": [
    "df.head()"
   ]
  },
  {
   "cell_type": "code",
   "execution_count": 7,
   "id": "ece94d9e",
   "metadata": {
    "execution": {
     "iopub.execute_input": "2025-03-19T13:13:16.204632Z",
     "iopub.status.busy": "2025-03-19T13:13:16.204430Z",
     "iopub.status.idle": "2025-03-19T13:13:16.209610Z",
     "shell.execute_reply": "2025-03-19T13:13:16.208977Z"
    },
    "papermill": {
     "duration": 0.015804,
     "end_time": "2025-03-19T13:13:16.210865",
     "exception": false,
     "start_time": "2025-03-19T13:13:16.195061",
     "status": "completed"
    },
    "tags": []
   },
   "outputs": [],
   "source": [
    "df['DistanceFromCompany'] = df['DistanceFromCompany'].round().astype(int)"
   ]
  },
  {
   "cell_type": "code",
   "execution_count": 8,
   "id": "e47dccfb",
   "metadata": {
    "execution": {
     "iopub.execute_input": "2025-03-19T13:13:16.229633Z",
     "iopub.status.busy": "2025-03-19T13:13:16.229438Z",
     "iopub.status.idle": "2025-03-19T13:13:16.237711Z",
     "shell.execute_reply": "2025-03-19T13:13:16.237061Z"
    },
    "papermill": {
     "duration": 0.018961,
     "end_time": "2025-03-19T13:13:16.238788",
     "exception": false,
     "start_time": "2025-03-19T13:13:16.219827",
     "status": "completed"
    },
    "tags": []
   },
   "outputs": [
    {
     "data": {
      "text/html": [
       "<div>\n",
       "<style scoped>\n",
       "    .dataframe tbody tr th:only-of-type {\n",
       "        vertical-align: middle;\n",
       "    }\n",
       "\n",
       "    .dataframe tbody tr th {\n",
       "        vertical-align: top;\n",
       "    }\n",
       "\n",
       "    .dataframe thead th {\n",
       "        text-align: right;\n",
       "    }\n",
       "</style>\n",
       "<table border=\"1\" class=\"dataframe\">\n",
       "  <thead>\n",
       "    <tr style=\"text-align: right;\">\n",
       "      <th></th>\n",
       "      <th>Age</th>\n",
       "      <th>Gender</th>\n",
       "      <th>EducationLevel</th>\n",
       "      <th>ExperienceYears</th>\n",
       "      <th>PreviousCompanies</th>\n",
       "      <th>DistanceFromCompany</th>\n",
       "      <th>InterviewScore</th>\n",
       "      <th>SkillScore</th>\n",
       "      <th>PersonalityScore</th>\n",
       "      <th>RecruitmentStrategy</th>\n",
       "      <th>HiringDecision</th>\n",
       "    </tr>\n",
       "  </thead>\n",
       "  <tbody>\n",
       "    <tr>\n",
       "      <th>0</th>\n",
       "      <td>26</td>\n",
       "      <td>1</td>\n",
       "      <td>2</td>\n",
       "      <td>0</td>\n",
       "      <td>3</td>\n",
       "      <td>27</td>\n",
       "      <td>48</td>\n",
       "      <td>78</td>\n",
       "      <td>91</td>\n",
       "      <td>1</td>\n",
       "      <td>1</td>\n",
       "    </tr>\n",
       "    <tr>\n",
       "      <th>1</th>\n",
       "      <td>39</td>\n",
       "      <td>1</td>\n",
       "      <td>4</td>\n",
       "      <td>12</td>\n",
       "      <td>3</td>\n",
       "      <td>26</td>\n",
       "      <td>35</td>\n",
       "      <td>68</td>\n",
       "      <td>80</td>\n",
       "      <td>2</td>\n",
       "      <td>1</td>\n",
       "    </tr>\n",
       "    <tr>\n",
       "      <th>2</th>\n",
       "      <td>48</td>\n",
       "      <td>0</td>\n",
       "      <td>2</td>\n",
       "      <td>3</td>\n",
       "      <td>2</td>\n",
       "      <td>10</td>\n",
       "      <td>20</td>\n",
       "      <td>67</td>\n",
       "      <td>13</td>\n",
       "      <td>2</td>\n",
       "      <td>0</td>\n",
       "    </tr>\n",
       "    <tr>\n",
       "      <th>3</th>\n",
       "      <td>34</td>\n",
       "      <td>1</td>\n",
       "      <td>2</td>\n",
       "      <td>5</td>\n",
       "      <td>2</td>\n",
       "      <td>6</td>\n",
       "      <td>36</td>\n",
       "      <td>27</td>\n",
       "      <td>70</td>\n",
       "      <td>3</td>\n",
       "      <td>0</td>\n",
       "    </tr>\n",
       "    <tr>\n",
       "      <th>4</th>\n",
       "      <td>30</td>\n",
       "      <td>0</td>\n",
       "      <td>1</td>\n",
       "      <td>6</td>\n",
       "      <td>1</td>\n",
       "      <td>43</td>\n",
       "      <td>23</td>\n",
       "      <td>52</td>\n",
       "      <td>85</td>\n",
       "      <td>2</td>\n",
       "      <td>0</td>\n",
       "    </tr>\n",
       "    <tr>\n",
       "      <th>5</th>\n",
       "      <td>27</td>\n",
       "      <td>0</td>\n",
       "      <td>3</td>\n",
       "      <td>14</td>\n",
       "      <td>4</td>\n",
       "      <td>32</td>\n",
       "      <td>54</td>\n",
       "      <td>50</td>\n",
       "      <td>50</td>\n",
       "      <td>1</td>\n",
       "      <td>1</td>\n",
       "    </tr>\n",
       "    <tr>\n",
       "      <th>6</th>\n",
       "      <td>48</td>\n",
       "      <td>0</td>\n",
       "      <td>2</td>\n",
       "      <td>6</td>\n",
       "      <td>1</td>\n",
       "      <td>17</td>\n",
       "      <td>24</td>\n",
       "      <td>52</td>\n",
       "      <td>64</td>\n",
       "      <td>3</td>\n",
       "      <td>0</td>\n",
       "    </tr>\n",
       "    <tr>\n",
       "      <th>7</th>\n",
       "      <td>40</td>\n",
       "      <td>0</td>\n",
       "      <td>4</td>\n",
       "      <td>13</td>\n",
       "      <td>3</td>\n",
       "      <td>11</td>\n",
       "      <td>6</td>\n",
       "      <td>3</td>\n",
       "      <td>92</td>\n",
       "      <td>3</td>\n",
       "      <td>0</td>\n",
       "    </tr>\n",
       "    <tr>\n",
       "      <th>8</th>\n",
       "      <td>26</td>\n",
       "      <td>1</td>\n",
       "      <td>3</td>\n",
       "      <td>6</td>\n",
       "      <td>5</td>\n",
       "      <td>29</td>\n",
       "      <td>80</td>\n",
       "      <td>78</td>\n",
       "      <td>51</td>\n",
       "      <td>1</td>\n",
       "      <td>1</td>\n",
       "    </tr>\n",
       "    <tr>\n",
       "      <th>9</th>\n",
       "      <td>45</td>\n",
       "      <td>1</td>\n",
       "      <td>2</td>\n",
       "      <td>2</td>\n",
       "      <td>5</td>\n",
       "      <td>30</td>\n",
       "      <td>92</td>\n",
       "      <td>16</td>\n",
       "      <td>94</td>\n",
       "      <td>3</td>\n",
       "      <td>0</td>\n",
       "    </tr>\n",
       "  </tbody>\n",
       "</table>\n",
       "</div>"
      ],
      "text/plain": [
       "   Age  Gender  EducationLevel  ExperienceYears  PreviousCompanies  \\\n",
       "0   26       1               2                0                  3   \n",
       "1   39       1               4               12                  3   \n",
       "2   48       0               2                3                  2   \n",
       "3   34       1               2                5                  2   \n",
       "4   30       0               1                6                  1   \n",
       "5   27       0               3               14                  4   \n",
       "6   48       0               2                6                  1   \n",
       "7   40       0               4               13                  3   \n",
       "8   26       1               3                6                  5   \n",
       "9   45       1               2                2                  5   \n",
       "\n",
       "   DistanceFromCompany  InterviewScore  SkillScore  PersonalityScore  \\\n",
       "0                   27              48          78                91   \n",
       "1                   26              35          68                80   \n",
       "2                   10              20          67                13   \n",
       "3                    6              36          27                70   \n",
       "4                   43              23          52                85   \n",
       "5                   32              54          50                50   \n",
       "6                   17              24          52                64   \n",
       "7                   11               6           3                92   \n",
       "8                   29              80          78                51   \n",
       "9                   30              92          16                94   \n",
       "\n",
       "   RecruitmentStrategy  HiringDecision  \n",
       "0                    1               1  \n",
       "1                    2               1  \n",
       "2                    2               0  \n",
       "3                    3               0  \n",
       "4                    2               0  \n",
       "5                    1               1  \n",
       "6                    3               0  \n",
       "7                    3               0  \n",
       "8                    1               1  \n",
       "9                    3               0  "
      ]
     },
     "execution_count": 8,
     "metadata": {},
     "output_type": "execute_result"
    }
   ],
   "source": [
    "df.head(10)"
   ]
  },
  {
   "cell_type": "code",
   "execution_count": 9,
   "id": "ff064484",
   "metadata": {
    "execution": {
     "iopub.execute_input": "2025-03-19T13:13:16.257868Z",
     "iopub.status.busy": "2025-03-19T13:13:16.257650Z",
     "iopub.status.idle": "2025-03-19T13:13:16.266218Z",
     "shell.execute_reply": "2025-03-19T13:13:16.265588Z"
    },
    "papermill": {
     "duration": 0.019439,
     "end_time": "2025-03-19T13:13:16.267365",
     "exception": false,
     "start_time": "2025-03-19T13:13:16.247926",
     "status": "completed"
    },
    "tags": []
   },
   "outputs": [
    {
     "data": {
      "text/html": [
       "<div>\n",
       "<style scoped>\n",
       "    .dataframe tbody tr th:only-of-type {\n",
       "        vertical-align: middle;\n",
       "    }\n",
       "\n",
       "    .dataframe tbody tr th {\n",
       "        vertical-align: top;\n",
       "    }\n",
       "\n",
       "    .dataframe thead th {\n",
       "        text-align: right;\n",
       "    }\n",
       "</style>\n",
       "<table border=\"1\" class=\"dataframe\">\n",
       "  <thead>\n",
       "    <tr style=\"text-align: right;\">\n",
       "      <th></th>\n",
       "      <th>Age</th>\n",
       "      <th>Gender</th>\n",
       "      <th>EducationLevel</th>\n",
       "      <th>ExperienceYears</th>\n",
       "      <th>PreviousCompanies</th>\n",
       "      <th>DistanceFromCompany</th>\n",
       "      <th>InterviewScore</th>\n",
       "      <th>SkillScore</th>\n",
       "      <th>PersonalityScore</th>\n",
       "      <th>RecruitmentStrategy</th>\n",
       "      <th>HiringDecision</th>\n",
       "    </tr>\n",
       "  </thead>\n",
       "  <tbody>\n",
       "    <tr>\n",
       "      <th>1490</th>\n",
       "      <td>32</td>\n",
       "      <td>0</td>\n",
       "      <td>3</td>\n",
       "      <td>10</td>\n",
       "      <td>4</td>\n",
       "      <td>50</td>\n",
       "      <td>20</td>\n",
       "      <td>51</td>\n",
       "      <td>51</td>\n",
       "      <td>2</td>\n",
       "      <td>0</td>\n",
       "    </tr>\n",
       "    <tr>\n",
       "      <th>1491</th>\n",
       "      <td>43</td>\n",
       "      <td>1</td>\n",
       "      <td>2</td>\n",
       "      <td>15</td>\n",
       "      <td>3</td>\n",
       "      <td>7</td>\n",
       "      <td>51</td>\n",
       "      <td>79</td>\n",
       "      <td>23</td>\n",
       "      <td>2</td>\n",
       "      <td>0</td>\n",
       "    </tr>\n",
       "    <tr>\n",
       "      <th>1492</th>\n",
       "      <td>39</td>\n",
       "      <td>0</td>\n",
       "      <td>2</td>\n",
       "      <td>11</td>\n",
       "      <td>3</td>\n",
       "      <td>14</td>\n",
       "      <td>81</td>\n",
       "      <td>5</td>\n",
       "      <td>52</td>\n",
       "      <td>2</td>\n",
       "      <td>0</td>\n",
       "    </tr>\n",
       "    <tr>\n",
       "      <th>1493</th>\n",
       "      <td>43</td>\n",
       "      <td>1</td>\n",
       "      <td>2</td>\n",
       "      <td>14</td>\n",
       "      <td>4</td>\n",
       "      <td>26</td>\n",
       "      <td>42</td>\n",
       "      <td>36</td>\n",
       "      <td>55</td>\n",
       "      <td>1</td>\n",
       "      <td>0</td>\n",
       "    </tr>\n",
       "    <tr>\n",
       "      <th>1494</th>\n",
       "      <td>34</td>\n",
       "      <td>1</td>\n",
       "      <td>1</td>\n",
       "      <td>6</td>\n",
       "      <td>2</td>\n",
       "      <td>43</td>\n",
       "      <td>51</td>\n",
       "      <td>84</td>\n",
       "      <td>62</td>\n",
       "      <td>1</td>\n",
       "      <td>0</td>\n",
       "    </tr>\n",
       "    <tr>\n",
       "      <th>1495</th>\n",
       "      <td>48</td>\n",
       "      <td>0</td>\n",
       "      <td>2</td>\n",
       "      <td>3</td>\n",
       "      <td>4</td>\n",
       "      <td>9</td>\n",
       "      <td>66</td>\n",
       "      <td>3</td>\n",
       "      <td>80</td>\n",
       "      <td>3</td>\n",
       "      <td>1</td>\n",
       "    </tr>\n",
       "    <tr>\n",
       "      <th>1496</th>\n",
       "      <td>27</td>\n",
       "      <td>1</td>\n",
       "      <td>2</td>\n",
       "      <td>10</td>\n",
       "      <td>3</td>\n",
       "      <td>15</td>\n",
       "      <td>43</td>\n",
       "      <td>97</td>\n",
       "      <td>7</td>\n",
       "      <td>2</td>\n",
       "      <td>0</td>\n",
       "    </tr>\n",
       "    <tr>\n",
       "      <th>1497</th>\n",
       "      <td>24</td>\n",
       "      <td>1</td>\n",
       "      <td>1</td>\n",
       "      <td>1</td>\n",
       "      <td>2</td>\n",
       "      <td>4</td>\n",
       "      <td>31</td>\n",
       "      <td>91</td>\n",
       "      <td>58</td>\n",
       "      <td>1</td>\n",
       "      <td>1</td>\n",
       "    </tr>\n",
       "    <tr>\n",
       "      <th>1498</th>\n",
       "      <td>48</td>\n",
       "      <td>0</td>\n",
       "      <td>2</td>\n",
       "      <td>4</td>\n",
       "      <td>4</td>\n",
       "      <td>36</td>\n",
       "      <td>9</td>\n",
       "      <td>37</td>\n",
       "      <td>44</td>\n",
       "      <td>2</td>\n",
       "      <td>1</td>\n",
       "    </tr>\n",
       "    <tr>\n",
       "      <th>1499</th>\n",
       "      <td>34</td>\n",
       "      <td>1</td>\n",
       "      <td>2</td>\n",
       "      <td>11</td>\n",
       "      <td>5</td>\n",
       "      <td>13</td>\n",
       "      <td>63</td>\n",
       "      <td>40</td>\n",
       "      <td>26</td>\n",
       "      <td>2</td>\n",
       "      <td>1</td>\n",
       "    </tr>\n",
       "  </tbody>\n",
       "</table>\n",
       "</div>"
      ],
      "text/plain": [
       "      Age  Gender  EducationLevel  ExperienceYears  PreviousCompanies  \\\n",
       "1490   32       0               3               10                  4   \n",
       "1491   43       1               2               15                  3   \n",
       "1492   39       0               2               11                  3   \n",
       "1493   43       1               2               14                  4   \n",
       "1494   34       1               1                6                  2   \n",
       "1495   48       0               2                3                  4   \n",
       "1496   27       1               2               10                  3   \n",
       "1497   24       1               1                1                  2   \n",
       "1498   48       0               2                4                  4   \n",
       "1499   34       1               2               11                  5   \n",
       "\n",
       "      DistanceFromCompany  InterviewScore  SkillScore  PersonalityScore  \\\n",
       "1490                   50              20          51                51   \n",
       "1491                    7              51          79                23   \n",
       "1492                   14              81           5                52   \n",
       "1493                   26              42          36                55   \n",
       "1494                   43              51          84                62   \n",
       "1495                    9              66           3                80   \n",
       "1496                   15              43          97                 7   \n",
       "1497                    4              31          91                58   \n",
       "1498                   36               9          37                44   \n",
       "1499                   13              63          40                26   \n",
       "\n",
       "      RecruitmentStrategy  HiringDecision  \n",
       "1490                    2               0  \n",
       "1491                    2               0  \n",
       "1492                    2               0  \n",
       "1493                    1               0  \n",
       "1494                    1               0  \n",
       "1495                    3               1  \n",
       "1496                    2               0  \n",
       "1497                    1               1  \n",
       "1498                    2               1  \n",
       "1499                    2               1  "
      ]
     },
     "execution_count": 9,
     "metadata": {},
     "output_type": "execute_result"
    }
   ],
   "source": [
    "df.tail(10)"
   ]
  },
  {
   "cell_type": "code",
   "execution_count": 10,
   "id": "69b3d04b",
   "metadata": {
    "execution": {
     "iopub.execute_input": "2025-03-19T13:13:16.286729Z",
     "iopub.status.busy": "2025-03-19T13:13:16.286505Z",
     "iopub.status.idle": "2025-03-19T13:13:16.315141Z",
     "shell.execute_reply": "2025-03-19T13:13:16.314299Z"
    },
    "papermill": {
     "duration": 0.039893,
     "end_time": "2025-03-19T13:13:16.316430",
     "exception": false,
     "start_time": "2025-03-19T13:13:16.276537",
     "status": "completed"
    },
    "tags": []
   },
   "outputs": [
    {
     "data": {
      "text/html": [
       "<div>\n",
       "<style scoped>\n",
       "    .dataframe tbody tr th:only-of-type {\n",
       "        vertical-align: middle;\n",
       "    }\n",
       "\n",
       "    .dataframe tbody tr th {\n",
       "        vertical-align: top;\n",
       "    }\n",
       "\n",
       "    .dataframe thead th {\n",
       "        text-align: right;\n",
       "    }\n",
       "</style>\n",
       "<table border=\"1\" class=\"dataframe\">\n",
       "  <thead>\n",
       "    <tr style=\"text-align: right;\">\n",
       "      <th></th>\n",
       "      <th>count</th>\n",
       "      <th>mean</th>\n",
       "      <th>std</th>\n",
       "      <th>min</th>\n",
       "      <th>25%</th>\n",
       "      <th>50%</th>\n",
       "      <th>75%</th>\n",
       "      <th>max</th>\n",
       "    </tr>\n",
       "  </thead>\n",
       "  <tbody>\n",
       "    <tr>\n",
       "      <th>Age</th>\n",
       "      <td>1500.0</td>\n",
       "      <td>35.148667</td>\n",
       "      <td>9.252728</td>\n",
       "      <td>20.0</td>\n",
       "      <td>27.00</td>\n",
       "      <td>35.0</td>\n",
       "      <td>43.0</td>\n",
       "      <td>50.0</td>\n",
       "    </tr>\n",
       "    <tr>\n",
       "      <th>Gender</th>\n",
       "      <td>1500.0</td>\n",
       "      <td>0.492000</td>\n",
       "      <td>0.500103</td>\n",
       "      <td>0.0</td>\n",
       "      <td>0.00</td>\n",
       "      <td>0.0</td>\n",
       "      <td>1.0</td>\n",
       "      <td>1.0</td>\n",
       "    </tr>\n",
       "    <tr>\n",
       "      <th>EducationLevel</th>\n",
       "      <td>1500.0</td>\n",
       "      <td>2.188000</td>\n",
       "      <td>0.862449</td>\n",
       "      <td>1.0</td>\n",
       "      <td>2.00</td>\n",
       "      <td>2.0</td>\n",
       "      <td>3.0</td>\n",
       "      <td>4.0</td>\n",
       "    </tr>\n",
       "    <tr>\n",
       "      <th>ExperienceYears</th>\n",
       "      <td>1500.0</td>\n",
       "      <td>7.694000</td>\n",
       "      <td>4.641414</td>\n",
       "      <td>0.0</td>\n",
       "      <td>4.00</td>\n",
       "      <td>8.0</td>\n",
       "      <td>12.0</td>\n",
       "      <td>15.0</td>\n",
       "    </tr>\n",
       "    <tr>\n",
       "      <th>PreviousCompanies</th>\n",
       "      <td>1500.0</td>\n",
       "      <td>3.002000</td>\n",
       "      <td>1.410670</td>\n",
       "      <td>1.0</td>\n",
       "      <td>2.00</td>\n",
       "      <td>3.0</td>\n",
       "      <td>4.0</td>\n",
       "      <td>5.0</td>\n",
       "    </tr>\n",
       "    <tr>\n",
       "      <th>DistanceFromCompany</th>\n",
       "      <td>1500.0</td>\n",
       "      <td>25.498667</td>\n",
       "      <td>14.562625</td>\n",
       "      <td>1.0</td>\n",
       "      <td>13.00</td>\n",
       "      <td>25.5</td>\n",
       "      <td>38.0</td>\n",
       "      <td>51.0</td>\n",
       "    </tr>\n",
       "    <tr>\n",
       "      <th>InterviewScore</th>\n",
       "      <td>1500.0</td>\n",
       "      <td>50.564000</td>\n",
       "      <td>28.626215</td>\n",
       "      <td>0.0</td>\n",
       "      <td>25.00</td>\n",
       "      <td>52.0</td>\n",
       "      <td>75.0</td>\n",
       "      <td>100.0</td>\n",
       "    </tr>\n",
       "    <tr>\n",
       "      <th>SkillScore</th>\n",
       "      <td>1500.0</td>\n",
       "      <td>51.116000</td>\n",
       "      <td>29.353563</td>\n",
       "      <td>0.0</td>\n",
       "      <td>25.75</td>\n",
       "      <td>53.0</td>\n",
       "      <td>76.0</td>\n",
       "      <td>100.0</td>\n",
       "    </tr>\n",
       "    <tr>\n",
       "      <th>PersonalityScore</th>\n",
       "      <td>1500.0</td>\n",
       "      <td>49.387333</td>\n",
       "      <td>29.353201</td>\n",
       "      <td>0.0</td>\n",
       "      <td>23.00</td>\n",
       "      <td>49.0</td>\n",
       "      <td>76.0</td>\n",
       "      <td>100.0</td>\n",
       "    </tr>\n",
       "    <tr>\n",
       "      <th>RecruitmentStrategy</th>\n",
       "      <td>1500.0</td>\n",
       "      <td>1.893333</td>\n",
       "      <td>0.689642</td>\n",
       "      <td>1.0</td>\n",
       "      <td>1.00</td>\n",
       "      <td>2.0</td>\n",
       "      <td>2.0</td>\n",
       "      <td>3.0</td>\n",
       "    </tr>\n",
       "    <tr>\n",
       "      <th>HiringDecision</th>\n",
       "      <td>1500.0</td>\n",
       "      <td>0.310000</td>\n",
       "      <td>0.462647</td>\n",
       "      <td>0.0</td>\n",
       "      <td>0.00</td>\n",
       "      <td>0.0</td>\n",
       "      <td>1.0</td>\n",
       "      <td>1.0</td>\n",
       "    </tr>\n",
       "  </tbody>\n",
       "</table>\n",
       "</div>"
      ],
      "text/plain": [
       "                      count       mean        std   min    25%   50%   75%  \\\n",
       "Age                  1500.0  35.148667   9.252728  20.0  27.00  35.0  43.0   \n",
       "Gender               1500.0   0.492000   0.500103   0.0   0.00   0.0   1.0   \n",
       "EducationLevel       1500.0   2.188000   0.862449   1.0   2.00   2.0   3.0   \n",
       "ExperienceYears      1500.0   7.694000   4.641414   0.0   4.00   8.0  12.0   \n",
       "PreviousCompanies    1500.0   3.002000   1.410670   1.0   2.00   3.0   4.0   \n",
       "DistanceFromCompany  1500.0  25.498667  14.562625   1.0  13.00  25.5  38.0   \n",
       "InterviewScore       1500.0  50.564000  28.626215   0.0  25.00  52.0  75.0   \n",
       "SkillScore           1500.0  51.116000  29.353563   0.0  25.75  53.0  76.0   \n",
       "PersonalityScore     1500.0  49.387333  29.353201   0.0  23.00  49.0  76.0   \n",
       "RecruitmentStrategy  1500.0   1.893333   0.689642   1.0   1.00   2.0   2.0   \n",
       "HiringDecision       1500.0   0.310000   0.462647   0.0   0.00   0.0   1.0   \n",
       "\n",
       "                       max  \n",
       "Age                   50.0  \n",
       "Gender                 1.0  \n",
       "EducationLevel         4.0  \n",
       "ExperienceYears       15.0  \n",
       "PreviousCompanies      5.0  \n",
       "DistanceFromCompany   51.0  \n",
       "InterviewScore       100.0  \n",
       "SkillScore           100.0  \n",
       "PersonalityScore     100.0  \n",
       "RecruitmentStrategy    3.0  \n",
       "HiringDecision         1.0  "
      ]
     },
     "execution_count": 10,
     "metadata": {},
     "output_type": "execute_result"
    }
   ],
   "source": [
    "df.describe().transpose()"
   ]
  },
  {
   "cell_type": "code",
   "execution_count": 11,
   "id": "28779a72",
   "metadata": {
    "execution": {
     "iopub.execute_input": "2025-03-19T13:13:16.335924Z",
     "iopub.status.busy": "2025-03-19T13:13:16.335717Z",
     "iopub.status.idle": "2025-03-19T13:13:16.341909Z",
     "shell.execute_reply": "2025-03-19T13:13:16.341137Z"
    },
    "papermill": {
     "duration": 0.017318,
     "end_time": "2025-03-19T13:13:16.343221",
     "exception": false,
     "start_time": "2025-03-19T13:13:16.325903",
     "status": "completed"
    },
    "tags": []
   },
   "outputs": [
    {
     "data": {
      "text/plain": [
       "PreviousCompanies\n",
       "2    313\n",
       "5    301\n",
       "4    298\n",
       "3    296\n",
       "1    292\n",
       "Name: count, dtype: int64"
      ]
     },
     "execution_count": 11,
     "metadata": {},
     "output_type": "execute_result"
    }
   ],
   "source": [
    "df['PreviousCompanies'].value_counts()"
   ]
  },
  {
   "cell_type": "code",
   "execution_count": 12,
   "id": "50933db3",
   "metadata": {
    "execution": {
     "iopub.execute_input": "2025-03-19T13:13:16.362653Z",
     "iopub.status.busy": "2025-03-19T13:13:16.362429Z",
     "iopub.status.idle": "2025-03-19T13:13:16.367829Z",
     "shell.execute_reply": "2025-03-19T13:13:16.367188Z"
    },
    "papermill": {
     "duration": 0.016511,
     "end_time": "2025-03-19T13:13:16.369111",
     "exception": false,
     "start_time": "2025-03-19T13:13:16.352600",
     "status": "completed"
    },
    "tags": []
   },
   "outputs": [
    {
     "data": {
      "text/plain": [
       "SkillScore\n",
       "79    27\n",
       "32    23\n",
       "94    22\n",
       "60    22\n",
       "76    22\n",
       "92    22\n",
       "2     22\n",
       "86    21\n",
       "40    21\n",
       "96    21\n",
       "Name: count, dtype: int64"
      ]
     },
     "execution_count": 12,
     "metadata": {},
     "output_type": "execute_result"
    }
   ],
   "source": [
    "df['SkillScore'].value_counts().head(10)"
   ]
  },
  {
   "cell_type": "code",
   "execution_count": 13,
   "id": "c4f756bd",
   "metadata": {
    "execution": {
     "iopub.execute_input": "2025-03-19T13:13:16.390143Z",
     "iopub.status.busy": "2025-03-19T13:13:16.389885Z",
     "iopub.status.idle": "2025-03-19T13:13:16.394962Z",
     "shell.execute_reply": "2025-03-19T13:13:16.394227Z"
    },
    "papermill": {
     "duration": 0.01707,
     "end_time": "2025-03-19T13:13:16.396181",
     "exception": false,
     "start_time": "2025-03-19T13:13:16.379111",
     "status": "completed"
    },
    "tags": []
   },
   "outputs": [
    {
     "data": {
      "text/plain": [
       "EducationLevel\n",
       "2    740\n",
       "3    317\n",
       "1    307\n",
       "4    136\n",
       "Name: count, dtype: int64"
      ]
     },
     "execution_count": 13,
     "metadata": {},
     "output_type": "execute_result"
    }
   ],
   "source": [
    "df['EducationLevel'].value_counts()"
   ]
  },
  {
   "cell_type": "code",
   "execution_count": 14,
   "id": "cde5f0c5",
   "metadata": {
    "execution": {
     "iopub.execute_input": "2025-03-19T13:13:16.415904Z",
     "iopub.status.busy": "2025-03-19T13:13:16.415704Z",
     "iopub.status.idle": "2025-03-19T13:13:16.429659Z",
     "shell.execute_reply": "2025-03-19T13:13:16.429007Z"
    },
    "papermill": {
     "duration": 0.025033,
     "end_time": "2025-03-19T13:13:16.430824",
     "exception": false,
     "start_time": "2025-03-19T13:13:16.405791",
     "status": "completed"
    },
    "tags": []
   },
   "outputs": [
    {
     "data": {
      "text/html": [
       "<div>\n",
       "<style scoped>\n",
       "    .dataframe tbody tr th:only-of-type {\n",
       "        vertical-align: middle;\n",
       "    }\n",
       "\n",
       "    .dataframe tbody tr th {\n",
       "        vertical-align: top;\n",
       "    }\n",
       "\n",
       "    .dataframe thead th {\n",
       "        text-align: right;\n",
       "    }\n",
       "</style>\n",
       "<table border=\"1\" class=\"dataframe\">\n",
       "  <thead>\n",
       "    <tr style=\"text-align: right;\">\n",
       "      <th></th>\n",
       "      <th>Age</th>\n",
       "      <th>Gender</th>\n",
       "      <th>EducationLevel</th>\n",
       "      <th>ExperienceYears</th>\n",
       "      <th>PreviousCompanies</th>\n",
       "      <th>DistanceFromCompany</th>\n",
       "      <th>InterviewScore</th>\n",
       "      <th>SkillScore</th>\n",
       "      <th>PersonalityScore</th>\n",
       "      <th>RecruitmentStrategy</th>\n",
       "      <th>HiringDecision</th>\n",
       "    </tr>\n",
       "  </thead>\n",
       "  <tbody>\n",
       "    <tr>\n",
       "      <th>Age</th>\n",
       "      <td>1.000000</td>\n",
       "      <td>0.011286</td>\n",
       "      <td>0.032610</td>\n",
       "      <td>0.024780</td>\n",
       "      <td>-0.032580</td>\n",
       "      <td>-0.021553</td>\n",
       "      <td>-0.025579</td>\n",
       "      <td>-0.008068</td>\n",
       "      <td>0.037727</td>\n",
       "      <td>0.018064</td>\n",
       "      <td>0.001850</td>\n",
       "    </tr>\n",
       "    <tr>\n",
       "      <th>Gender</th>\n",
       "      <td>0.011286</td>\n",
       "      <td>1.000000</td>\n",
       "      <td>0.009676</td>\n",
       "      <td>-0.028502</td>\n",
       "      <td>-0.061915</td>\n",
       "      <td>0.004029</td>\n",
       "      <td>-0.020887</td>\n",
       "      <td>0.012333</td>\n",
       "      <td>0.023729</td>\n",
       "      <td>-0.023753</td>\n",
       "      <td>-0.002249</td>\n",
       "    </tr>\n",
       "    <tr>\n",
       "      <th>EducationLevel</th>\n",
       "      <td>0.032610</td>\n",
       "      <td>0.009676</td>\n",
       "      <td>1.000000</td>\n",
       "      <td>-0.000951</td>\n",
       "      <td>0.007367</td>\n",
       "      <td>0.021426</td>\n",
       "      <td>0.012807</td>\n",
       "      <td>-0.043367</td>\n",
       "      <td>0.031115</td>\n",
       "      <td>-0.036923</td>\n",
       "      <td>0.236710</td>\n",
       "    </tr>\n",
       "    <tr>\n",
       "      <th>ExperienceYears</th>\n",
       "      <td>0.024780</td>\n",
       "      <td>-0.028502</td>\n",
       "      <td>-0.000951</td>\n",
       "      <td>1.000000</td>\n",
       "      <td>0.015784</td>\n",
       "      <td>0.008645</td>\n",
       "      <td>-0.051701</td>\n",
       "      <td>0.006323</td>\n",
       "      <td>0.013891</td>\n",
       "      <td>0.029603</td>\n",
       "      <td>0.122494</td>\n",
       "    </tr>\n",
       "    <tr>\n",
       "      <th>PreviousCompanies</th>\n",
       "      <td>-0.032580</td>\n",
       "      <td>-0.061915</td>\n",
       "      <td>0.007367</td>\n",
       "      <td>0.015784</td>\n",
       "      <td>1.000000</td>\n",
       "      <td>0.009109</td>\n",
       "      <td>-0.008387</td>\n",
       "      <td>0.040883</td>\n",
       "      <td>-0.024572</td>\n",
       "      <td>-0.000466</td>\n",
       "      <td>0.044025</td>\n",
       "    </tr>\n",
       "    <tr>\n",
       "      <th>DistanceFromCompany</th>\n",
       "      <td>-0.021553</td>\n",
       "      <td>0.004029</td>\n",
       "      <td>0.021426</td>\n",
       "      <td>0.008645</td>\n",
       "      <td>0.009109</td>\n",
       "      <td>1.000000</td>\n",
       "      <td>-0.019557</td>\n",
       "      <td>-0.016834</td>\n",
       "      <td>0.004937</td>\n",
       "      <td>-0.007587</td>\n",
       "      <td>-0.016425</td>\n",
       "    </tr>\n",
       "    <tr>\n",
       "      <th>InterviewScore</th>\n",
       "      <td>-0.025579</td>\n",
       "      <td>-0.020887</td>\n",
       "      <td>0.012807</td>\n",
       "      <td>-0.051701</td>\n",
       "      <td>-0.008387</td>\n",
       "      <td>-0.019557</td>\n",
       "      <td>1.000000</td>\n",
       "      <td>-0.004887</td>\n",
       "      <td>-0.027967</td>\n",
       "      <td>0.012004</td>\n",
       "      <td>0.146064</td>\n",
       "    </tr>\n",
       "    <tr>\n",
       "      <th>SkillScore</th>\n",
       "      <td>-0.008068</td>\n",
       "      <td>0.012333</td>\n",
       "      <td>-0.043367</td>\n",
       "      <td>0.006323</td>\n",
       "      <td>0.040883</td>\n",
       "      <td>-0.016834</td>\n",
       "      <td>-0.004887</td>\n",
       "      <td>1.000000</td>\n",
       "      <td>-0.004266</td>\n",
       "      <td>-0.031189</td>\n",
       "      <td>0.203668</td>\n",
       "    </tr>\n",
       "    <tr>\n",
       "      <th>PersonalityScore</th>\n",
       "      <td>0.037727</td>\n",
       "      <td>0.023729</td>\n",
       "      <td>0.031115</td>\n",
       "      <td>0.013891</td>\n",
       "      <td>-0.024572</td>\n",
       "      <td>0.004937</td>\n",
       "      <td>-0.027967</td>\n",
       "      <td>-0.004266</td>\n",
       "      <td>1.000000</td>\n",
       "      <td>0.004712</td>\n",
       "      <td>0.169177</td>\n",
       "    </tr>\n",
       "    <tr>\n",
       "      <th>RecruitmentStrategy</th>\n",
       "      <td>0.018064</td>\n",
       "      <td>-0.023753</td>\n",
       "      <td>-0.036923</td>\n",
       "      <td>0.029603</td>\n",
       "      <td>-0.000466</td>\n",
       "      <td>-0.007587</td>\n",
       "      <td>0.012004</td>\n",
       "      <td>-0.031189</td>\n",
       "      <td>0.004712</td>\n",
       "      <td>1.000000</td>\n",
       "      <td>-0.477552</td>\n",
       "    </tr>\n",
       "    <tr>\n",
       "      <th>HiringDecision</th>\n",
       "      <td>0.001850</td>\n",
       "      <td>-0.002249</td>\n",
       "      <td>0.236710</td>\n",
       "      <td>0.122494</td>\n",
       "      <td>0.044025</td>\n",
       "      <td>-0.016425</td>\n",
       "      <td>0.146064</td>\n",
       "      <td>0.203668</td>\n",
       "      <td>0.169177</td>\n",
       "      <td>-0.477552</td>\n",
       "      <td>1.000000</td>\n",
       "    </tr>\n",
       "  </tbody>\n",
       "</table>\n",
       "</div>"
      ],
      "text/plain": [
       "                          Age    Gender  EducationLevel  ExperienceYears  \\\n",
       "Age                  1.000000  0.011286        0.032610         0.024780   \n",
       "Gender               0.011286  1.000000        0.009676        -0.028502   \n",
       "EducationLevel       0.032610  0.009676        1.000000        -0.000951   \n",
       "ExperienceYears      0.024780 -0.028502       -0.000951         1.000000   \n",
       "PreviousCompanies   -0.032580 -0.061915        0.007367         0.015784   \n",
       "DistanceFromCompany -0.021553  0.004029        0.021426         0.008645   \n",
       "InterviewScore      -0.025579 -0.020887        0.012807        -0.051701   \n",
       "SkillScore          -0.008068  0.012333       -0.043367         0.006323   \n",
       "PersonalityScore     0.037727  0.023729        0.031115         0.013891   \n",
       "RecruitmentStrategy  0.018064 -0.023753       -0.036923         0.029603   \n",
       "HiringDecision       0.001850 -0.002249        0.236710         0.122494   \n",
       "\n",
       "                     PreviousCompanies  DistanceFromCompany  InterviewScore  \\\n",
       "Age                          -0.032580            -0.021553       -0.025579   \n",
       "Gender                       -0.061915             0.004029       -0.020887   \n",
       "EducationLevel                0.007367             0.021426        0.012807   \n",
       "ExperienceYears               0.015784             0.008645       -0.051701   \n",
       "PreviousCompanies             1.000000             0.009109       -0.008387   \n",
       "DistanceFromCompany           0.009109             1.000000       -0.019557   \n",
       "InterviewScore               -0.008387            -0.019557        1.000000   \n",
       "SkillScore                    0.040883            -0.016834       -0.004887   \n",
       "PersonalityScore             -0.024572             0.004937       -0.027967   \n",
       "RecruitmentStrategy          -0.000466            -0.007587        0.012004   \n",
       "HiringDecision                0.044025            -0.016425        0.146064   \n",
       "\n",
       "                     SkillScore  PersonalityScore  RecruitmentStrategy  \\\n",
       "Age                   -0.008068          0.037727             0.018064   \n",
       "Gender                 0.012333          0.023729            -0.023753   \n",
       "EducationLevel        -0.043367          0.031115            -0.036923   \n",
       "ExperienceYears        0.006323          0.013891             0.029603   \n",
       "PreviousCompanies      0.040883         -0.024572            -0.000466   \n",
       "DistanceFromCompany   -0.016834          0.004937            -0.007587   \n",
       "InterviewScore        -0.004887         -0.027967             0.012004   \n",
       "SkillScore             1.000000         -0.004266            -0.031189   \n",
       "PersonalityScore      -0.004266          1.000000             0.004712   \n",
       "RecruitmentStrategy   -0.031189          0.004712             1.000000   \n",
       "HiringDecision         0.203668          0.169177            -0.477552   \n",
       "\n",
       "                     HiringDecision  \n",
       "Age                        0.001850  \n",
       "Gender                    -0.002249  \n",
       "EducationLevel             0.236710  \n",
       "ExperienceYears            0.122494  \n",
       "PreviousCompanies          0.044025  \n",
       "DistanceFromCompany       -0.016425  \n",
       "InterviewScore             0.146064  \n",
       "SkillScore                 0.203668  \n",
       "PersonalityScore           0.169177  \n",
       "RecruitmentStrategy       -0.477552  \n",
       "HiringDecision             1.000000  "
      ]
     },
     "execution_count": 14,
     "metadata": {},
     "output_type": "execute_result"
    }
   ],
   "source": [
    "df.corr()"
   ]
  },
  {
   "cell_type": "code",
   "execution_count": 15,
   "id": "05038fe5",
   "metadata": {
    "execution": {
     "iopub.execute_input": "2025-03-19T13:13:16.451573Z",
     "iopub.status.busy": "2025-03-19T13:13:16.451372Z",
     "iopub.status.idle": "2025-03-19T13:13:17.042985Z",
     "shell.execute_reply": "2025-03-19T13:13:17.042163Z"
    },
    "papermill": {
     "duration": 0.605241,
     "end_time": "2025-03-19T13:13:17.046129",
     "exception": false,
     "start_time": "2025-03-19T13:13:16.440888",
     "status": "completed"
    },
    "tags": []
   },
   "outputs": [
    {
     "data": {
      "image/png": "[encoded data removed]",
      "text/plain": [
       "<Figure size 1000x800 with 2 Axes>"
      ]
     },
     "metadata": {},
     "output_type": "display_data"
    }
   ],
   "source": [
    "plt.figure(figsize=(10, 8))\n",
    "sns.heatmap(df.corr(), annot=True, cmap='coolwarm', fmt=\".3f\", linewidths=0.5)\n",
    "plt.title('Correlation Heatmap')\n",
    "plt.show()"
   ]
  },
  {
   "cell_type": "code",
   "execution_count": 16,
   "id": "76dc0de9",
   "metadata": {
    "execution": {
     "iopub.execute_input": "2025-03-19T13:13:17.073826Z",
     "iopub.status.busy": "2025-03-19T13:13:17.073575Z",
     "iopub.status.idle": "2025-03-19T13:13:17.361182Z",
     "shell.execute_reply": "2025-03-19T13:13:17.360340Z"
    },
    "papermill": {
     "duration": 0.302367,
     "end_time": "2025-03-19T13:13:17.362779",
     "exception": false,
     "start_time": "2025-03-19T13:13:17.060412",
     "status": "completed"
    },
    "tags": []
   },
   "outputs": [
    {
     "data": {
      "image/png": "[encoded data removed]",
      "text/plain": [
       "<Figure size 2000x1000 with 1 Axes>"
      ]
     },
     "metadata": {},
     "output_type": "display_data"
    }
   ],
   "source": [
    "plt.figure(figsize=(20, 10))\n",
    "df.boxplot()\n",
    "plt.show()"
   ]
  },
  {
   "cell_type": "code",
   "execution_count": 17,
   "id": "86b740f3",
   "metadata": {
    "execution": {
     "iopub.execute_input": "2025-03-19T13:13:17.390497Z",
     "iopub.status.busy": "2025-03-19T13:13:17.390245Z",
     "iopub.status.idle": "2025-03-19T13:13:17.397401Z",
     "shell.execute_reply": "2025-03-19T13:13:17.396574Z"
    },
    "papermill": {
     "duration": 0.022018,
     "end_time": "2025-03-19T13:13:17.398528",
     "exception": false,
     "start_time": "2025-03-19T13:13:17.376510",
     "status": "completed"
    },
    "tags": []
   },
   "outputs": [
    {
     "name": "stdout",
     "output_type": "stream",
     "text": [
      "Age------------31\n",
      "Gender------------2\n",
      "EducationLevel------------4\n",
      "ExperienceYears------------16\n",
      "PreviousCompanies------------5\n",
      "DistanceFromCompany------------51\n",
      "InterviewScore------------101\n",
      "SkillScore------------101\n",
      "PersonalityScore------------101\n",
      "RecruitmentStrategy------------3\n",
      "HiringDecision------------2\n"
     ]
    }
   ],
   "source": [
    "for col in df.columns:\n",
    "    print(f\"{col}------------{df[col].nunique()}\")"
   ]
  },
  {
   "cell_type": "code",
   "execution_count": 18,
   "id": "b09519e5",
   "metadata": {
    "execution": {
     "iopub.execute_input": "2025-03-19T13:13:17.425330Z",
     "iopub.status.busy": "2025-03-19T13:13:17.425102Z",
     "iopub.status.idle": "2025-03-19T13:13:17.430240Z",
     "shell.execute_reply": "2025-03-19T13:13:17.429485Z"
    },
    "papermill": {
     "duration": 0.019979,
     "end_time": "2025-03-19T13:13:17.431440",
     "exception": false,
     "start_time": "2025-03-19T13:13:17.411461",
     "status": "completed"
    },
    "tags": []
   },
   "outputs": [
    {
     "data": {
      "text/plain": [
       "HiringDecision\n",
       "0    1035\n",
       "1     465\n",
       "Name: count, dtype: int64"
      ]
     },
     "execution_count": 18,
     "metadata": {},
     "output_type": "execute_result"
    }
   ],
   "source": [
    "df['HiringDecision'].value_counts()"
   ]
  },
  {
   "cell_type": "code",
   "execution_count": 19,
   "id": "138dae99",
   "metadata": {
    "execution": {
     "iopub.execute_input": "2025-03-19T13:13:17.458687Z",
     "iopub.status.busy": "2025-03-19T13:13:17.458464Z",
     "iopub.status.idle": "2025-03-19T13:13:17.463459Z",
     "shell.execute_reply": "2025-03-19T13:13:17.462826Z"
    },
    "papermill": {
     "duration": 0.019995,
     "end_time": "2025-03-19T13:13:17.464564",
     "exception": false,
     "start_time": "2025-03-19T13:13:17.444569",
     "status": "completed"
    },
    "tags": []
   },
   "outputs": [
    {
     "data": {
      "text/plain": [
       "RecruitmentStrategy\n",
       "2    770\n",
       "1    445\n",
       "3    285\n",
       "Name: count, dtype: int64"
      ]
     },
     "execution_count": 19,
     "metadata": {},
     "output_type": "execute_result"
    }
   ],
   "source": [
    "df['RecruitmentStrategy'].value_counts()"
   ]
  },
  {
   "cell_type": "code",
   "execution_count": 20,
   "id": "676bc990",
   "metadata": {
    "execution": {
     "iopub.execute_input": "2025-03-19T13:13:17.491625Z",
     "iopub.status.busy": "2025-03-19T13:13:17.491428Z",
     "iopub.status.idle": "2025-03-19T13:13:17.499069Z",
     "shell.execute_reply": "2025-03-19T13:13:17.498454Z"
    },
    "papermill": {
     "duration": 0.022435,
     "end_time": "2025-03-19T13:13:17.500243",
     "exception": false,
     "start_time": "2025-03-19T13:13:17.477808",
     "status": "completed"
    },
    "tags": []
   },
   "outputs": [
    {
     "data": {
      "text/plain": [
       "RecruitmentStrategy\n",
       "1    71.685393\n",
       "2    13.636364\n",
       "3    14.385965\n",
       "Name: HiringDecision, dtype: float64"
      ]
     },
     "execution_count": 20,
     "metadata": {},
     "output_type": "execute_result"
    }
   ],
   "source": [
    "hired1 = df.groupby('RecruitmentStrategy')['HiringDecision'].mean()*100\n",
    "hired1"
   ]
  },
  {
   "cell_type": "code",
   "execution_count": 21,
   "id": "5d84c278",
   "metadata": {
    "execution": {
     "iopub.execute_input": "2025-03-19T13:13:17.527482Z",
     "iopub.status.busy": "2025-03-19T13:13:17.527277Z",
     "iopub.status.idle": "2025-03-19T13:13:17.533817Z",
     "shell.execute_reply": "2025-03-19T13:13:17.533132Z"
    },
    "papermill": {
     "duration": 0.02137,
     "end_time": "2025-03-19T13:13:17.534927",
     "exception": false,
     "start_time": "2025-03-19T13:13:17.513557",
     "status": "completed"
    },
    "tags": []
   },
   "outputs": [
    {
     "data": {
      "text/plain": [
       "RecruitmentStrategy\n",
       "1    28.314607\n",
       "2    86.363636\n",
       "3    85.614035\n",
       "Name: HiringDecision, dtype: float64"
      ]
     },
     "execution_count": 21,
     "metadata": {},
     "output_type": "execute_result"
    }
   ],
   "source": [
    "# Not hired candidates\n",
    "not_hired = df.groupby('RecruitmentStrategy')['HiringDecision'].apply(lambda x: (x == 0).mean() * 100)\n",
    "not_hired"
   ]
  },
  {
   "cell_type": "code",
   "execution_count": 22,
   "id": "9fcae617",
   "metadata": {
    "execution": {
     "iopub.execute_input": "2025-03-19T13:13:17.562334Z",
     "iopub.status.busy": "2025-03-19T13:13:17.562140Z",
     "iopub.status.idle": "2025-03-19T13:13:17.710225Z",
     "shell.execute_reply": "2025-03-19T13:13:17.709403Z"
    },
    "papermill": {
     "duration": 0.163043,
     "end_time": "2025-03-19T13:13:17.711478",
     "exception": false,
     "start_time": "2025-03-19T13:13:17.548435",
     "status": "completed"
    },
    "tags": []
   },
   "outputs": [
    {
     "data": {
      "image/png": "[encoded data removed]",
      "text/plain": [
       "<Figure size 800x600 with 1 Axes>"
      ]
     },
     "metadata": {},
     "output_type": "display_data"
    }
   ],
   "source": [
    "plt.figure(figsize=(8, 6))\n",
    "sns.barplot(x=hired1.index, y=hired1.values)\n",
    "plt.xlabel('Recruitment Strategy')\n",
    "plt.ylabel('Percentage of Hired Candidates')\n",
    "plt.title('Percentage of Hired Candidates by Recruitment Strategy')\n",
    "plt.show()"
   ]
  },
  {
   "cell_type": "code",
   "execution_count": 23,
   "id": "10919774",
   "metadata": {
    "execution": {
     "iopub.execute_input": "2025-03-19T13:13:17.739736Z",
     "iopub.status.busy": "2025-03-19T13:13:17.739530Z",
     "iopub.status.idle": "2025-03-19T13:13:17.939539Z",
     "shell.execute_reply": "2025-03-19T13:13:17.938890Z"
    },
    "papermill": {
     "duration": 0.215549,
     "end_time": "2025-03-19T13:13:17.940946",
     "exception": false,
     "start_time": "2025-03-19T13:13:17.725397",
     "status": "completed"
    },
    "tags": []
   },
   "outputs": [
    {
     "data": {
      "image/png": "[encoded data removed]",
      "text/plain": [
       "<Figure size 800x600 with 1 Axes>"
      ]
     },
     "metadata": {},
     "output_type": "display_data"
    }
   ],
   "source": [
    "plt.figure(figsize=(8, 6))\n",
    "sns.barplot(x=not_hired.index, y=not_hired.values)\n",
    "plt.xlabel('Recruitment Strategy')\n",
    "plt.ylabel('Percentage of  Not Hired Candidates')\n",
    "plt.title('Not Hired Candidates by Recruitment Strategy')\n",
    "plt.show()"
   ]
  },
  {
   "cell_type": "code",
   "execution_count": 24,
   "id": "44f777dd",
   "metadata": {
    "execution": {
     "iopub.execute_input": "2025-03-19T13:13:17.970906Z",
     "iopub.status.busy": "2025-03-19T13:13:17.970688Z",
     "iopub.status.idle": "2025-03-19T13:13:18.268291Z",
     "shell.execute_reply": "2025-03-19T13:13:18.267530Z"
    },
    "papermill": {
     "duration": 0.313673,
     "end_time": "2025-03-19T13:13:18.269653",
     "exception": false,
     "start_time": "2025-03-19T13:13:17.955980",
     "status": "completed"
    },
    "tags": []
   },
   "outputs": [
    {
     "data": {
      "image/png": "[encoded data removed]",
      "text/plain": [
       "<Figure size 640x480 with 1 Axes>"
      ]
     },
     "metadata": {},
     "output_type": "display_data"
    }
   ],
   "source": [
    "sns.boxplot(x='RecruitmentStrategy', y='InterviewScore', hue='HiringDecision', data=df)\n",
    "plt.title('Interview Score by Recruitment Strategy and Hiring Decision')\n",
    "plt.xlabel('Recruitment Strategy')\n",
    "plt.ylabel('Interview Score')\n",
    "plt.show()"
   ]
  },
  {
   "cell_type": "code",
   "execution_count": 25,
   "id": "eceea0df",
   "metadata": {
    "execution": {
     "iopub.execute_input": "2025-03-19T13:13:18.301806Z",
     "iopub.status.busy": "2025-03-19T13:13:18.301545Z",
     "iopub.status.idle": "2025-03-19T13:13:18.498946Z",
     "shell.execute_reply": "2025-03-19T13:13:18.498171Z"
    },
    "papermill": {
     "duration": 0.214931,
     "end_time": "2025-03-19T13:13:18.500361",
     "exception": false,
     "start_time": "2025-03-19T13:13:18.285430",
     "status": "completed"
    },
    "tags": []
   },
   "outputs": [
    {
     "data": {
      "image/png": "[encoded data removed]",
      "text/plain": [
       "<Figure size 640x480 with 1 Axes>"
      ]
     },
     "metadata": {},
     "output_type": "display_data"
    }
   ],
   "source": [
    "sns.histplot(df['Age'], bins=20, kde=True)\n",
    "plt.show()"
   ]
  },
  {
   "cell_type": "code",
   "execution_count": 26,
   "id": "6a274b64",
   "metadata": {
    "execution": {
     "iopub.execute_input": "2025-03-19T13:13:18.532513Z",
     "iopub.status.busy": "2025-03-19T13:13:18.532274Z",
     "iopub.status.idle": "2025-03-19T13:13:18.693292Z",
     "shell.execute_reply": "2025-03-19T13:13:18.692437Z"
    },
    "papermill": {
     "duration": 0.178412,
     "end_time": "2025-03-19T13:13:18.694783",
     "exception": false,
     "start_time": "2025-03-19T13:13:18.516371",
     "status": "completed"
    },
    "tags": []
   },
   "outputs": [
    {
     "data": {
      "image/png": "[encoded data removed]",
      "text/plain": [
       "<Figure size 640x480 with 1 Axes>"
      ]
     },
     "metadata": {},
     "output_type": "display_data"
    }
   ],
   "source": [
    "sns.histplot(df['DistanceFromCompany'],bins=20, kde=True)\n",
    "plt.show()"
   ]
  },
  {
   "cell_type": "code",
   "execution_count": 27,
   "id": "0fa72b66",
   "metadata": {
    "execution": {
     "iopub.execute_input": "2025-03-19T13:13:18.727987Z",
     "iopub.status.busy": "2025-03-19T13:13:18.727763Z",
     "iopub.status.idle": "2025-03-19T13:13:18.929309Z",
     "shell.execute_reply": "2025-03-19T13:13:18.928414Z"
    },
    "papermill": {
     "duration": 0.219273,
     "end_time": "2025-03-19T13:13:18.930608",
     "exception": false,
     "start_time": "2025-03-19T13:13:18.711335",
     "status": "completed"
    },
    "tags": []
   },
   "outputs": [
    {
     "data": {
      "image/png": "[encoded data removed]",
      "text/plain": [
       "<Figure size 1000x600 with 1 Axes>"
      ]
     },
     "metadata": {},
     "output_type": "display_data"
    }
   ],
   "source": [
    "plt.figure(figsize=(10,6))\n",
    "sns.boxplot(x='HiringDecision', y='ExperienceYears', hue='HiringDecision',data=df)\n",
    "plt.title(\"ExperienceYears by Hiring Decision\")\n",
    "plt.show()"
   ]
  },
  {
   "cell_type": "code",
   "execution_count": 28,
   "id": "22110083",
   "metadata": {
    "execution": {
     "iopub.execute_input": "2025-03-19T13:13:18.963810Z",
     "iopub.status.busy": "2025-03-19T13:13:18.963584Z",
     "iopub.status.idle": "2025-03-19T13:13:18.968990Z",
     "shell.execute_reply": "2025-03-19T13:13:18.968225Z"
    },
    "papermill": {
     "duration": 0.02337,
     "end_time": "2025-03-19T13:13:18.970344",
     "exception": false,
     "start_time": "2025-03-19T13:13:18.946974",
     "status": "completed"
    },
    "tags": []
   },
   "outputs": [
    {
     "data": {
      "text/plain": [
       "HiringDecision\n",
       "0    1035\n",
       "1     465\n",
       "Name: count, dtype: int64"
      ]
     },
     "execution_count": 28,
     "metadata": {},
     "output_type": "execute_result"
    }
   ],
   "source": [
    "df['HiringDecision'].value_counts()"
   ]
  },
  {
   "cell_type": "code",
   "execution_count": 29,
   "id": "ccce75fa",
   "metadata": {
    "execution": {
     "iopub.execute_input": "2025-03-19T13:13:19.002838Z",
     "iopub.status.busy": "2025-03-19T13:13:19.002635Z",
     "iopub.status.idle": "2025-03-19T13:13:19.145307Z",
     "shell.execute_reply": "2025-03-19T13:13:19.144480Z"
    },
    "papermill": {
     "duration": 0.160319,
     "end_time": "2025-03-19T13:13:19.146578",
     "exception": false,
     "start_time": "2025-03-19T13:13:18.986259",
     "status": "completed"
    },
    "tags": []
   },
   "outputs": [
    {
     "data": {
      "image/png": "[encoded data removed]",
      "text/plain": [
       "<Figure size 640x480 with 1 Axes>"
      ]
     },
     "metadata": {},
     "output_type": "display_data"
    }
   ],
   "source": [
    "sns.countplot(x='Gender', hue='HiringDecision', data=df)\n",
    "plt.title(\"Gender Distribution by Hiring Decision\")\n",
    "plt.show()"
   ]
  },
  {
   "cell_type": "code",
   "execution_count": 30,
   "id": "f5d73f9c",
   "metadata": {
    "execution": {
     "iopub.execute_input": "2025-03-19T13:13:19.180532Z",
     "iopub.status.busy": "2025-03-19T13:13:19.180316Z",
     "iopub.status.idle": "2025-03-19T13:13:19.426274Z",
     "shell.execute_reply": "2025-03-19T13:13:19.425413Z"
    },
    "papermill": {
     "duration": 0.264124,
     "end_time": "2025-03-19T13:13:19.427600",
     "exception": false,
     "start_time": "2025-03-19T13:13:19.163476",
     "status": "completed"
    },
    "tags": []
   },
   "outputs": [
    {
     "data": {
      "image/png": "[encoded data removed]",
      "text/plain": [
       "<Figure size 640x480 with 1 Axes>"
      ]
     },
     "metadata": {},
     "output_type": "display_data"
    }
   ],
   "source": [
    "experience_hiring = df.groupby('ExperienceYears')['HiringDecision'].value_counts().unstack()\n",
    "experience_hiring.plot(kind='bar', stacked=True)\n",
    "plt.title('Hiring Decision by Experience Levels')\n",
    "plt.xlabel('Experience Years')\n",
    "plt.ylabel('Percentage')\n",
    "plt.show()"
   ]
  },
  {
   "cell_type": "code",
   "execution_count": 31,
   "id": "41a86131",
   "metadata": {
    "execution": {
     "iopub.execute_input": "2025-03-19T13:13:19.462816Z",
     "iopub.status.busy": "2025-03-19T13:13:19.462581Z",
     "iopub.status.idle": "2025-03-19T13:13:19.605614Z",
     "shell.execute_reply": "2025-03-19T13:13:19.604861Z"
    },
    "papermill": {
     "duration": 0.1618,
     "end_time": "2025-03-19T13:13:19.606961",
     "exception": false,
     "start_time": "2025-03-19T13:13:19.445161",
     "status": "completed"
    },
    "tags": []
   },
   "outputs": [
    {
     "data": {
      "image/png": "[encoded data removed]",
      "text/plain": [
       "<Figure size 640x480 with 1 Axes>"
      ]
     },
     "metadata": {},
     "output_type": "display_data"
    }
   ],
   "source": [
    "sns.boxplot(x='HiringDecision', y='SkillScore', data=df)\n",
    "plt.title('Distribution of SkillScore by HiringDecision')\n",
    "plt.xlabel('Hiring Decision (0: Not Hired, 1: Hired)')\n",
    "plt.ylabel('Skill Score')\n",
    "plt.show()\n"
   ]
  },
  {
   "cell_type": "code",
   "execution_count": 32,
   "id": "0d7f0f48",
   "metadata": {
    "execution": {
     "iopub.execute_input": "2025-03-19T13:13:19.642863Z",
     "iopub.status.busy": "2025-03-19T13:13:19.642617Z",
     "iopub.status.idle": "2025-03-19T13:13:20.155409Z",
     "shell.execute_reply": "2025-03-19T13:13:20.154496Z"
    },
    "papermill": {
     "duration": 0.532553,
     "end_time": "2025-03-19T13:13:20.157446",
     "exception": false,
     "start_time": "2025-03-19T13:13:19.624893",
     "status": "completed"
    },
    "tags": []
   },
   "outputs": [
    {
     "data": {
      "image/png": "[encoded data removed]",
      "text/plain": [
       "<Figure size 1800x600 with 4 Axes>"
      ]
     },
     "metadata": {},
     "output_type": "display_data"
    }
   ],
   "source": [
    "fig, axes = plt.subplots(1, 4, figsize=(18, 6))\n",
    "sns.kdeplot(df['InterviewScore'], fill=True, label='Interview Score', ax=axes[0])\n",
    "sns.kdeplot(df['SkillScore'], fill=True, label='Skill Score', ax=axes[1])\n",
    "sns.kdeplot(df['ExperienceYears'], fill=True, label='Experience Years', ax=axes[2])\n",
    "sns.kdeplot(df['PersonalityScore'], fill=True, label='Personality Score', ax=axes[3])\n",
    "plt.show()"
   ]
  },
  {
   "cell_type": "code",
   "execution_count": 33,
   "id": "3b97e345",
   "metadata": {
    "execution": {
     "iopub.execute_input": "2025-03-19T13:13:20.197162Z",
     "iopub.status.busy": "2025-03-19T13:13:20.196887Z",
     "iopub.status.idle": "2025-03-19T13:13:20.206322Z",
     "shell.execute_reply": "2025-03-19T13:13:20.205574Z"
    },
    "papermill": {
     "duration": 0.030506,
     "end_time": "2025-03-19T13:13:20.207527",
     "exception": false,
     "start_time": "2025-03-19T13:13:20.177021",
     "status": "completed"
    },
    "tags": []
   },
   "outputs": [
    {
     "data": {
      "text/html": [
       "<div>\n",
       "<style scoped>\n",
       "    .dataframe tbody tr th:only-of-type {\n",
       "        vertical-align: middle;\n",
       "    }\n",
       "\n",
       "    .dataframe tbody tr th {\n",
       "        vertical-align: top;\n",
       "    }\n",
       "\n",
       "    .dataframe thead th {\n",
       "        text-align: right;\n",
       "    }\n",
       "</style>\n",
       "<table border=\"1\" class=\"dataframe\">\n",
       "  <thead>\n",
       "    <tr style=\"text-align: right;\">\n",
       "      <th></th>\n",
       "      <th>Age</th>\n",
       "      <th>Gender</th>\n",
       "      <th>EducationLevel</th>\n",
       "      <th>ExperienceYears</th>\n",
       "      <th>PreviousCompanies</th>\n",
       "      <th>DistanceFromCompany</th>\n",
       "      <th>InterviewScore</th>\n",
       "      <th>SkillScore</th>\n",
       "      <th>PersonalityScore</th>\n",
       "      <th>RecruitmentStrategy</th>\n",
       "      <th>HiringDecision</th>\n",
       "    </tr>\n",
       "  </thead>\n",
       "  <tbody>\n",
       "    <tr>\n",
       "      <th>0</th>\n",
       "      <td>26</td>\n",
       "      <td>1</td>\n",
       "      <td>2</td>\n",
       "      <td>0</td>\n",
       "      <td>3</td>\n",
       "      <td>27</td>\n",
       "      <td>48</td>\n",
       "      <td>78</td>\n",
       "      <td>91</td>\n",
       "      <td>1</td>\n",
       "      <td>1</td>\n",
       "    </tr>\n",
       "    <tr>\n",
       "      <th>1</th>\n",
       "      <td>39</td>\n",
       "      <td>1</td>\n",
       "      <td>4</td>\n",
       "      <td>12</td>\n",
       "      <td>3</td>\n",
       "      <td>26</td>\n",
       "      <td>35</td>\n",
       "      <td>68</td>\n",
       "      <td>80</td>\n",
       "      <td>2</td>\n",
       "      <td>1</td>\n",
       "    </tr>\n",
       "    <tr>\n",
       "      <th>2</th>\n",
       "      <td>48</td>\n",
       "      <td>0</td>\n",
       "      <td>2</td>\n",
       "      <td>3</td>\n",
       "      <td>2</td>\n",
       "      <td>10</td>\n",
       "      <td>20</td>\n",
       "      <td>67</td>\n",
       "      <td>13</td>\n",
       "      <td>2</td>\n",
       "      <td>0</td>\n",
       "    </tr>\n",
       "    <tr>\n",
       "      <th>3</th>\n",
       "      <td>34</td>\n",
       "      <td>1</td>\n",
       "      <td>2</td>\n",
       "      <td>5</td>\n",
       "      <td>2</td>\n",
       "      <td>6</td>\n",
       "      <td>36</td>\n",
       "      <td>27</td>\n",
       "      <td>70</td>\n",
       "      <td>3</td>\n",
       "      <td>0</td>\n",
       "    </tr>\n",
       "    <tr>\n",
       "      <th>4</th>\n",
       "      <td>30</td>\n",
       "      <td>0</td>\n",
       "      <td>1</td>\n",
       "      <td>6</td>\n",
       "      <td>1</td>\n",
       "      <td>43</td>\n",
       "      <td>23</td>\n",
       "      <td>52</td>\n",
       "      <td>85</td>\n",
       "      <td>2</td>\n",
       "      <td>0</td>\n",
       "    </tr>\n",
       "    <tr>\n",
       "      <th>5</th>\n",
       "      <td>27</td>\n",
       "      <td>0</td>\n",
       "      <td>3</td>\n",
       "      <td>14</td>\n",
       "      <td>4</td>\n",
       "      <td>32</td>\n",
       "      <td>54</td>\n",
       "      <td>50</td>\n",
       "      <td>50</td>\n",
       "      <td>1</td>\n",
       "      <td>1</td>\n",
       "    </tr>\n",
       "    <tr>\n",
       "      <th>6</th>\n",
       "      <td>48</td>\n",
       "      <td>0</td>\n",
       "      <td>2</td>\n",
       "      <td>6</td>\n",
       "      <td>1</td>\n",
       "      <td>17</td>\n",
       "      <td>24</td>\n",
       "      <td>52</td>\n",
       "      <td>64</td>\n",
       "      <td>3</td>\n",
       "      <td>0</td>\n",
       "    </tr>\n",
       "    <tr>\n",
       "      <th>7</th>\n",
       "      <td>40</td>\n",
       "      <td>0</td>\n",
       "      <td>4</td>\n",
       "      <td>13</td>\n",
       "      <td>3</td>\n",
       "      <td>11</td>\n",
       "      <td>6</td>\n",
       "      <td>3</td>\n",
       "      <td>92</td>\n",
       "      <td>3</td>\n",
       "      <td>0</td>\n",
       "    </tr>\n",
       "    <tr>\n",
       "      <th>8</th>\n",
       "      <td>26</td>\n",
       "      <td>1</td>\n",
       "      <td>3</td>\n",
       "      <td>6</td>\n",
       "      <td>5</td>\n",
       "      <td>29</td>\n",
       "      <td>80</td>\n",
       "      <td>78</td>\n",
       "      <td>51</td>\n",
       "      <td>1</td>\n",
       "      <td>1</td>\n",
       "    </tr>\n",
       "    <tr>\n",
       "      <th>9</th>\n",
       "      <td>45</td>\n",
       "      <td>1</td>\n",
       "      <td>2</td>\n",
       "      <td>2</td>\n",
       "      <td>5</td>\n",
       "      <td>30</td>\n",
       "      <td>92</td>\n",
       "      <td>16</td>\n",
       "      <td>94</td>\n",
       "      <td>3</td>\n",
       "      <td>0</td>\n",
       "    </tr>\n",
       "  </tbody>\n",
       "</table>\n",
       "</div>"
      ],
      "text/plain": [
       "   Age  Gender  EducationLevel  ExperienceYears  PreviousCompanies  \\\n",
       "0   26       1               2                0                  3   \n",
       "1   39       1               4               12                  3   \n",
       "2   48       0               2                3                  2   \n",
       "3   34       1               2                5                  2   \n",
       "4   30       0               1                6                  1   \n",
       "5   27       0               3               14                  4   \n",
       "6   48       0               2                6                  1   \n",
       "7   40       0               4               13                  3   \n",
       "8   26       1               3                6                  5   \n",
       "9   45       1               2                2                  5   \n",
       "\n",
       "   DistanceFromCompany  InterviewScore  SkillScore  PersonalityScore  \\\n",
       "0                   27              48          78                91   \n",
       "1                   26              35          68                80   \n",
       "2                   10              20          67                13   \n",
       "3                    6              36          27                70   \n",
       "4                   43              23          52                85   \n",
       "5                   32              54          50                50   \n",
       "6                   17              24          52                64   \n",
       "7                   11               6           3                92   \n",
       "8                   29              80          78                51   \n",
       "9                   30              92          16                94   \n",
       "\n",
       "   RecruitmentStrategy  HiringDecision  \n",
       "0                    1               1  \n",
       "1                    2               1  \n",
       "2                    2               0  \n",
       "3                    3               0  \n",
       "4                    2               0  \n",
       "5                    1               1  \n",
       "6                    3               0  \n",
       "7                    3               0  \n",
       "8                    1               1  \n",
       "9                    3               0  "
      ]
     },
     "execution_count": 33,
     "metadata": {},
     "output_type": "execute_result"
    }
   ],
   "source": [
    "df.head(10)"
   ]
  },
  {
   "cell_type": "code",
   "execution_count": 34,
   "id": "c248414a",
   "metadata": {
    "execution": {
     "iopub.execute_input": "2025-03-19T13:13:20.246042Z",
     "iopub.status.busy": "2025-03-19T13:13:20.245841Z",
     "iopub.status.idle": "2025-03-19T13:13:20.412974Z",
     "shell.execute_reply": "2025-03-19T13:13:20.412155Z"
    },
    "papermill": {
     "duration": 0.187708,
     "end_time": "2025-03-19T13:13:20.414318",
     "exception": false,
     "start_time": "2025-03-19T13:13:20.226610",
     "status": "completed"
    },
    "tags": []
   },
   "outputs": [
    {
     "data": {
      "text/html": [
       "<div>\n",
       "<style scoped>\n",
       "    .dataframe tbody tr th:only-of-type {\n",
       "        vertical-align: middle;\n",
       "    }\n",
       "\n",
       "    .dataframe tbody tr th {\n",
       "        vertical-align: top;\n",
       "    }\n",
       "\n",
       "    .dataframe thead th {\n",
       "        text-align: right;\n",
       "    }\n",
       "</style>\n",
       "<table border=\"1\" class=\"dataframe\">\n",
       "  <thead>\n",
       "    <tr style=\"text-align: right;\">\n",
       "      <th></th>\n",
       "      <th>Age</th>\n",
       "      <th>Gender</th>\n",
       "      <th>ExperienceYears</th>\n",
       "      <th>PreviousCompanies</th>\n",
       "      <th>DistanceFromCompany</th>\n",
       "      <th>InterviewScore</th>\n",
       "      <th>SkillScore</th>\n",
       "      <th>PersonalityScore</th>\n",
       "      <th>HiringDecision</th>\n",
       "      <th>EducationLevel_2</th>\n",
       "      <th>EducationLevel_3</th>\n",
       "      <th>EducationLevel_4</th>\n",
       "      <th>RecruitmentStrategy_1</th>\n",
       "      <th>RecruitmentStrategy_2</th>\n",
       "      <th>RecruitmentStrategy_3</th>\n",
       "    </tr>\n",
       "  </thead>\n",
       "  <tbody>\n",
       "    <tr>\n",
       "      <th>0</th>\n",
       "      <td>-0.989083</td>\n",
       "      <td>1</td>\n",
       "      <td>-1.658237</td>\n",
       "      <td>-0.001418</td>\n",
       "      <td>0.103129</td>\n",
       "      <td>-0.089598</td>\n",
       "      <td>0.916174</td>\n",
       "      <td>1.418126</td>\n",
       "      <td>1</td>\n",
       "      <td>True</td>\n",
       "      <td>False</td>\n",
       "      <td>False</td>\n",
       "      <td>True</td>\n",
       "      <td>False</td>\n",
       "      <td>False</td>\n",
       "    </tr>\n",
       "    <tr>\n",
       "      <th>1</th>\n",
       "      <td>0.416376</td>\n",
       "      <td>1</td>\n",
       "      <td>0.928044</td>\n",
       "      <td>-0.001418</td>\n",
       "      <td>0.034438</td>\n",
       "      <td>-0.543879</td>\n",
       "      <td>0.575386</td>\n",
       "      <td>1.043255</td>\n",
       "      <td>1</td>\n",
       "      <td>False</td>\n",
       "      <td>False</td>\n",
       "      <td>True</td>\n",
       "      <td>False</td>\n",
       "      <td>True</td>\n",
       "      <td>False</td>\n",
       "    </tr>\n",
       "    <tr>\n",
       "      <th>2</th>\n",
       "      <td>1.389387</td>\n",
       "      <td>0</td>\n",
       "      <td>-1.011667</td>\n",
       "      <td>-0.710538</td>\n",
       "      <td>-1.064632</td>\n",
       "      <td>-1.068049</td>\n",
       "      <td>0.541307</td>\n",
       "      <td>-1.240051</td>\n",
       "      <td>0</td>\n",
       "      <td>True</td>\n",
       "      <td>False</td>\n",
       "      <td>False</td>\n",
       "      <td>False</td>\n",
       "      <td>True</td>\n",
       "      <td>False</td>\n",
       "    </tr>\n",
       "    <tr>\n",
       "      <th>3</th>\n",
       "      <td>-0.124185</td>\n",
       "      <td>1</td>\n",
       "      <td>-0.580620</td>\n",
       "      <td>-0.710538</td>\n",
       "      <td>-1.339399</td>\n",
       "      <td>-0.508934</td>\n",
       "      <td>-0.821844</td>\n",
       "      <td>0.702463</td>\n",
       "      <td>0</td>\n",
       "      <td>True</td>\n",
       "      <td>False</td>\n",
       "      <td>False</td>\n",
       "      <td>False</td>\n",
       "      <td>False</td>\n",
       "      <td>True</td>\n",
       "    </tr>\n",
       "    <tr>\n",
       "      <th>4</th>\n",
       "      <td>-0.556634</td>\n",
       "      <td>0</td>\n",
       "      <td>-0.365097</td>\n",
       "      <td>-1.419657</td>\n",
       "      <td>1.202199</td>\n",
       "      <td>-0.963215</td>\n",
       "      <td>0.030126</td>\n",
       "      <td>1.213651</td>\n",
       "      <td>0</td>\n",
       "      <td>False</td>\n",
       "      <td>False</td>\n",
       "      <td>False</td>\n",
       "      <td>False</td>\n",
       "      <td>True</td>\n",
       "      <td>False</td>\n",
       "    </tr>\n",
       "  </tbody>\n",
       "</table>\n",
       "</div>"
      ],
      "text/plain": [
       "        Age  Gender  ExperienceYears  PreviousCompanies  DistanceFromCompany  \\\n",
       "0 -0.989083       1        -1.658237          -0.001418             0.103129   \n",
       "1  0.416376       1         0.928044          -0.001418             0.034438   \n",
       "2  1.389387       0        -1.011667          -0.710538            -1.064632   \n",
       "3 -0.124185       1        -0.580620          -0.710538            -1.339399   \n",
       "4 -0.556634       0        -0.365097          -1.419657             1.202199   \n",
       "\n",
       "   InterviewScore  SkillScore  PersonalityScore  HiringDecision  \\\n",
       "0       -0.089598    0.916174          1.418126               1   \n",
       "1       -0.543879    0.575386          1.043255               1   \n",
       "2       -1.068049    0.541307         -1.240051               0   \n",
       "3       -0.508934   -0.821844          0.702463               0   \n",
       "4       -0.963215    0.030126          1.213651               0   \n",
       "\n",
       "   EducationLevel_2  EducationLevel_3  EducationLevel_4  \\\n",
       "0              True             False             False   \n",
       "1             False             False              True   \n",
       "2              True             False             False   \n",
       "3              True             False             False   \n",
       "4             False             False             False   \n",
       "\n",
       "   RecruitmentStrategy_1  RecruitmentStrategy_2  RecruitmentStrategy_3  \n",
       "0                   True                  False                  False  \n",
       "1                  False                   True                  False  \n",
       "2                  False                   True                  False  \n",
       "3                  False                  False                   True  \n",
       "4                  False                   True                  False  "
      ]
     },
     "execution_count": 34,
     "metadata": {},
     "output_type": "execute_result"
    }
   ],
   "source": [
    "from sklearn.preprocessing import StandardScaler,LabelEncoder, MinMaxScaler\n",
    "\n",
    "numerical_features = ['Age', 'ExperienceYears', 'PreviousCompanies', 'DistanceFromCompany', 'InterviewScore', 'SkillScore', 'PersonalityScore']\n",
    "\n",
    "# Standardize the numerical features\n",
    "scaler = StandardScaler()\n",
    "df[numerical_features] = scaler.fit_transform(df[numerical_features])\n",
    "\n",
    "\n",
    "# One-Hot Encode the column\n",
    "df = pd.get_dummies(df, columns=['EducationLevel'], drop_first=True)\n",
    "df = pd.get_dummies(df, columns=['RecruitmentStrategy'], drop_first=False)\n",
    "\n",
    "\n",
    "df.head()"
   ]
  },
  {
   "cell_type": "code",
   "execution_count": 35,
   "id": "6c1ddc0a",
   "metadata": {
    "execution": {
     "iopub.execute_input": "2025-03-19T13:13:20.456232Z",
     "iopub.status.busy": "2025-03-19T13:13:20.455869Z",
     "iopub.status.idle": "2025-03-19T13:13:20.461904Z",
     "shell.execute_reply": "2025-03-19T13:13:20.461044Z"
    },
    "papermill": {
     "duration": 0.029001,
     "end_time": "2025-03-19T13:13:20.463210",
     "exception": false,
     "start_time": "2025-03-19T13:13:20.434209",
     "status": "completed"
    },
    "tags": []
   },
   "outputs": [
    {
     "data": {
      "text/plain": [
       "HiringDecision\n",
       "0    1035\n",
       "1     465\n",
       "Name: count, dtype: int64"
      ]
     },
     "execution_count": 35,
     "metadata": {},
     "output_type": "execute_result"
    }
   ],
   "source": [
    "df['HiringDecision'].value_counts()"
   ]
  },
  {
   "cell_type": "code",
   "execution_count": 36,
   "id": "56a8c8ab",
   "metadata": {
    "execution": {
     "iopub.execute_input": "2025-03-19T13:13:20.540708Z",
     "iopub.status.busy": "2025-03-19T13:13:20.540440Z",
     "iopub.status.idle": "2025-03-19T13:13:20.543651Z",
     "shell.execute_reply": "2025-03-19T13:13:20.542921Z"
    },
    "papermill": {
     "duration": 0.061617,
     "end_time": "2025-03-19T13:13:20.544917",
     "exception": false,
     "start_time": "2025-03-19T13:13:20.483300",
     "status": "completed"
    },
    "tags": []
   },
   "outputs": [],
   "source": [
    "# pip install imbalanced-learn"
   ]
  },
  {
   "cell_type": "code",
   "execution_count": 37,
   "id": "b130b753",
   "metadata": {
    "execution": {
     "iopub.execute_input": "2025-03-19T13:13:20.584020Z",
     "iopub.status.busy": "2025-03-19T13:13:20.583799Z",
     "iopub.status.idle": "2025-03-19T13:13:20.586806Z",
     "shell.execute_reply": "2025-03-19T13:13:20.586088Z"
    },
    "papermill": {
     "duration": 0.023654,
     "end_time": "2025-03-19T13:13:20.587958",
     "exception": false,
     "start_time": "2025-03-19T13:13:20.564304",
     "status": "completed"
    },
    "tags": []
   },
   "outputs": [],
   "source": [
    "# from imblearn.over_sampling import SMOTE\n",
    "\n",
    "# # Separate features and target\n",
    "# X = df.drop('HiringDecision', axis=1)\n",
    "# y = df['HiringDecision']\n",
    "\n",
    "# # Apply SMOTE to oversample the minority class\n",
    "# smote = SMOTE(random_state=42)\n",
    "# X_resampled, y_resampled = smote.fit_resample(X, y)\n",
    "\n",
    "# # Check the class distribution after SMOTE\n",
    "# y_resampled.value_counts()\n"
   ]
  },
  {
   "cell_type": "markdown",
   "id": "d4596770",
   "metadata": {
    "papermill": {
     "duration": 0.018592,
     "end_time": "2025-03-19T13:13:20.625234",
     "exception": false,
     "start_time": "2025-03-19T13:13:20.606642",
     "status": "completed"
    },
    "tags": []
   },
   "source": [
    "# Model training"
   ]
  },
  {
   "cell_type": "code",
   "execution_count": 38,
   "id": "b3e26b35",
   "metadata": {
    "execution": {
     "iopub.execute_input": "2025-03-19T13:13:20.663744Z",
     "iopub.status.busy": "2025-03-19T13:13:20.663529Z",
     "iopub.status.idle": "2025-03-19T13:13:24.239522Z",
     "shell.execute_reply": "2025-03-19T13:13:24.238912Z"
    },
    "papermill": {
     "duration": 3.597007,
     "end_time": "2025-03-19T13:13:24.240955",
     "exception": false,
     "start_time": "2025-03-19T13:13:20.643948",
     "status": "completed"
    },
    "tags": []
   },
   "outputs": [],
   "source": [
    "import torch\n",
    "\n",
    "from sklearn.preprocessing import StandardScaler\n",
    "from sklearn.ensemble import RandomForestClassifier\n",
    "from sklearn.model_selection import train_test_split\n",
    "from sklearn.metrics import classification_report, confusion_matrix, roc_auc_score"
   ]
  },
  {
   "cell_type": "code",
   "execution_count": 39,
   "id": "f4799ee5",
   "metadata": {
    "execution": {
     "iopub.execute_input": "2025-03-19T13:13:24.280982Z",
     "iopub.status.busy": "2025-03-19T13:13:24.280548Z",
     "iopub.status.idle": "2025-03-19T13:13:24.287664Z",
     "shell.execute_reply": "2025-03-19T13:13:24.287080Z"
    },
    "papermill": {
     "duration": 0.028014,
     "end_time": "2025-03-19T13:13:24.288851",
     "exception": false,
     "start_time": "2025-03-19T13:13:24.260837",
     "status": "completed"
    },
    "tags": []
   },
   "outputs": [],
   "source": [
    "X = df.drop('HiringDecision', axis=1)\n",
    "y = df['HiringDecision']\n",
    "\n",
    "X_train, X_test, y_train, y_test = train_test_split(X, y, test_size=0.2, random_state=42)"
   ]
  },
  {
   "cell_type": "code",
   "execution_count": 40,
   "id": "56cd92f9",
   "metadata": {
    "execution": {
     "iopub.execute_input": "2025-03-19T13:13:24.327425Z",
     "iopub.status.busy": "2025-03-19T13:13:24.327208Z",
     "iopub.status.idle": "2025-03-19T13:13:24.331696Z",
     "shell.execute_reply": "2025-03-19T13:13:24.331063Z"
    },
    "papermill": {
     "duration": 0.025037,
     "end_time": "2025-03-19T13:13:24.332755",
     "exception": false,
     "start_time": "2025-03-19T13:13:24.307718",
     "status": "completed"
    },
    "tags": []
   },
   "outputs": [
    {
     "data": {
      "text/plain": [
       "(1200, 1200, 300, 300)"
      ]
     },
     "execution_count": 40,
     "metadata": {},
     "output_type": "execute_result"
    }
   ],
   "source": [
    "len(X_train), len(y_train), len(X_test), len(y_test)"
   ]
  },
  {
   "cell_type": "code",
   "execution_count": 41,
   "id": "8f7f8089",
   "metadata": {
    "execution": {
     "iopub.execute_input": "2025-03-19T13:13:24.372319Z",
     "iopub.status.busy": "2025-03-19T13:13:24.372113Z",
     "iopub.status.idle": "2025-03-19T13:13:24.385914Z",
     "shell.execute_reply": "2025-03-19T13:13:24.385146Z"
    },
    "papermill": {
     "duration": 0.035077,
     "end_time": "2025-03-19T13:13:24.387036",
     "exception": false,
     "start_time": "2025-03-19T13:13:24.351959",
     "status": "completed"
    },
    "tags": []
   },
   "outputs": [
    {
     "data": {
      "text/html": [
       "<div>\n",
       "<style scoped>\n",
       "    .dataframe tbody tr th:only-of-type {\n",
       "        vertical-align: middle;\n",
       "    }\n",
       "\n",
       "    .dataframe tbody tr th {\n",
       "        vertical-align: top;\n",
       "    }\n",
       "\n",
       "    .dataframe thead th {\n",
       "        text-align: right;\n",
       "    }\n",
       "</style>\n",
       "<table border=\"1\" class=\"dataframe\">\n",
       "  <thead>\n",
       "    <tr style=\"text-align: right;\">\n",
       "      <th></th>\n",
       "      <th>Age</th>\n",
       "      <th>Gender</th>\n",
       "      <th>ExperienceYears</th>\n",
       "      <th>PreviousCompanies</th>\n",
       "      <th>DistanceFromCompany</th>\n",
       "      <th>InterviewScore</th>\n",
       "      <th>SkillScore</th>\n",
       "      <th>PersonalityScore</th>\n",
       "      <th>EducationLevel_2</th>\n",
       "      <th>EducationLevel_3</th>\n",
       "      <th>EducationLevel_4</th>\n",
       "      <th>RecruitmentStrategy_1</th>\n",
       "      <th>RecruitmentStrategy_2</th>\n",
       "      <th>RecruitmentStrategy_3</th>\n",
       "    </tr>\n",
       "  </thead>\n",
       "  <tbody>\n",
       "    <tr>\n",
       "      <th>382</th>\n",
       "      <td>0.632601</td>\n",
       "      <td>1</td>\n",
       "      <td>-0.796144</td>\n",
       "      <td>-1.419657</td>\n",
       "      <td>0.103129</td>\n",
       "      <td>0.364683</td>\n",
       "      <td>0.984331</td>\n",
       "      <td>0.191275</td>\n",
       "      <td>False</td>\n",
       "      <td>True</td>\n",
       "      <td>False</td>\n",
       "      <td>False</td>\n",
       "      <td>True</td>\n",
       "      <td>False</td>\n",
       "    </tr>\n",
       "    <tr>\n",
       "      <th>538</th>\n",
       "      <td>1.281275</td>\n",
       "      <td>1</td>\n",
       "      <td>-1.011667</td>\n",
       "      <td>-0.001418</td>\n",
       "      <td>-0.171638</td>\n",
       "      <td>0.784018</td>\n",
       "      <td>-0.344741</td>\n",
       "      <td>0.225354</td>\n",
       "      <td>False</td>\n",
       "      <td>True</td>\n",
       "      <td>False</td>\n",
       "      <td>False</td>\n",
       "      <td>True</td>\n",
       "      <td>False</td>\n",
       "    </tr>\n",
       "    <tr>\n",
       "      <th>1493</th>\n",
       "      <td>0.848826</td>\n",
       "      <td>1</td>\n",
       "      <td>1.359091</td>\n",
       "      <td>0.707701</td>\n",
       "      <td>0.034438</td>\n",
       "      <td>-0.299266</td>\n",
       "      <td>-0.515135</td>\n",
       "      <td>0.191275</td>\n",
       "      <td>True</td>\n",
       "      <td>False</td>\n",
       "      <td>False</td>\n",
       "      <td>True</td>\n",
       "      <td>False</td>\n",
       "      <td>False</td>\n",
       "    </tr>\n",
       "    <tr>\n",
       "      <th>1112</th>\n",
       "      <td>-0.664746</td>\n",
       "      <td>0</td>\n",
       "      <td>0.065950</td>\n",
       "      <td>-0.001418</td>\n",
       "      <td>0.103129</td>\n",
       "      <td>1.063576</td>\n",
       "      <td>0.064204</td>\n",
       "      <td>1.043255</td>\n",
       "      <td>True</td>\n",
       "      <td>False</td>\n",
       "      <td>False</td>\n",
       "      <td>False</td>\n",
       "      <td>False</td>\n",
       "      <td>True</td>\n",
       "    </tr>\n",
       "    <tr>\n",
       "      <th>324</th>\n",
       "      <td>1.389387</td>\n",
       "      <td>1</td>\n",
       "      <td>-0.149573</td>\n",
       "      <td>0.707701</td>\n",
       "      <td>-0.789865</td>\n",
       "      <td>-0.788491</td>\n",
       "      <td>0.677622</td>\n",
       "      <td>-0.319913</td>\n",
       "      <td>True</td>\n",
       "      <td>False</td>\n",
       "      <td>False</td>\n",
       "      <td>False</td>\n",
       "      <td>True</td>\n",
       "      <td>False</td>\n",
       "    </tr>\n",
       "    <tr>\n",
       "      <th>...</th>\n",
       "      <td>...</td>\n",
       "      <td>...</td>\n",
       "      <td>...</td>\n",
       "      <td>...</td>\n",
       "      <td>...</td>\n",
       "      <td>...</td>\n",
       "      <td>...</td>\n",
       "      <td>...</td>\n",
       "      <td>...</td>\n",
       "      <td>...</td>\n",
       "      <td>...</td>\n",
       "      <td>...</td>\n",
       "      <td>...</td>\n",
       "      <td>...</td>\n",
       "    </tr>\n",
       "    <tr>\n",
       "      <th>1130</th>\n",
       "      <td>0.956938</td>\n",
       "      <td>0</td>\n",
       "      <td>-0.580620</td>\n",
       "      <td>-0.001418</td>\n",
       "      <td>1.202199</td>\n",
       "      <td>0.714129</td>\n",
       "      <td>-1.469341</td>\n",
       "      <td>-0.183596</td>\n",
       "      <td>True</td>\n",
       "      <td>False</td>\n",
       "      <td>False</td>\n",
       "      <td>True</td>\n",
       "      <td>False</td>\n",
       "      <td>False</td>\n",
       "    </tr>\n",
       "    <tr>\n",
       "      <th>1294</th>\n",
       "      <td>0.740713</td>\n",
       "      <td>1</td>\n",
       "      <td>0.065950</td>\n",
       "      <td>-1.419657</td>\n",
       "      <td>0.171821</td>\n",
       "      <td>1.308188</td>\n",
       "      <td>0.030126</td>\n",
       "      <td>-0.319913</td>\n",
       "      <td>True</td>\n",
       "      <td>False</td>\n",
       "      <td>False</td>\n",
       "      <td>False</td>\n",
       "      <td>True</td>\n",
       "      <td>False</td>\n",
       "    </tr>\n",
       "    <tr>\n",
       "      <th>860</th>\n",
       "      <td>1.281275</td>\n",
       "      <td>0</td>\n",
       "      <td>-0.365097</td>\n",
       "      <td>-0.001418</td>\n",
       "      <td>0.583972</td>\n",
       "      <td>-0.019709</td>\n",
       "      <td>-0.310662</td>\n",
       "      <td>0.191275</td>\n",
       "      <td>True</td>\n",
       "      <td>False</td>\n",
       "      <td>False</td>\n",
       "      <td>False</td>\n",
       "      <td>True</td>\n",
       "      <td>False</td>\n",
       "    </tr>\n",
       "    <tr>\n",
       "      <th>1459</th>\n",
       "      <td>1.389387</td>\n",
       "      <td>0</td>\n",
       "      <td>1.143567</td>\n",
       "      <td>-1.419657</td>\n",
       "      <td>-1.545475</td>\n",
       "      <td>-1.137938</td>\n",
       "      <td>-0.242505</td>\n",
       "      <td>0.634305</td>\n",
       "      <td>True</td>\n",
       "      <td>False</td>\n",
       "      <td>False</td>\n",
       "      <td>False</td>\n",
       "      <td>True</td>\n",
       "      <td>False</td>\n",
       "    </tr>\n",
       "    <tr>\n",
       "      <th>1126</th>\n",
       "      <td>-0.016073</td>\n",
       "      <td>0</td>\n",
       "      <td>0.928044</td>\n",
       "      <td>-0.710538</td>\n",
       "      <td>0.103129</td>\n",
       "      <td>1.308188</td>\n",
       "      <td>0.302756</td>\n",
       "      <td>1.588522</td>\n",
       "      <td>False</td>\n",
       "      <td>False</td>\n",
       "      <td>False</td>\n",
       "      <td>True</td>\n",
       "      <td>False</td>\n",
       "      <td>False</td>\n",
       "    </tr>\n",
       "  </tbody>\n",
       "</table>\n",
       "<p>1200 rows × 14 columns</p>\n",
       "</div>"
      ],
      "text/plain": [
       "           Age  Gender  ExperienceYears  PreviousCompanies  \\\n",
       "382   0.632601       1        -0.796144          -1.419657   \n",
       "538   1.281275       1        -1.011667          -0.001418   \n",
       "1493  0.848826       1         1.359091           0.707701   \n",
       "1112 -0.664746       0         0.065950          -0.001418   \n",
       "324   1.389387       1        -0.149573           0.707701   \n",
       "...        ...     ...              ...                ...   \n",
       "1130  0.956938       0        -0.580620          -0.001418   \n",
       "1294  0.740713       1         0.065950          -1.419657   \n",
       "860   1.281275       0        -0.365097          -0.001418   \n",
       "1459  1.389387       0         1.143567          -1.419657   \n",
       "1126 -0.016073       0         0.928044          -0.710538   \n",
       "\n",
       "      DistanceFromCompany  InterviewScore  SkillScore  PersonalityScore  \\\n",
       "382              0.103129        0.364683    0.984331          0.191275   \n",
       "538             -0.171638        0.784018   -0.344741          0.225354   \n",
       "1493             0.034438       -0.299266   -0.515135          0.191275   \n",
       "1112             0.103129        1.063576    0.064204          1.043255   \n",
       "324             -0.789865       -0.788491    0.677622         -0.319913   \n",
       "...                   ...             ...         ...               ...   \n",
       "1130             1.202199        0.714129   -1.469341         -0.183596   \n",
       "1294             0.171821        1.308188    0.030126         -0.319913   \n",
       "860              0.583972       -0.019709   -0.310662          0.191275   \n",
       "1459            -1.545475       -1.137938   -0.242505          0.634305   \n",
       "1126             0.103129        1.308188    0.302756          1.588522   \n",
       "\n",
       "      EducationLevel_2  EducationLevel_3  EducationLevel_4  \\\n",
       "382              False              True             False   \n",
       "538              False              True             False   \n",
       "1493              True             False             False   \n",
       "1112              True             False             False   \n",
       "324               True             False             False   \n",
       "...                ...               ...               ...   \n",
       "1130              True             False             False   \n",
       "1294              True             False             False   \n",
       "860               True             False             False   \n",
       "1459              True             False             False   \n",
       "1126             False             False             False   \n",
       "\n",
       "      RecruitmentStrategy_1  RecruitmentStrategy_2  RecruitmentStrategy_3  \n",
       "382                   False                   True                  False  \n",
       "538                   False                   True                  False  \n",
       "1493                   True                  False                  False  \n",
       "1112                  False                  False                   True  \n",
       "324                   False                   True                  False  \n",
       "...                     ...                    ...                    ...  \n",
       "1130                   True                  False                  False  \n",
       "1294                  False                   True                  False  \n",
       "860                   False                   True                  False  \n",
       "1459                  False                   True                  False  \n",
       "1126                   True                  False                  False  \n",
       "\n",
       "[1200 rows x 14 columns]"
      ]
     },
     "execution_count": 41,
     "metadata": {},
     "output_type": "execute_result"
    }
   ],
   "source": [
    "X_train"
   ]
  },
  {
   "cell_type": "code",
   "execution_count": 42,
   "id": "67e55f3c",
   "metadata": {
    "execution": {
     "iopub.execute_input": "2025-03-19T13:13:24.428572Z",
     "iopub.status.busy": "2025-03-19T13:13:24.428369Z",
     "iopub.status.idle": "2025-03-19T13:13:24.467720Z",
     "shell.execute_reply": "2025-03-19T13:13:24.466805Z"
    },
    "papermill": {
     "duration": 0.061521,
     "end_time": "2025-03-19T13:13:24.468909",
     "exception": false,
     "start_time": "2025-03-19T13:13:24.407388",
     "status": "completed"
    },
    "tags": []
   },
   "outputs": [
    {
     "name": "stdout",
     "output_type": "stream",
     "text": [
      "              precision    recall  f1-score   support\n",
      "\n",
      "           0       0.96      0.85      0.90       215\n",
      "           1       0.70      0.91      0.79        85\n",
      "\n",
      "    accuracy                           0.86       300\n",
      "   macro avg       0.83      0.88      0.84       300\n",
      "weighted avg       0.88      0.86      0.87       300\n",
      "\n",
      "[[182  33]\n",
      " [  8  77]]\n",
      "ROC-AUC: 0.9207113543091655\n"
     ]
    }
   ],
   "source": [
    "from sklearn.linear_model import LogisticRegression\n",
    "\n",
    "# Initialize the model with class weights (balanced)\n",
    "model = LogisticRegression(class_weight='balanced', random_state=42)\n",
    "model.fit(X_train, y_train)\n",
    "\n",
    "# Predict the target on test data\n",
    "y_pred = model.predict(X_test)\n",
    "\n",
    "# Evaluate the model\n",
    "print(classification_report(y_test, y_pred))\n",
    "print(confusion_matrix(y_test, y_pred))\n",
    "\n",
    "# Calculate ROC-AUC score\n",
    "roc_auc = roc_auc_score(y_test, model.predict_proba(X_test)[:, 1])\n",
    "print(f\"ROC-AUC: {roc_auc}\")\n"
   ]
  },
  {
   "cell_type": "code",
   "execution_count": 43,
   "id": "f4bc0fe3",
   "metadata": {
    "execution": {
     "iopub.execute_input": "2025-03-19T13:13:24.513142Z",
     "iopub.status.busy": "2025-03-19T13:13:24.512849Z",
     "iopub.status.idle": "2025-03-19T13:13:24.747827Z",
     "shell.execute_reply": "2025-03-19T13:13:24.746780Z"
    },
    "papermill": {
     "duration": 0.258384,
     "end_time": "2025-03-19T13:13:24.749330",
     "exception": false,
     "start_time": "2025-03-19T13:13:24.490946",
     "status": "completed"
    },
    "tags": []
   },
   "outputs": [
    {
     "name": "stdout",
     "output_type": "stream",
     "text": [
      "              precision    recall  f1-score   support\n",
      "\n",
      "           0       0.94      0.95      0.94       215\n",
      "           1       0.88      0.84      0.86        85\n",
      "\n",
      "    accuracy                           0.92       300\n",
      "   macro avg       0.91      0.89      0.90       300\n",
      "weighted avg       0.92      0.92      0.92       300\n",
      "\n",
      "[[205  10]\n",
      " [ 14  71]]\n",
      "ROC-AUC: 0.9210396716826266\n"
     ]
    }
   ],
   "source": [
    "from sklearn.ensemble import RandomForestClassifier\n",
    "\n",
    "model = RandomForestClassifier(random_state=42)\n",
    "model.fit(X_train, y_train)\n",
    "\n",
    "# Predict the target on test data\n",
    "y_pred = model.predict(X_test)\n",
    "\n",
    "# Evaluate the model\n",
    "print(classification_report(y_test, y_pred))\n",
    "print(confusion_matrix(y_test, y_pred))\n",
    "\n",
    "# Calculate ROC-AUC score\n",
    "roc_auc = roc_auc_score(y_test, model.predict_proba(X_test)[:, 1])\n",
    "print(f\"ROC-AUC: {roc_auc}\")\n"
   ]
  },
  {
   "cell_type": "code",
   "execution_count": 44,
   "id": "bbe5ae0b",
   "metadata": {
    "execution": {
     "iopub.execute_input": "2025-03-19T13:13:24.791481Z",
     "iopub.status.busy": "2025-03-19T13:13:24.791232Z",
     "iopub.status.idle": "2025-03-19T13:13:25.259292Z",
     "shell.execute_reply": "2025-03-19T13:13:25.258288Z"
    },
    "papermill": {
     "duration": 0.490659,
     "end_time": "2025-03-19T13:13:25.260790",
     "exception": false,
     "start_time": "2025-03-19T13:13:24.770131",
     "status": "completed"
    },
    "tags": []
   },
   "outputs": [
    {
     "name": "stdout",
     "output_type": "stream",
     "text": [
      "              precision    recall  f1-score   support\n",
      "\n",
      "           0       0.94      0.94      0.94       215\n",
      "           1       0.85      0.86      0.85        85\n",
      "\n",
      "    accuracy                           0.92       300\n",
      "   macro avg       0.90      0.90      0.90       300\n",
      "weighted avg       0.92      0.92      0.92       300\n",
      "\n",
      "[[202  13]\n",
      " [ 12  73]]\n",
      "ROC-AUC: 0.916607387140903\n"
     ]
    }
   ],
   "source": [
    "import xgboost as xgb\n",
    "\n",
    "# Define the model\n",
    "model = xgb.XGBClassifier(scale_pos_weight= (y_train == 0).sum() / (y_train == 1).sum(), random_state=42)\n",
    "\n",
    "# Train the model\n",
    "model.fit(X_train, y_train)\n",
    "\n",
    "# Predict the target on test data\n",
    "y_pred = model.predict(X_test)\n",
    "\n",
    "# Evaluate the model\n",
    "print(classification_report(y_test, y_pred))\n",
    "print(confusion_matrix(y_test, y_pred))\n",
    "\n",
    "# Calculate ROC-AUC score\n",
    "roc_auc = roc_auc_score(y_test, model.predict_proba(X_test)[:, 1])\n",
    "print(f\"ROC-AUC: {roc_auc}\")\n"
   ]
  },
  {
   "cell_type": "code",
   "execution_count": 45,
   "id": "2e008420",
   "metadata": {
    "execution": {
     "iopub.execute_input": "2025-03-19T13:13:25.305427Z",
     "iopub.status.busy": "2025-03-19T13:13:25.305175Z",
     "iopub.status.idle": "2025-03-19T13:13:31.147462Z",
     "shell.execute_reply": "2025-03-19T13:13:31.146354Z"
    },
    "papermill": {
     "duration": 5.864904,
     "end_time": "2025-03-19T13:13:31.148851",
     "exception": false,
     "start_time": "2025-03-19T13:13:25.283947",
     "status": "completed"
    },
    "tags": []
   },
   "outputs": [
    {
     "name": "stdout",
     "output_type": "stream",
     "text": [
      "0:\tlearn: 0.6890830\ttotal: 60.2ms\tremaining: 1m\n",
      "100:\tlearn: 0.4030363\ttotal: 564ms\tremaining: 5.02s\n",
      "200:\tlearn: 0.2716897\ttotal: 1.08s\tremaining: 4.3s\n",
      "300:\tlearn: 0.2019491\ttotal: 1.62s\tremaining: 3.76s\n",
      "400:\tlearn: 0.1601530\ttotal: 2.12s\tremaining: 3.17s\n",
      "500:\tlearn: 0.1303868\ttotal: 2.67s\tremaining: 2.65s\n",
      "600:\tlearn: 0.1102156\ttotal: 3.19s\tremaining: 2.12s\n",
      "700:\tlearn: 0.0937031\ttotal: 3.73s\tremaining: 1.59s\n",
      "800:\tlearn: 0.0808391\ttotal: 4.25s\tremaining: 1.05s\n",
      "900:\tlearn: 0.0708156\ttotal: 4.76s\tremaining: 523ms\n",
      "999:\tlearn: 0.0625324\ttotal: 5.27s\tremaining: 0us\n",
      "Classification Report:\n",
      "              precision    recall  f1-score   support\n",
      "\n",
      "           0       0.96      0.96      0.96       215\n",
      "           1       0.89      0.89      0.89        85\n",
      "\n",
      "    accuracy                           0.94       300\n",
      "   macro avg       0.93      0.93      0.93       300\n",
      "weighted avg       0.94      0.94      0.94       300\n",
      "\n",
      "Confusion Matrix:\n",
      "[[206   9]\n",
      " [  9  76]]\n",
      "ROC-AUC: 0.9312175102599178\n"
     ]
    }
   ],
   "source": [
    "from catboost import CatBoostClassifier\n",
    "\n",
    "# Initialize the CatBoost model\n",
    "model = CatBoostClassifier(iterations=1000,\n",
    "                           learning_rate=0.005,\n",
    "                           depth=10,\n",
    "                           cat_features=[],\n",
    "                           verbose=100,\n",
    "                           random_seed=42,\n",
    "                           class_weights=[1, 2]\n",
    "                          )\n",
    "\n",
    "model.fit(X_train, y_train)\n",
    "y_pred = model.predict(X_test)\n",
    "\n",
    "# Evaluate the model\n",
    "print(\"Classification Report:\")\n",
    "print(classification_report(y_test, y_pred))\n",
    "\n",
    "print(\"Confusion Matrix:\")\n",
    "print(confusion_matrix(y_test, y_pred))\n",
    "\n",
    "# Calculate ROC-AUC score\n",
    "roc_auc = roc_auc_score(y_test, model.predict_proba(X_test)[:, 1])\n",
    "print(f\"ROC-AUC: {roc_auc}\")"
   ]
  },
  {
   "cell_type": "code",
   "execution_count": 46,
   "id": "334386ad",
   "metadata": {
    "execution": {
     "iopub.execute_input": "2025-03-19T13:13:31.192987Z",
     "iopub.status.busy": "2025-03-19T13:13:31.192715Z",
     "iopub.status.idle": "2025-03-19T13:13:31.198564Z",
     "shell.execute_reply": "2025-03-19T13:13:31.197720Z"
    },
    "papermill": {
     "duration": 0.028787,
     "end_time": "2025-03-19T13:13:31.199683",
     "exception": false,
     "start_time": "2025-03-19T13:13:31.170896",
     "status": "completed"
    },
    "tags": []
   },
   "outputs": [
    {
     "data": {
      "text/plain": [
       "Age                      float64\n",
       "Gender                     int64\n",
       "ExperienceYears          float64\n",
       "PreviousCompanies        float64\n",
       "DistanceFromCompany      float64\n",
       "InterviewScore           float64\n",
       "SkillScore               float64\n",
       "PersonalityScore         float64\n",
       "EducationLevel_2            bool\n",
       "EducationLevel_3            bool\n",
       "EducationLevel_4            bool\n",
       "RecruitmentStrategy_1       bool\n",
       "RecruitmentStrategy_2       bool\n",
       "RecruitmentStrategy_3       bool\n",
       "dtype: object"
      ]
     },
     "execution_count": 46,
     "metadata": {},
     "output_type": "execute_result"
    }
   ],
   "source": [
    "X_train.dtypes"
   ]
  },
  {
   "cell_type": "markdown",
   "id": "04d4a108",
   "metadata": {
    "papermill": {
     "duration": 0.020924,
     "end_time": "2025-03-19T13:13:31.241346",
     "exception": false,
     "start_time": "2025-03-19T13:13:31.220422",
     "status": "completed"
    },
    "tags": []
   },
   "source": [
    "# Training Neural Network model"
   ]
  },
  {
   "cell_type": "code",
   "execution_count": 47,
   "id": "ac2e67c4",
   "metadata": {
    "execution": {
     "iopub.execute_input": "2025-03-19T13:13:31.283238Z",
     "iopub.status.busy": "2025-03-19T13:13:31.282979Z",
     "iopub.status.idle": "2025-03-19T13:13:31.286042Z",
     "shell.execute_reply": "2025-03-19T13:13:31.285476Z"
    },
    "papermill": {
     "duration": 0.025316,
     "end_time": "2025-03-19T13:13:31.287194",
     "exception": false,
     "start_time": "2025-03-19T13:13:31.261878",
     "status": "completed"
    },
    "tags": []
   },
   "outputs": [],
   "source": [
    "import torch\n",
    "import torch.nn as nn\n",
    "import torch.optim as optim\n",
    "from torch.utils.data import DataLoader, TensorDataset"
   ]
  },
  {
   "cell_type": "code",
   "execution_count": 48,
   "id": "b8c854e9",
   "metadata": {
    "execution": {
     "iopub.execute_input": "2025-03-19T13:13:31.329649Z",
     "iopub.status.busy": "2025-03-19T13:13:31.329440Z",
     "iopub.status.idle": "2025-03-19T13:13:31.336497Z",
     "shell.execute_reply": "2025-03-19T13:13:31.335887Z"
    },
    "papermill": {
     "duration": 0.029491,
     "end_time": "2025-03-19T13:13:31.337602",
     "exception": false,
     "start_time": "2025-03-19T13:13:31.308111",
     "status": "completed"
    },
    "tags": []
   },
   "outputs": [],
   "source": [
    "boolean_columns = ['EducationLevel_2', 'EducationLevel_3', 'EducationLevel_4', \n",
    "                   'RecruitmentStrategy_1', 'RecruitmentStrategy_2', 'RecruitmentStrategy_3']\n",
    "\n",
    "# Convert the boolean columns to integers\n",
    "X_train[boolean_columns] = X_train[boolean_columns].astype(int)\n",
    "X_test[boolean_columns] = X_test[boolean_columns].astype(int)"
   ]
  },
  {
   "cell_type": "code",
   "execution_count": 49,
   "id": "4332b7e0",
   "metadata": {
    "execution": {
     "iopub.execute_input": "2025-03-19T13:13:31.380112Z",
     "iopub.status.busy": "2025-03-19T13:13:31.379844Z",
     "iopub.status.idle": "2025-03-19T13:13:31.384872Z",
     "shell.execute_reply": "2025-03-19T13:13:31.384236Z"
    },
    "papermill": {
     "duration": 0.027439,
     "end_time": "2025-03-19T13:13:31.385996",
     "exception": false,
     "start_time": "2025-03-19T13:13:31.358557",
     "status": "completed"
    },
    "tags": []
   },
   "outputs": [
    {
     "data": {
      "text/plain": [
       "Age                      float64\n",
       "Gender                     int64\n",
       "ExperienceYears          float64\n",
       "PreviousCompanies        float64\n",
       "DistanceFromCompany      float64\n",
       "InterviewScore           float64\n",
       "SkillScore               float64\n",
       "PersonalityScore         float64\n",
       "EducationLevel_2           int64\n",
       "EducationLevel_3           int64\n",
       "EducationLevel_4           int64\n",
       "RecruitmentStrategy_1      int64\n",
       "RecruitmentStrategy_2      int64\n",
       "RecruitmentStrategy_3      int64\n",
       "dtype: object"
      ]
     },
     "execution_count": 49,
     "metadata": {},
     "output_type": "execute_result"
    }
   ],
   "source": [
    "X_train.dtypes"
   ]
  },
  {
   "cell_type": "code",
   "execution_count": 50,
   "id": "edbef932",
   "metadata": {
    "execution": {
     "iopub.execute_input": "2025-03-19T13:13:31.428767Z",
     "iopub.status.busy": "2025-03-19T13:13:31.428563Z",
     "iopub.status.idle": "2025-03-19T13:13:31.460187Z",
     "shell.execute_reply": "2025-03-19T13:13:31.459600Z"
    },
    "papermill": {
     "duration": 0.054306,
     "end_time": "2025-03-19T13:13:31.461304",
     "exception": false,
     "start_time": "2025-03-19T13:13:31.406998",
     "status": "completed"
    },
    "tags": []
   },
   "outputs": [],
   "source": [
    "#Making It tensor\n",
    "X_train_tensor = torch.tensor(X_train.values, dtype=torch.float32)\n",
    "y_train_tensor = torch.tensor(y_train.values, dtype=torch.float32).view(-1, 1)  # Ensure target is column vector\n",
    "X_test_tensor = torch.tensor(X_test.values, dtype=torch.float32)\n",
    "y_test_tensor = torch.tensor(y_test.values, dtype=torch.float32).view(-1, 1)"
   ]
  },
  {
   "cell_type": "code",
   "execution_count": 51,
   "id": "debf7d9d",
   "metadata": {
    "execution": {
     "iopub.execute_input": "2025-03-19T13:13:31.504180Z",
     "iopub.status.busy": "2025-03-19T13:13:31.503927Z",
     "iopub.status.idle": "2025-03-19T13:13:31.507990Z",
     "shell.execute_reply": "2025-03-19T13:13:31.507425Z"
    },
    "papermill": {
     "duration": 0.026908,
     "end_time": "2025-03-19T13:13:31.509130",
     "exception": false,
     "start_time": "2025-03-19T13:13:31.482222",
     "status": "completed"
    },
    "tags": []
   },
   "outputs": [],
   "source": [
    "# Create DataLoader for batch processing\n",
    "\n",
    "train_data = TensorDataset(X_train_tensor, y_train_tensor)\n",
    "test_data = TensorDataset(X_test_tensor, y_test_tensor)"
   ]
  },
  {
   "cell_type": "code",
   "execution_count": 52,
   "id": "8e640ee0",
   "metadata": {
    "execution": {
     "iopub.execute_input": "2025-03-19T13:13:31.552096Z",
     "iopub.status.busy": "2025-03-19T13:13:31.551866Z",
     "iopub.status.idle": "2025-03-19T13:13:31.555351Z",
     "shell.execute_reply": "2025-03-19T13:13:31.554675Z"
    },
    "papermill": {
     "duration": 0.026307,
     "end_time": "2025-03-19T13:13:31.556521",
     "exception": false,
     "start_time": "2025-03-19T13:13:31.530214",
     "status": "completed"
    },
    "tags": []
   },
   "outputs": [],
   "source": [
    "#Creating data loader\n",
    "\n",
    "train_loader = DataLoader(train_data, batch_size=32, shuffle=True)\n",
    "test_loader = DataLoader(test_data, batch_size=32, shuffle=False)"
   ]
  },
  {
   "cell_type": "code",
   "execution_count": 53,
   "id": "a80649c0",
   "metadata": {
    "execution": {
     "iopub.execute_input": "2025-03-19T13:13:31.599480Z",
     "iopub.status.busy": "2025-03-19T13:13:31.599278Z",
     "iopub.status.idle": "2025-03-19T13:13:31.603516Z",
     "shell.execute_reply": "2025-03-19T13:13:31.602754Z"
    },
    "papermill": {
     "duration": 0.027307,
     "end_time": "2025-03-19T13:13:31.604685",
     "exception": false,
     "start_time": "2025-03-19T13:13:31.577378",
     "status": "completed"
    },
    "tags": []
   },
   "outputs": [
    {
     "data": {
      "text/plain": [
       "(1200, 38)"
      ]
     },
     "execution_count": 53,
     "metadata": {},
     "output_type": "execute_result"
    }
   ],
   "source": [
    "len(train_data), len(train_loader)"
   ]
  },
  {
   "cell_type": "code",
   "execution_count": 54,
   "id": "8f947dec",
   "metadata": {
    "execution": {
     "iopub.execute_input": "2025-03-19T13:13:31.647295Z",
     "iopub.status.busy": "2025-03-19T13:13:31.647004Z",
     "iopub.status.idle": "2025-03-19T13:13:31.651758Z",
     "shell.execute_reply": "2025-03-19T13:13:31.650940Z"
    },
    "papermill": {
     "duration": 0.027525,
     "end_time": "2025-03-19T13:13:31.652943",
     "exception": false,
     "start_time": "2025-03-19T13:13:31.625418",
     "status": "completed"
    },
    "tags": []
   },
   "outputs": [],
   "source": [
    "class NeuralNetwork(nn.Module):\n",
    "    def __init__(self, input_dim):\n",
    "        super(NeuralNetwork, self).__init__()\n",
    "        self.fc1 = nn.Linear(input_dim, 64)\n",
    "        self.fc2 = nn.Linear(64, 32)\n",
    "        self.fc3 = nn.Linear(32, 1)\n",
    "        self.relu = nn.ReLU()\n",
    "        self.sigmoid = nn.Sigmoid()\n",
    "\n",
    "    \n",
    "    def forward(self, x):\n",
    "        x = self.relu(self.fc1(x))  \n",
    "        x = self.relu(self.fc2(x))\n",
    "        x = self.sigmoid(self.fc3(x))\n",
    "        return x"
   ]
  },
  {
   "cell_type": "code",
   "execution_count": 55,
   "id": "6fdc09f2",
   "metadata": {
    "execution": {
     "iopub.execute_input": "2025-03-19T13:13:31.696918Z",
     "iopub.status.busy": "2025-03-19T13:13:31.696645Z",
     "iopub.status.idle": "2025-03-19T13:13:31.709653Z",
     "shell.execute_reply": "2025-03-19T13:13:31.709012Z"
    },
    "papermill": {
     "duration": 0.036658,
     "end_time": "2025-03-19T13:13:31.710876",
     "exception": false,
     "start_time": "2025-03-19T13:13:31.674218",
     "status": "completed"
    },
    "tags": []
   },
   "outputs": [],
   "source": [
    "# Initialize the model for 1 feature \n",
    "input_dim = X_train.shape[1]\n",
    "model = NeuralNetwork(input_dim)"
   ]
  },
  {
   "cell_type": "code",
   "execution_count": 56,
   "id": "b5d13198",
   "metadata": {
    "execution": {
     "iopub.execute_input": "2025-03-19T13:13:31.755994Z",
     "iopub.status.busy": "2025-03-19T13:13:31.755680Z",
     "iopub.status.idle": "2025-03-19T13:13:35.223382Z",
     "shell.execute_reply": "2025-03-19T13:13:35.222623Z"
    },
    "papermill": {
     "duration": 3.492611,
     "end_time": "2025-03-19T13:13:35.224939",
     "exception": false,
     "start_time": "2025-03-19T13:13:31.732328",
     "status": "completed"
    },
    "tags": []
   },
   "outputs": [],
   "source": [
    "# Loss function and optimizer\n",
    "num_epochs = 20\n",
    "criterion = nn.BCEWithLogitsLoss()\n",
    "optimizer = optim.Adam(model.parameters(), lr=0.01)"
   ]
  },
  {
   "cell_type": "code",
   "execution_count": 57,
   "id": "c7cbb7c2",
   "metadata": {
    "execution": {
     "iopub.execute_input": "2025-03-19T13:13:35.269827Z",
     "iopub.status.busy": "2025-03-19T13:13:35.269445Z",
     "iopub.status.idle": "2025-03-19T13:13:36.653344Z",
     "shell.execute_reply": "2025-03-19T13:13:36.652554Z"
    },
    "papermill": {
     "duration": 1.407051,
     "end_time": "2025-03-19T13:13:36.654632",
     "exception": false,
     "start_time": "2025-03-19T13:13:35.247581",
     "status": "completed"
    },
    "tags": []
   },
   "outputs": [
    {
     "name": "stdout",
     "output_type": "stream",
     "text": [
      "Epoch [1/20],    Train Loss: 0.7005,   Train Accuracy: 69.08%, Test Loss: 0.6672,    Test Accuracy: 82.67%\n",
      "Epoch [2/20],    Train Loss: 0.6424,   Train Accuracy: 84.25%, Test Loss: 0.6379,    Test Accuracy: 89.33%\n",
      "Epoch [3/20],    Train Loss: 0.6301,   Train Accuracy: 86.75%, Test Loss: 0.6256,    Test Accuracy: 92.00%\n",
      "Epoch [4/20],    Train Loss: 0.6267,   Train Accuracy: 87.92%, Test Loss: 0.6272,    Test Accuracy: 91.00%\n",
      "Epoch [5/20],    Train Loss: 0.6263,   Train Accuracy: 87.67%, Test Loss: 0.6233,    Test Accuracy: 93.33%\n",
      "Epoch [6/20],    Train Loss: 0.6244,   Train Accuracy: 88.17%, Test Loss: 0.6360,    Test Accuracy: 89.00%\n",
      "Epoch [7/20],    Train Loss: 0.6244,   Train Accuracy: 87.75%, Test Loss: 0.6263,    Test Accuracy: 92.33%\n",
      "Epoch [8/20],    Train Loss: 0.6234,   Train Accuracy: 88.08%, Test Loss: 0.6239,    Test Accuracy: 92.00%\n",
      "Epoch [9/20],    Train Loss: 0.6230,   Train Accuracy: 87.67%, Test Loss: 0.6226,    Test Accuracy: 92.33%\n",
      "Epoch [10/20],    Train Loss: 0.6179,   Train Accuracy: 89.67%, Test Loss: 0.6226,    Test Accuracy: 92.67%\n",
      "Epoch [11/20],    Train Loss: 0.6193,   Train Accuracy: 89.58%, Test Loss: 0.6271,    Test Accuracy: 91.00%\n",
      "Epoch [12/20],    Train Loss: 0.6165,   Train Accuracy: 89.58%, Test Loss: 0.6265,    Test Accuracy: 92.00%\n",
      "Epoch [13/20],    Train Loss: 0.6209,   Train Accuracy: 89.50%, Test Loss: 0.6211,    Test Accuracy: 92.67%\n",
      "Epoch [14/20],    Train Loss: 0.6206,   Train Accuracy: 88.83%, Test Loss: 0.6307,    Test Accuracy: 90.67%\n",
      "Epoch [15/20],    Train Loss: 0.6196,   Train Accuracy: 89.67%, Test Loss: 0.6252,    Test Accuracy: 91.00%\n",
      "Epoch [16/20],    Train Loss: 0.6215,   Train Accuracy: 88.67%, Test Loss: 0.6225,    Test Accuracy: 92.33%\n",
      "Epoch [17/20],    Train Loss: 0.6182,   Train Accuracy: 89.83%, Test Loss: 0.6251,    Test Accuracy: 92.33%\n",
      "Epoch [18/20],    Train Loss: 0.6157,   Train Accuracy: 90.33%, Test Loss: 0.6266,    Test Accuracy: 91.00%\n",
      "Epoch [19/20],    Train Loss: 0.6188,   Train Accuracy: 89.58%, Test Loss: 0.6255,    Test Accuracy: 91.67%\n",
      "Epoch [20/20],    Train Loss: 0.6147,   Train Accuracy: 90.25%, Test Loss: 0.6247,    Test Accuracy: 92.00%\n"
     ]
    }
   ],
   "source": [
    "# Initialize lists to store the loss and accuracy for each epoch\n",
    "train_losses = []\n",
    "train_accuracies = []\n",
    "test_losses = []\n",
    "test_accuracies = []\n",
    "\n",
    "# Training and Testing Loop\n",
    "for epoch in range(num_epochs):\n",
    "    # Training phase\n",
    "    model.train()\n",
    "    running_loss = 0.0\n",
    "    correct = 0\n",
    "    total = 0\n",
    "\n",
    "    for inputs, labels in train_loader:\n",
    "        optimizer.zero_grad()\n",
    "\n",
    "        # Forward pass\n",
    "        outputs = model(inputs)\n",
    "        loss = criterion(outputs, labels)\n",
    "\n",
    "        # Backward pass\n",
    "        loss.backward()\n",
    "        optimizer.step()\n",
    "        running_loss += loss.item()\n",
    "\n",
    "        # For accuracy calculation\n",
    "        predicted = (outputs > 0.5).float()  # Convert logits to binary prediction (0 or 1)\n",
    "        correct += (predicted == labels).sum().item()\n",
    "        total += labels.size(0)\n",
    "\n",
    "    # Calculate training loss and accuracy\n",
    "    train_loss = running_loss / len(train_loader)\n",
    "    train_accuracy = (correct / total) * 100\n",
    "\n",
    "    model.eval()\n",
    "    test_loss = 0.0\n",
    "    correct_test = 0\n",
    "    total_test = 0\n",
    "\n",
    "    with torch.no_grad():  # No need to compute gradients for test phase\n",
    "        for inputs, labels in test_loader:\n",
    "            # Forward pass\n",
    "            outputs = model(inputs)\n",
    "            loss = criterion(outputs, labels)\n",
    "\n",
    "            # Track loss and accuracy\n",
    "            test_loss += loss.item()\n",
    "\n",
    "            # For accuracy calculation\n",
    "            predicted = (outputs > 0.5).float()  # Convert logits to binary prediction\n",
    "            correct_test += (predicted == labels).sum().item()\n",
    "            total_test += labels.size(0)\n",
    "\n",
    "    # Calculate test loss and accuracy\n",
    "    test_loss = test_loss / len(test_loader)\n",
    "    test_accuracy = (correct_test / total_test) * 100\n",
    "\n",
    "    # Store the loss and accuracy values for plotting\n",
    "    train_losses.append(train_loss)\n",
    "    train_accuracies.append(train_accuracy)\n",
    "    test_losses.append(test_loss)\n",
    "    test_accuracies.append(test_accuracy)\n",
    "\n",
    "    # Print the statistics for this epoch\n",
    "    print(f\"Epoch [{epoch+1}/{num_epochs}],    \"\n",
    "          f\"Train Loss: {train_loss:.4f},   Train Accuracy: {train_accuracy:.2f}%, \"\n",
    "          f\"Test Loss: {test_loss:.4f},    Test Accuracy: {test_accuracy:.2f}%\")"
   ]
  },
  {
   "cell_type": "code",
   "execution_count": 58,
   "id": "76878e1c",
   "metadata": {
    "execution": {
     "iopub.execute_input": "2025-03-19T13:13:36.699208Z",
     "iopub.status.busy": "2025-03-19T13:13:36.698950Z",
     "iopub.status.idle": "2025-03-19T13:13:37.094333Z",
     "shell.execute_reply": "2025-03-19T13:13:37.093517Z"
    },
    "papermill": {
     "duration": 0.418915,
     "end_time": "2025-03-19T13:13:37.095879",
     "exception": false,
     "start_time": "2025-03-19T13:13:36.676964",
     "status": "completed"
    },
    "tags": []
   },
   "outputs": [
    {
     "data": {
      "image/png": "[encoded data removed]",
      "text/plain": [
       "<Figure size 1200x600 with 2 Axes>"
      ]
     },
     "metadata": {},
     "output_type": "display_data"
    }
   ],
   "source": [
    "# Plot Training and Test Loss\n",
    "plt.figure(figsize=(12, 6))\n",
    "\n",
    "plt.subplot(1, 2, 1)  # First plot for loss\n",
    "plt.plot(range(1, num_epochs + 1), train_losses, label='Train Loss', color='blue')\n",
    "plt.plot(range(1, num_epochs + 1), test_losses, label='Test Loss', color='red')\n",
    "plt.title('Loss vs Epochs')\n",
    "plt.xlabel('Epochs')\n",
    "plt.ylabel('Loss')\n",
    "plt.legend()\n",
    "\n",
    "# Plot Training and Test Accuracy\n",
    "plt.subplot(1, 2, 2)  # Second plot for accuracy\n",
    "plt.plot(range(1, num_epochs + 1), train_accuracies, label='Train Accuracy', color='blue')\n",
    "plt.plot(range(1, num_epochs + 1), test_accuracies, label='Test Accuracy', color='red')\n",
    "plt.title('Accuracy vs Epochs')\n",
    "plt.xlabel('Epochs')\n",
    "plt.ylabel('Accuracy (%)')\n",
    "plt.legend()\n",
    "\n",
    "# Show the plots\n",
    "plt.tight_layout()\n",
    "plt.show()"
   ]
  }
 ],
 "metadata": {
  "kaggle": {
   "accelerator": "none",
   "dataSources": [
    {
     "datasetId": 5228885,
     "sourceId": 8715385,
     "sourceType": "datasetVersion"
    }
   ],
   "dockerImageVersionId": 30918,
   "isGpuEnabled": false,
   "isInternetEnabled": true,
   "language": "python",
   "sourceType": "notebook"
  },
  "kernelspec": {
   "display_name": "Python 3",
   "language": "python",
   "name": "python3"
  },
  "language_info": {
   "codemirror_mode": {
    "name": "ipython",
    "version": 3
   },
   "file_extension": ".py",
   "mimetype": "text/x-python",
   "name": "python",
   "nbconvert_exporter": "python",
   "pygments_lexer": "ipython3",
   "version": "3.10.12"
  },
  "papermill": {
   "default_parameters": {},
   "duration": 27.166593,
   "end_time": "2025-03-19T13:13:38.641102",
   "environment_variables": {},
   "exception": null,
   "input_path": "__notebook__.ipynb",
   "output_path": "__notebook__.ipynb",
   "parameters": {},
   "start_time": "2025-03-19T13:13:11.474509",
   "version": "2.6.0"
  }
 },
 "nbformat": 4,
 "nbformat_minor": 5
}
