{
 "cells": [
  {
   "cell_type": "code",
   "execution_count": 1,
   "id": "d349eaa2",
   "metadata": {
    "execution": {
     "iopub.execute_input": "2025-03-21T13:03:30.444315Z",
     "iopub.status.busy": "2025-03-21T13:03:30.443926Z",
     "iopub.status.idle": "2025-03-21T13:03:30.449330Z",
     "shell.execute_reply": "2025-03-21T13:03:30.448393Z"
    },
    "papermill": {
     "duration": 0.01401,
     "end_time": "2025-03-21T13:03:30.450787",
     "exception": false,
     "start_time": "2025-03-21T13:03:30.436777",
     "status": "completed"
    },
    "tags": []
   },
   "outputs": [],
   "source": [
    "#This is new Notebook Deep Embeddding Clustering fro visualisation check previous notebook"
   ]
  },
  {
   "cell_type": "code",
   "execution_count": 2,
   "id": "d30558da",
   "metadata": {
    "_cell_guid": "b1076dfc-b9ad-4769-8c92-a6c4dae69d19",
    "_uuid": "8f2839f25d086af736a60e9eeb907d3b93b6e0e5",
    "execution": {
     "iopub.execute_input": "2025-03-21T13:03:30.463899Z",
     "iopub.status.busy": "2025-03-21T13:03:30.463558Z",
     "iopub.status.idle": "2025-03-21T13:03:36.949762Z",
     "shell.execute_reply": "2025-03-21T13:03:36.948579Z"
    },
    "papermill": {
     "duration": 6.494291,
     "end_time": "2025-03-21T13:03:36.951769",
     "exception": false,
     "start_time": "2025-03-21T13:03:30.457478",
     "status": "completed"
    },
    "tags": []
   },
   "outputs": [],
   "source": [
    "import numpy as np\n",
    "import pandas as pd\n",
    "import matplotlib.pyplot as plt\n",
    "import torch\n",
    "import torch.nn as nn\n",
    "import torch.optim as optim\n",
    "from sklearn.datasets import make_blobs\n",
    "from sklearn.preprocessing import StandardScaler\n",
    "from sklearn.cluster import KMeans\n",
    "from sklearn.model_selection import train_test_split\n",
    "from sklearn.metrics import silhouette_score\n"
   ]
  },
  {
   "cell_type": "code",
   "execution_count": 3,
   "id": "541c2671",
   "metadata": {
    "execution": {
     "iopub.execute_input": "2025-03-21T13:03:36.963539Z",
     "iopub.status.busy": "2025-03-21T13:03:36.963024Z",
     "iopub.status.idle": "2025-03-21T13:03:36.989538Z",
     "shell.execute_reply": "2025-03-21T13:03:36.988431Z"
    },
    "papermill": {
     "duration": 0.034165,
     "end_time": "2025-03-21T13:03:36.991258",
     "exception": false,
     "start_time": "2025-03-21T13:03:36.957093",
     "status": "completed"
    },
    "tags": []
   },
   "outputs": [
    {
     "data": {
      "text/plain": [
       "(200, 5)"
      ]
     },
     "execution_count": 3,
     "metadata": {},
     "output_type": "execute_result"
    }
   ],
   "source": [
    "df=pd.read_csv('/kaggle/input/customer-segmentation-tutorial-in-python/Mall_Customers.csv')\n",
    "df.shape"
   ]
  },
  {
   "cell_type": "code",
   "execution_count": 4,
   "id": "889afd34",
   "metadata": {
    "execution": {
     "iopub.execute_input": "2025-03-21T13:03:37.003261Z",
     "iopub.status.busy": "2025-03-21T13:03:37.002862Z",
     "iopub.status.idle": "2025-03-21T13:03:37.036165Z",
     "shell.execute_reply": "2025-03-21T13:03:37.034889Z"
    },
    "papermill": {
     "duration": 0.041383,
     "end_time": "2025-03-21T13:03:37.038117",
     "exception": false,
     "start_time": "2025-03-21T13:03:36.996734",
     "status": "completed"
    },
    "tags": []
   },
   "outputs": [
    {
     "name": "stdout",
     "output_type": "stream",
     "text": [
      "<class 'pandas.core.frame.DataFrame'>\n",
      "RangeIndex: 200 entries, 0 to 199\n",
      "Data columns (total 5 columns):\n",
      " #   Column                  Non-Null Count  Dtype \n",
      "---  ------                  --------------  ----- \n",
      " 0   CustomerID              200 non-null    int64 \n",
      " 1   Gender                  200 non-null    object\n",
      " 2   Age                     200 non-null    int64 \n",
      " 3   Annual Income (k$)      200 non-null    int64 \n",
      " 4   Spending Score (1-100)  200 non-null    int64 \n",
      "dtypes: int64(4), object(1)\n",
      "memory usage: 7.9+ KB\n"
     ]
    }
   ],
   "source": [
    "df.info()"
   ]
  },
  {
   "cell_type": "code",
   "execution_count": 5,
   "id": "33dce759",
   "metadata": {
    "execution": {
     "iopub.execute_input": "2025-03-21T13:03:37.050179Z",
     "iopub.status.busy": "2025-03-21T13:03:37.049798Z",
     "iopub.status.idle": "2025-03-21T13:03:37.056556Z",
     "shell.execute_reply": "2025-03-21T13:03:37.055178Z"
    },
    "papermill": {
     "duration": 0.014794,
     "end_time": "2025-03-21T13:03:37.058475",
     "exception": false,
     "start_time": "2025-03-21T13:03:37.043681",
     "status": "completed"
    },
    "tags": []
   },
   "outputs": [],
   "source": [
    "df = df.drop('CustomerID', axis=1)"
   ]
  },
  {
   "cell_type": "code",
   "execution_count": 6,
   "id": "b15c50b2",
   "metadata": {
    "execution": {
     "iopub.execute_input": "2025-03-21T13:03:37.070325Z",
     "iopub.status.busy": "2025-03-21T13:03:37.069912Z",
     "iopub.status.idle": "2025-03-21T13:03:37.075056Z",
     "shell.execute_reply": "2025-03-21T13:03:37.073980Z"
    },
    "papermill": {
     "duration": 0.01305,
     "end_time": "2025-03-21T13:03:37.076833",
     "exception": false,
     "start_time": "2025-03-21T13:03:37.063783",
     "status": "completed"
    },
    "tags": []
   },
   "outputs": [],
   "source": [
    "df = df.drop('Gender', axis=1)"
   ]
  },
  {
   "cell_type": "code",
   "execution_count": 7,
   "id": "292663a3",
   "metadata": {
    "execution": {
     "iopub.execute_input": "2025-03-21T13:03:37.088771Z",
     "iopub.status.busy": "2025-03-21T13:03:37.088360Z",
     "iopub.status.idle": "2025-03-21T13:03:37.096173Z",
     "shell.execute_reply": "2025-03-21T13:03:37.095200Z"
    },
    "papermill": {
     "duration": 0.015506,
     "end_time": "2025-03-21T13:03:37.097763",
     "exception": false,
     "start_time": "2025-03-21T13:03:37.082257",
     "status": "completed"
    },
    "tags": []
   },
   "outputs": [
    {
     "data": {
      "text/plain": [
       "(195, 3)"
      ]
     },
     "execution_count": 7,
     "metadata": {},
     "output_type": "execute_result"
    }
   ],
   "source": [
    "df = df.drop(df.tail(5).index)\n",
    "df.shape"
   ]
  },
  {
   "cell_type": "code",
   "execution_count": 8,
   "id": "63db2003",
   "metadata": {
    "execution": {
     "iopub.execute_input": "2025-03-21T13:03:37.109793Z",
     "iopub.status.busy": "2025-03-21T13:03:37.109364Z",
     "iopub.status.idle": "2025-03-21T13:03:37.113229Z",
     "shell.execute_reply": "2025-03-21T13:03:37.112039Z"
    },
    "papermill": {
     "duration": 0.011709,
     "end_time": "2025-03-21T13:03:37.114933",
     "exception": false,
     "start_time": "2025-03-21T13:03:37.103224",
     "status": "completed"
    },
    "tags": []
   },
   "outputs": [],
   "source": [
    "# df['Gender'] = df['Gender'].map({'Male': 1, 'Female': 0})"
   ]
  },
  {
   "cell_type": "code",
   "execution_count": 9,
   "id": "ad773652",
   "metadata": {
    "execution": {
     "iopub.execute_input": "2025-03-21T13:03:37.127111Z",
     "iopub.status.busy": "2025-03-21T13:03:37.126722Z",
     "iopub.status.idle": "2025-03-21T13:03:37.151277Z",
     "shell.execute_reply": "2025-03-21T13:03:37.149791Z"
    },
    "papermill": {
     "duration": 0.033067,
     "end_time": "2025-03-21T13:03:37.153562",
     "exception": false,
     "start_time": "2025-03-21T13:03:37.120495",
     "status": "completed"
    },
    "tags": []
   },
   "outputs": [
    {
     "data": {
      "text/html": [
       "<div>\n",
       "<style scoped>\n",
       "    .dataframe tbody tr th:only-of-type {\n",
       "        vertical-align: middle;\n",
       "    }\n",
       "\n",
       "    .dataframe tbody tr th {\n",
       "        vertical-align: top;\n",
       "    }\n",
       "\n",
       "    .dataframe thead th {\n",
       "        text-align: right;\n",
       "    }\n",
       "</style>\n",
       "<table border=\"1\" class=\"dataframe\">\n",
       "  <thead>\n",
       "    <tr style=\"text-align: right;\">\n",
       "      <th></th>\n",
       "      <th>Age</th>\n",
       "      <th>Annual Income (k$)</th>\n",
       "      <th>Spending Score (1-100)</th>\n",
       "    </tr>\n",
       "  </thead>\n",
       "  <tbody>\n",
       "    <tr>\n",
       "      <th>0</th>\n",
       "      <td>19</td>\n",
       "      <td>15</td>\n",
       "      <td>39</td>\n",
       "    </tr>\n",
       "    <tr>\n",
       "      <th>1</th>\n",
       "      <td>21</td>\n",
       "      <td>15</td>\n",
       "      <td>81</td>\n",
       "    </tr>\n",
       "    <tr>\n",
       "      <th>2</th>\n",
       "      <td>20</td>\n",
       "      <td>16</td>\n",
       "      <td>6</td>\n",
       "    </tr>\n",
       "    <tr>\n",
       "      <th>3</th>\n",
       "      <td>23</td>\n",
       "      <td>16</td>\n",
       "      <td>77</td>\n",
       "    </tr>\n",
       "    <tr>\n",
       "      <th>4</th>\n",
       "      <td>31</td>\n",
       "      <td>17</td>\n",
       "      <td>40</td>\n",
       "    </tr>\n",
       "    <tr>\n",
       "      <th>...</th>\n",
       "      <td>...</td>\n",
       "      <td>...</td>\n",
       "      <td>...</td>\n",
       "    </tr>\n",
       "    <tr>\n",
       "      <th>190</th>\n",
       "      <td>34</td>\n",
       "      <td>103</td>\n",
       "      <td>23</td>\n",
       "    </tr>\n",
       "    <tr>\n",
       "      <th>191</th>\n",
       "      <td>32</td>\n",
       "      <td>103</td>\n",
       "      <td>69</td>\n",
       "    </tr>\n",
       "    <tr>\n",
       "      <th>192</th>\n",
       "      <td>33</td>\n",
       "      <td>113</td>\n",
       "      <td>8</td>\n",
       "    </tr>\n",
       "    <tr>\n",
       "      <th>193</th>\n",
       "      <td>38</td>\n",
       "      <td>113</td>\n",
       "      <td>91</td>\n",
       "    </tr>\n",
       "    <tr>\n",
       "      <th>194</th>\n",
       "      <td>47</td>\n",
       "      <td>120</td>\n",
       "      <td>16</td>\n",
       "    </tr>\n",
       "  </tbody>\n",
       "</table>\n",
       "<p>195 rows × 3 columns</p>\n",
       "</div>"
      ],
      "text/plain": [
       "     Age  Annual Income (k$)  Spending Score (1-100)\n",
       "0     19                  15                      39\n",
       "1     21                  15                      81\n",
       "2     20                  16                       6\n",
       "3     23                  16                      77\n",
       "4     31                  17                      40\n",
       "..   ...                 ...                     ...\n",
       "190   34                 103                      23\n",
       "191   32                 103                      69\n",
       "192   33                 113                       8\n",
       "193   38                 113                      91\n",
       "194   47                 120                      16\n",
       "\n",
       "[195 rows x 3 columns]"
      ]
     },
     "execution_count": 9,
     "metadata": {},
     "output_type": "execute_result"
    }
   ],
   "source": [
    "df"
   ]
  },
  {
   "cell_type": "code",
   "execution_count": 10,
   "id": "cca888dc",
   "metadata": {
    "execution": {
     "iopub.execute_input": "2025-03-21T13:03:37.168123Z",
     "iopub.status.busy": "2025-03-21T13:03:37.167589Z",
     "iopub.status.idle": "2025-03-21T13:03:37.195185Z",
     "shell.execute_reply": "2025-03-21T13:03:37.194074Z"
    },
    "papermill": {
     "duration": 0.036778,
     "end_time": "2025-03-21T13:03:37.197198",
     "exception": false,
     "start_time": "2025-03-21T13:03:37.160420",
     "status": "completed"
    },
    "tags": []
   },
   "outputs": [
    {
     "data": {
      "text/html": [
       "<div>\n",
       "<style scoped>\n",
       "    .dataframe tbody tr th:only-of-type {\n",
       "        vertical-align: middle;\n",
       "    }\n",
       "\n",
       "    .dataframe tbody tr th {\n",
       "        vertical-align: top;\n",
       "    }\n",
       "\n",
       "    .dataframe thead th {\n",
       "        text-align: right;\n",
       "    }\n",
       "</style>\n",
       "<table border=\"1\" class=\"dataframe\">\n",
       "  <thead>\n",
       "    <tr style=\"text-align: right;\">\n",
       "      <th></th>\n",
       "      <th>count</th>\n",
       "      <th>mean</th>\n",
       "      <th>std</th>\n",
       "      <th>min</th>\n",
       "      <th>25%</th>\n",
       "      <th>50%</th>\n",
       "      <th>75%</th>\n",
       "      <th>max</th>\n",
       "    </tr>\n",
       "  </thead>\n",
       "  <tbody>\n",
       "    <tr>\n",
       "      <th>Age</th>\n",
       "      <td>195.0</td>\n",
       "      <td>38.953846</td>\n",
       "      <td>14.106477</td>\n",
       "      <td>18.0</td>\n",
       "      <td>28.0</td>\n",
       "      <td>36.0</td>\n",
       "      <td>49.0</td>\n",
       "      <td>70.0</td>\n",
       "    </tr>\n",
       "    <tr>\n",
       "      <th>Annual Income (k$)</th>\n",
       "      <td>195.0</td>\n",
       "      <td>58.800000</td>\n",
       "      <td>24.122668</td>\n",
       "      <td>15.0</td>\n",
       "      <td>40.0</td>\n",
       "      <td>60.0</td>\n",
       "      <td>77.0</td>\n",
       "      <td>120.0</td>\n",
       "    </tr>\n",
       "    <tr>\n",
       "      <th>Spending Score (1-100)</th>\n",
       "      <td>195.0</td>\n",
       "      <td>50.041026</td>\n",
       "      <td>25.756360</td>\n",
       "      <td>1.0</td>\n",
       "      <td>35.0</td>\n",
       "      <td>50.0</td>\n",
       "      <td>72.0</td>\n",
       "      <td>99.0</td>\n",
       "    </tr>\n",
       "  </tbody>\n",
       "</table>\n",
       "</div>"
      ],
      "text/plain": [
       "                        count       mean        std   min   25%   50%   75%  \\\n",
       "Age                     195.0  38.953846  14.106477  18.0  28.0  36.0  49.0   \n",
       "Annual Income (k$)      195.0  58.800000  24.122668  15.0  40.0  60.0  77.0   \n",
       "Spending Score (1-100)  195.0  50.041026  25.756360   1.0  35.0  50.0  72.0   \n",
       "\n",
       "                          max  \n",
       "Age                      70.0  \n",
       "Annual Income (k$)      120.0  \n",
       "Spending Score (1-100)   99.0  "
      ]
     },
     "execution_count": 10,
     "metadata": {},
     "output_type": "execute_result"
    }
   ],
   "source": [
    "df.describe().T"
   ]
  },
  {
   "cell_type": "code",
   "execution_count": 11,
   "id": "ffa5ad37",
   "metadata": {
    "execution": {
     "iopub.execute_input": "2025-03-21T13:03:37.209901Z",
     "iopub.status.busy": "2025-03-21T13:03:37.209543Z",
     "iopub.status.idle": "2025-03-21T13:03:37.213425Z",
     "shell.execute_reply": "2025-03-21T13:03:37.212483Z"
    },
    "papermill": {
     "duration": 0.011959,
     "end_time": "2025-03-21T13:03:37.215019",
     "exception": false,
     "start_time": "2025-03-21T13:03:37.203060",
     "status": "completed"
    },
    "tags": []
   },
   "outputs": [],
   "source": [
    "X=df"
   ]
  },
  {
   "cell_type": "code",
   "execution_count": 12,
   "id": "21f23898",
   "metadata": {
    "execution": {
     "iopub.execute_input": "2025-03-21T13:03:37.228265Z",
     "iopub.status.busy": "2025-03-21T13:03:37.227878Z",
     "iopub.status.idle": "2025-03-21T13:03:37.233401Z",
     "shell.execute_reply": "2025-03-21T13:03:37.232556Z"
    },
    "papermill": {
     "duration": 0.01406,
     "end_time": "2025-03-21T13:03:37.234986",
     "exception": false,
     "start_time": "2025-03-21T13:03:37.220926",
     "status": "completed"
    },
    "tags": []
   },
   "outputs": [
    {
     "data": {
      "text/plain": [
       "(195, 3)"
      ]
     },
     "execution_count": 12,
     "metadata": {},
     "output_type": "execute_result"
    }
   ],
   "source": [
    "X.shape"
   ]
  },
  {
   "cell_type": "code",
   "execution_count": 13,
   "id": "947acdfe",
   "metadata": {
    "execution": {
     "iopub.execute_input": "2025-03-21T13:03:37.248065Z",
     "iopub.status.busy": "2025-03-21T13:03:37.247658Z",
     "iopub.status.idle": "2025-03-21T13:03:37.255097Z",
     "shell.execute_reply": "2025-03-21T13:03:37.254237Z"
    },
    "papermill": {
     "duration": 0.015921,
     "end_time": "2025-03-21T13:03:37.256825",
     "exception": false,
     "start_time": "2025-03-21T13:03:37.240904",
     "status": "completed"
    },
    "tags": []
   },
   "outputs": [],
   "source": [
    "scaler = StandardScaler()\n",
    "X= scaler.fit_transform(X)"
   ]
  },
  {
   "cell_type": "code",
   "execution_count": 14,
   "id": "247a83e9",
   "metadata": {
    "execution": {
     "iopub.execute_input": "2025-03-21T13:03:37.269855Z",
     "iopub.status.busy": "2025-03-21T13:03:37.269468Z",
     "iopub.status.idle": "2025-03-21T13:03:37.275476Z",
     "shell.execute_reply": "2025-03-21T13:03:37.274579Z"
    },
    "papermill": {
     "duration": 0.014443,
     "end_time": "2025-03-21T13:03:37.277185",
     "exception": false,
     "start_time": "2025-03-21T13:03:37.262742",
     "status": "completed"
    },
    "tags": []
   },
   "outputs": [
    {
     "data": {
      "text/plain": [
       "array([-1.27601378, -1.82039326,  1.20508734])"
      ]
     },
     "execution_count": 14,
     "metadata": {},
     "output_type": "execute_result"
    }
   ],
   "source": [
    "X[1]"
   ]
  },
  {
   "cell_type": "code",
   "execution_count": 15,
   "id": "c5a57c47",
   "metadata": {
    "execution": {
     "iopub.execute_input": "2025-03-21T13:03:37.290592Z",
     "iopub.status.busy": "2025-03-21T13:03:37.290241Z",
     "iopub.status.idle": "2025-03-21T13:03:37.295599Z",
     "shell.execute_reply": "2025-03-21T13:03:37.294540Z"
    },
    "papermill": {
     "duration": 0.014052,
     "end_time": "2025-03-21T13:03:37.297365",
     "exception": false,
     "start_time": "2025-03-21T13:03:37.283313",
     "status": "completed"
    },
    "tags": []
   },
   "outputs": [],
   "source": [
    "# Split\n",
    "X_train, X_test = train_test_split(X, test_size=0.3, random_state=42)"
   ]
  },
  {
   "cell_type": "code",
   "execution_count": 16,
   "id": "f4658899",
   "metadata": {
    "execution": {
     "iopub.execute_input": "2025-03-21T13:03:37.310346Z",
     "iopub.status.busy": "2025-03-21T13:03:37.310017Z",
     "iopub.status.idle": "2025-03-21T13:03:37.315404Z",
     "shell.execute_reply": "2025-03-21T13:03:37.314417Z"
    },
    "papermill": {
     "duration": 0.013536,
     "end_time": "2025-03-21T13:03:37.316986",
     "exception": false,
     "start_time": "2025-03-21T13:03:37.303450",
     "status": "completed"
    },
    "tags": []
   },
   "outputs": [
    {
     "data": {
      "text/plain": [
       "((136, 3), (59, 3))"
      ]
     },
     "execution_count": 16,
     "metadata": {},
     "output_type": "execute_result"
    }
   ],
   "source": [
    "X_train.shape, X_test.shape"
   ]
  },
  {
   "cell_type": "code",
   "execution_count": 17,
   "id": "b147a8f1",
   "metadata": {
    "execution": {
     "iopub.execute_input": "2025-03-21T13:03:37.330045Z",
     "iopub.status.busy": "2025-03-21T13:03:37.329670Z",
     "iopub.status.idle": "2025-03-21T13:03:37.362508Z",
     "shell.execute_reply": "2025-03-21T13:03:37.361631Z"
    },
    "papermill": {
     "duration": 0.041387,
     "end_time": "2025-03-21T13:03:37.364317",
     "exception": false,
     "start_time": "2025-03-21T13:03:37.322930",
     "status": "completed"
    },
    "tags": []
   },
   "outputs": [],
   "source": [
    "# Convert data to PyTorch tensors\n",
    "X_tensor = torch.tensor(X, dtype=torch.float32)\n"
   ]
  },
  {
   "cell_type": "code",
   "execution_count": 18,
   "id": "24ceb67a",
   "metadata": {
    "execution": {
     "iopub.execute_input": "2025-03-21T13:03:37.377792Z",
     "iopub.status.busy": "2025-03-21T13:03:37.377428Z",
     "iopub.status.idle": "2025-03-21T13:03:37.383268Z",
     "shell.execute_reply": "2025-03-21T13:03:37.382259Z"
    },
    "papermill": {
     "duration": 0.014509,
     "end_time": "2025-03-21T13:03:37.384997",
     "exception": false,
     "start_time": "2025-03-21T13:03:37.370488",
     "status": "completed"
    },
    "tags": []
   },
   "outputs": [],
   "source": [
    "class Autoencoder(nn.Module):\n",
    "    def __init__(self, input_dim, latent_dim):\n",
    "        super(Autoencoder, self).__init__()\n",
    "        \n",
    "        # Encoder\n",
    "        self.encoder = nn.Sequential(\n",
    "            nn.Linear(input_dim, 128),\n",
    "            nn.ReLU(),\n",
    "            nn.Linear(128, 64),\n",
    "            nn.ReLU(),\n",
    "            nn.Linear(64, latent_dim)\n",
    "        )\n",
    "        \n",
    "        # Decoder\n",
    "        self.decoder = nn.Sequential(\n",
    "            nn.Linear(latent_dim, 64),\n",
    "            nn.ReLU(),\n",
    "            nn.Linear(64, 128),\n",
    "            nn.ReLU(),\n",
    "            nn.Linear(128, input_dim)\n",
    "        )\n",
    "\n",
    "    def forward(self, x):\n",
    "        latent = self.encoder(x)\n",
    "        reconstructed = self.decoder(latent)\n",
    "        return reconstructed, latent\n"
   ]
  },
  {
   "cell_type": "code",
   "execution_count": 19,
   "id": "e56ce899",
   "metadata": {
    "execution": {
     "iopub.execute_input": "2025-03-21T13:03:37.397972Z",
     "iopub.status.busy": "2025-03-21T13:03:37.397607Z",
     "iopub.status.idle": "2025-03-21T13:03:42.908876Z",
     "shell.execute_reply": "2025-03-21T13:03:42.907764Z"
    },
    "papermill": {
     "duration": 5.519599,
     "end_time": "2025-03-21T13:03:42.910582",
     "exception": false,
     "start_time": "2025-03-21T13:03:37.390983",
     "status": "completed"
    },
    "tags": []
   },
   "outputs": [
    {
     "name": "stdout",
     "output_type": "stream",
     "text": [
      "Epoch [20/300], Loss: 0.3895\n",
      "Epoch [40/300], Loss: 0.1799\n",
      "Epoch [60/300], Loss: 0.1253\n",
      "Epoch [80/300], Loss: 0.0778\n",
      "Epoch [100/300], Loss: 0.0569\n",
      "Epoch [120/300], Loss: 0.0474\n",
      "Epoch [140/300], Loss: 0.0416\n",
      "Epoch [160/300], Loss: 0.0376\n",
      "Epoch [180/300], Loss: 0.0346\n",
      "Epoch [200/300], Loss: 0.0320\n",
      "Epoch [220/300], Loss: 0.0298\n",
      "Epoch [240/300], Loss: 0.0279\n",
      "Epoch [260/300], Loss: 0.0264\n",
      "Epoch [280/300], Loss: 0.0251\n",
      "Epoch [300/300], Loss: 0.0241\n"
     ]
    }
   ],
   "source": [
    "# Model configuration\n",
    "input_dim = X.shape[1]\n",
    "latent_dim = 2\n",
    "model = Autoencoder(input_dim, latent_dim)\n",
    "\n",
    "# Optimizer and loss function\n",
    "optimizer = optim.Adam(model.parameters(), lr=0.001)\n",
    "criterion = nn.MSELoss()\n",
    "\n",
    "# Training loop\n",
    "epochs = 300\n",
    "for epoch in range(epochs):\n",
    "    optimizer.zero_grad()\n",
    "    reconstructed, latent = model(X_tensor)\n",
    "    loss = criterion(reconstructed, X_tensor)\n",
    "    loss.backward()\n",
    "    optimizer.step()\n",
    "\n",
    "    if (epoch + 1) % 20 == 0:\n",
    "        print(f'Epoch [{epoch + 1}/{epochs}], Loss: {loss.item():.4f}')\n"
   ]
  },
  {
   "cell_type": "code",
   "execution_count": 20,
   "id": "ada53f3b",
   "metadata": {
    "execution": {
     "iopub.execute_input": "2025-03-21T13:03:42.925328Z",
     "iopub.status.busy": "2025-03-21T13:03:42.924784Z",
     "iopub.status.idle": "2025-03-21T13:03:43.378815Z",
     "shell.execute_reply": "2025-03-21T13:03:43.377755Z"
    },
    "papermill": {
     "duration": 0.46295,
     "end_time": "2025-03-21T13:03:43.380431",
     "exception": false,
     "start_time": "2025-03-21T13:03:42.917481",
     "status": "completed"
    },
    "tags": []
   },
   "outputs": [
    {
     "name": "stderr",
     "output_type": "stream",
     "text": [
      "/usr/local/lib/python3.10/dist-packages/sklearn/cluster/_kmeans.py:870: FutureWarning: The default value of `n_init` will change from 10 to 'auto' in 1.4. Set the value of `n_init` explicitly to suppress the warning\n",
      "  warnings.warn(\n"
     ]
    },
    {
     "data": {
      "image/png": "[encoded data removed]",
      "text/plain": [
       "<Figure size 640x480 with 2 Axes>"
      ]
     },
     "metadata": {},
     "output_type": "display_data"
    }
   ],
   "source": [
    "# Extract latent features\n",
    "with torch.no_grad():\n",
    "    latent_features = model.encoder(X_tensor).detach().numpy()\n",
    "\n",
    "# Apply K-means clustering\n",
    "kmeans = KMeans(n_clusters=5, random_state=42)\n",
    "clusters = kmeans.fit_predict(latent_features)\n",
    "\n",
    "# Visualize the clusters\n",
    "plt.scatter(latent_features[:, 0], latent_features[:, 1], c=clusters, cmap='viridis', marker='o')\n",
    "plt.title('Clustering in Latent Space (K-means)')\n",
    "plt.xlabel('Latent Dimension 1')\n",
    "plt.ylabel('Latent Dimension 2')\n",
    "plt.colorbar(label='Cluster')\n",
    "plt.show()\n"
   ]
  },
  {
   "cell_type": "code",
   "execution_count": 21,
   "id": "5c515702",
   "metadata": {
    "execution": {
     "iopub.execute_input": "2025-03-21T13:03:43.397029Z",
     "iopub.status.busy": "2025-03-21T13:03:43.396636Z",
     "iopub.status.idle": "2025-03-21T13:03:43.402586Z",
     "shell.execute_reply": "2025-03-21T13:03:43.401538Z"
    },
    "papermill": {
     "duration": 0.016171,
     "end_time": "2025-03-21T13:03:43.404262",
     "exception": false,
     "start_time": "2025-03-21T13:03:43.388091",
     "status": "completed"
    },
    "tags": []
   },
   "outputs": [],
   "source": [
    "class ClusteringLayer(nn.Module):\n",
    "    def __init__(self, n_clusters, latent_dim):\n",
    "        super(ClusteringLayer, self).__init__()\n",
    "        self.n_clusters = n_clusters\n",
    "        self.latent_dim = latent_dim\n",
    "        self.centroids = nn.Parameter(torch.Tensor(n_clusters, latent_dim))\n",
    "        nn.init.xavier_uniform_(self.centroids)\n",
    "\n",
    "    def forward(self, x):\n",
    "        q = 1.0 / (1.0 + torch.sum((x.unsqueeze(1) - self.centroids) ** 2, dim=2))\n",
    "        q = (q.t() / torch.sum(q, dim=1)).t()\n",
    "        return q"
   ]
  },
  {
   "cell_type": "code",
   "execution_count": 22,
   "id": "16f9df91",
   "metadata": {
    "execution": {
     "iopub.execute_input": "2025-03-21T13:03:43.421024Z",
     "iopub.status.busy": "2025-03-21T13:03:43.420581Z",
     "iopub.status.idle": "2025-03-21T13:03:43.426061Z",
     "shell.execute_reply": "2025-03-21T13:03:43.425046Z"
    },
    "papermill": {
     "duration": 0.015615,
     "end_time": "2025-03-21T13:03:43.427770",
     "exception": false,
     "start_time": "2025-03-21T13:03:43.412155",
     "status": "completed"
    },
    "tags": []
   },
   "outputs": [],
   "source": [
    "class DEC(nn.Module):\n",
    "    def __init__(self, autoencoder, clustering_layer):\n",
    "        super(DEC, self).__init__()\n",
    "        self.autoencoder = autoencoder\n",
    "        self.clustering_layer = clustering_layer\n",
    "\n",
    "    def forward(self, x):\n",
    "        _, latent = self.autoencoder(x)\n",
    "        q = self.clustering_layer(latent)\n",
    "        return q, latent"
   ]
  },
  {
   "cell_type": "code",
   "execution_count": 23,
   "id": "cd2f7592",
   "metadata": {
    "execution": {
     "iopub.execute_input": "2025-03-21T13:03:43.444320Z",
     "iopub.status.busy": "2025-03-21T13:03:43.443926Z",
     "iopub.status.idle": "2025-03-21T13:03:43.938349Z",
     "shell.execute_reply": "2025-03-21T13:03:43.937083Z"
    },
    "papermill": {
     "duration": 0.504789,
     "end_time": "2025-03-21T13:03:43.940220",
     "exception": false,
     "start_time": "2025-03-21T13:03:43.435431",
     "status": "completed"
    },
    "tags": []
   },
   "outputs": [
    {
     "name": "stdout",
     "output_type": "stream",
     "text": [
      "Epoch [20/200], Loss: 0.0780\n",
      "Epoch [40/200], Loss: 0.0832\n",
      "Epoch [60/200], Loss: 0.0847\n",
      "Epoch [80/200], Loss: 0.0860\n",
      "Epoch [100/200], Loss: 0.0875\n",
      "Epoch [120/200], Loss: 0.0889\n",
      "Epoch [140/200], Loss: 0.0902\n",
      "Epoch [160/200], Loss: 0.0918\n",
      "Epoch [180/200], Loss: 0.0934\n",
      "Epoch [200/200], Loss: 0.0948\n"
     ]
    }
   ],
   "source": [
    "def target_distribution(q):\n",
    "    p = q ** 2 / q.sum(0)\n",
    "    p = (p.t() / p.sum(1)).t()\n",
    "    return p\n",
    "\n",
    "# Initialize DEC model\n",
    "n_clusters = 4\n",
    "clustering_layer = ClusteringLayer(n_clusters, latent_dim)\n",
    "dec_model = DEC(model, clustering_layer)\n",
    "\n",
    "# Optimizer\n",
    "optimizer = optim.Adam(dec_model.parameters(), lr=0.001)\n",
    "\n",
    "# DEC training\n",
    "epochs = 200\n",
    "for epoch in range(epochs):\n",
    "    optimizer.zero_grad()\n",
    "    \n",
    "    q, latent = dec_model(X_tensor)\n",
    "    \n",
    "    # Target distribution\n",
    "    p = target_distribution(q).detach()\n",
    "    \n",
    "    # KL divergence loss\n",
    "    loss = torch.nn.functional.kl_div(q.log(), p, reduction='batchmean')\n",
    "    \n",
    "    loss.backward()\n",
    "    optimizer.step()\n",
    "\n",
    "    if (epoch + 1) % 20 == 0:\n",
    "        print(f'Epoch [{epoch + 1}/{epochs}], Loss: {loss.item():.4f}')\n"
   ]
  },
  {
   "cell_type": "code",
   "execution_count": 24,
   "id": "3e3f37b6",
   "metadata": {
    "execution": {
     "iopub.execute_input": "2025-03-21T13:03:43.957190Z",
     "iopub.status.busy": "2025-03-21T13:03:43.956777Z",
     "iopub.status.idle": "2025-03-21T13:03:44.242993Z",
     "shell.execute_reply": "2025-03-21T13:03:44.241889Z"
    },
    "papermill": {
     "duration": 0.296462,
     "end_time": "2025-03-21T13:03:44.244790",
     "exception": false,
     "start_time": "2025-03-21T13:03:43.948328",
     "status": "completed"
    },
    "tags": []
   },
   "outputs": [
    {
     "name": "stderr",
     "output_type": "stream",
     "text": [
      "/usr/local/lib/python3.10/dist-packages/sklearn/cluster/_kmeans.py:870: FutureWarning: The default value of `n_init` will change from 10 to 'auto' in 1.4. Set the value of `n_init` explicitly to suppress the warning\n",
      "  warnings.warn(\n"
     ]
    },
    {
     "data": {
      "image/png": "[encoded data removed]",
      "text/plain": [
       "<Figure size 640x480 with 2 Axes>"
      ]
     },
     "metadata": {},
     "output_type": "display_data"
    }
   ],
   "source": [
    "# Extract latent features\n",
    "with torch.no_grad():\n",
    "    _, latent_features = dec_model(X_tensor)\n",
    "\n",
    "# Apply K-means clustering\n",
    "kmeans = KMeans(n_clusters=n_clusters, random_state=42)\n",
    "clusters = kmeans.fit_predict(latent_features)\n",
    "\n",
    "# Plot clusters\n",
    "plt.scatter(latent_features[:, 0], latent_features[:, 1], c=clusters, cmap='viridis')\n",
    "plt.title('Deep Embedded Clustering (DEC)')\n",
    "plt.xlabel('Latent Dimension 1')\n",
    "plt.ylabel('Latent Dimension 2')\n",
    "plt.colorbar(label='Cluster')\n",
    "plt.show()\n"
   ]
  }
 ],
 "metadata": {
  "kaggle": {
   "accelerator": "none",
   "dataSources": [
    {
     "datasetId": 42674,
     "sourceId": 74935,
     "sourceType": "datasetVersion"
    }
   ],
   "dockerImageVersionId": 30918,
   "isGpuEnabled": false,
   "isInternetEnabled": true,
   "language": "python",
   "sourceType": "notebook"
  },
  "kernelspec": {
   "display_name": "Python 3",
   "language": "python",
   "name": "python3"
  },
  "language_info": {
   "codemirror_mode": {
    "name": "ipython",
    "version": 3
   },
   "file_extension": ".py",
   "mimetype": "text/x-python",
   "name": "python",
   "nbconvert_exporter": "python",
   "pygments_lexer": "ipython3",
   "version": "3.10.12"
  },
  "papermill": {
   "default_parameters": {},
   "duration": 18.428709,
   "end_time": "2025-03-21T13:03:46.076768",
   "environment_variables": {},
   "exception": null,
   "input_path": "__notebook__.ipynb",
   "output_path": "__notebook__.ipynb",
   "parameters": {},
   "start_time": "2025-03-21T13:03:27.648059",
   "version": "2.6.0"
  }
 },
 "nbformat": 4,
 "nbformat_minor": 5
}
